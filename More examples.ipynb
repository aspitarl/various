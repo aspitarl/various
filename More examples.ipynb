{
 "cells": [
  {
   "cell_type": "markdown",
   "metadata": {},
   "source": [
    "# More examples\n",
    "\n",
    "> [<i class=\"fa fa-2x fa-paper-plane text-info fa-fw\"> </i> Simple example](./Simple example.ipynb)\n",
    ">\n",
    "> <i class=\"fa fa-2x fa-space-shuttle text-info fa-fw\"> </i> Advanced examples\n",
    ">\n",
    "> [<i class=\"fa fa-2x fa-link text-info fa-fw\"> </i> Linking and Layout](./Linking and Layout.ipynb)\n",
    ">\n",
    "> [<i class=\"fa fa-2x fa-image text-info fa-fw\"> </i> Exporting Images](./Exporting Images.ipynb)"
   ]
  },
  {
   "cell_type": "code",
   "execution_count": 1,
   "metadata": {},
   "outputs": [],
   "source": [
    "from ipysankeywidget import SankeyWidget\n",
    "from ipywidgets import Layout"
   ]
  },
  {
   "cell_type": "markdown",
   "metadata": {},
   "source": [
    "> <i class=\"fa fa-gears fa-2x fa-fw text-info\"></i> A convenience factory function"
   ]
  },
  {
   "cell_type": "code",
   "execution_count": 2,
   "metadata": {},
   "outputs": [],
   "source": [
    "layout = Layout(width=\"300\", height=\"200\")\n",
    "def sankey(margin_top=10, **value):\n",
    "    \"\"\"Show SankeyWidget with default values for size and margins\"\"\"\n",
    "    return SankeyWidget(layout=layout,\n",
    "                        margins=dict(top=margin_top, bottom=0, left=30, right=60),\n",
    "                        **value)"
   ]
  },
  {
   "cell_type": "markdown",
   "metadata": {},
   "source": [
    "## Rank assignment"
   ]
  },
  {
   "cell_type": "markdown",
   "metadata": {},
   "source": [
    "### Rank sets"
   ]
  },
  {
   "cell_type": "markdown",
   "metadata": {},
   "source": [
    "You can adjust the left-right placement of nodes by putting them in rank sets: all nodes in the same set end up with the same rank."
   ]
  },
  {
   "cell_type": "code",
   "execution_count": 3,
   "metadata": {},
   "outputs": [
    {
     "data": {
      "application/vnd.jupyter.widget-view+json": {
       "model_id": "dd9b4f5c376443cf90ae291819376d7f",
       "version_major": 2,
       "version_minor": 0
      },
      "text/plain": [
       "SankeyWidget(layout=Layout(height='200', width='300'), links=[{'source': 'A', 'target': 'B', 'value': 1}, {'so…"
      ]
     },
     "metadata": {},
     "output_type": "display_data"
    }
   ],
   "source": [
    "links = [\n",
    "    {'source': 'A', 'target': 'B', 'value': 1},\n",
    "    {'source': 'B', 'target': 'C', 'value': 1},\n",
    "    {'source': 'A', 'target': 'D', 'value': 1},\n",
    "]\n",
    "sankey(links=links)"
   ]
  },
  {
   "cell_type": "code",
   "execution_count": 4,
   "metadata": {},
   "outputs": [
    {
     "data": {
      "application/vnd.jupyter.widget-view+json": {
       "model_id": "50a76e7bb98e47eb95d5ca38ab6e5b62",
       "version_major": 2,
       "version_minor": 0
      },
      "text/plain": [
       "SankeyWidget(layout=Layout(height='200', width='300'), links=[{'source': 'A', 'target': 'B', 'value': 1}, {'so…"
      ]
     },
     "metadata": {},
     "output_type": "display_data"
    }
   ],
   "source": [
    "rank_sets = [\n",
    "    { 'type': 'same', 'nodes': ['C', 'D'] }\n",
    "]\n",
    "sankey(links=links, rank_sets=rank_sets)"
   ]
  },
  {
   "cell_type": "code",
   "execution_count": 5,
   "metadata": {},
   "outputs": [
    {
     "data": {
      "application/vnd.jupyter.widget-view+json": {
       "model_id": "f437de6f2e2c4094acc375b01fd34152",
       "version_major": 2,
       "version_minor": 0
      },
      "text/plain": [
       "SankeyWidget(layout=Layout(height='200', width='300'), links=[{'source': 'A', 'target': 'B', 'value': 1}, {'so…"
      ]
     },
     "metadata": {},
     "output_type": "display_data"
    }
   ],
   "source": [
    "order = [\n",
    "    ['A'],\n",
    "    ['D', 'B'],\n",
    "    ['C'],\n",
    "]\n",
    "sankey(links=links, order=order)"
   ]
  },
  {
   "cell_type": "code",
   "execution_count": 6,
   "metadata": {},
   "outputs": [
    {
     "data": {
      "application/vnd.jupyter.widget-view+json": {
       "model_id": "643b68d11e6b468c95137345ab257987",
       "version_major": 2,
       "version_minor": 0
      },
      "text/plain": [
       "SankeyWidget(layout=Layout(height='200', width='300'), links=[{'source': 'A', 'target': 'B', 'value': 1}, {'so…"
      ]
     },
     "metadata": {},
     "output_type": "display_data"
    }
   ],
   "source": [
    "order = [\n",
    "    [ [   ], ['A'], [],   ],\n",
    "    [ ['B'], [   ], ['D'] ],\n",
    "    [ [   ], ['C'], []    ],\n",
    "]\n",
    "sankey(links=links, order=order)"
   ]
  },
  {
   "cell_type": "markdown",
   "metadata": {},
   "source": [
    "### Reversed nodes"
   ]
  },
  {
   "cell_type": "markdown",
   "metadata": {},
   "source": [
    "Most nodes are assumed to link from left to right, but sometimes there are return links which should be shown from right to left."
   ]
  },
  {
   "cell_type": "code",
   "execution_count": 7,
   "metadata": {},
   "outputs": [
    {
     "data": {
      "application/vnd.jupyter.widget-view+json": {
       "model_id": "e95e5866e9004e5f9e52634bf5cd7e22",
       "version_major": 2,
       "version_minor": 0
      },
      "text/plain": [
       "SankeyWidget(layout=Layout(height='200', width='300'), links=[{'source': 'A', 'target': 'B', 'value': 1}, {'so…"
      ]
     },
     "metadata": {},
     "output_type": "display_data"
    }
   ],
   "source": [
    "links = [\n",
    "    {'source': 'A', 'target': 'B', 'value': 1},\n",
    "    {'source': 'B', 'target': 'C', 'value': 1},\n",
    "    {'source': 'C', 'target': 'D', 'value': 1},\n",
    "    {'source': 'A', 'target': 'E', 'value': 0.5},\n",
    "]\n",
    "\n",
    "nodes = [\n",
    "    {'id': 'C', 'direction': 'l'},\n",
    "    {'id': 'D', 'direction': 'l'},\n",
    "]\n",
    "\n",
    "sankey(links=links, nodes=nodes)"
   ]
  },
  {
   "cell_type": "markdown",
   "metadata": {},
   "source": [
    "Variations:"
   ]
  },
  {
   "cell_type": "code",
   "execution_count": 8,
   "metadata": {},
   "outputs": [
    {
     "data": {
      "application/vnd.jupyter.widget-view+json": {
       "model_id": "1962fc6a741f4a49856ae90d15fac4e9",
       "version_major": 2,
       "version_minor": 0
      },
      "text/plain": [
       "SankeyWidget(layout=Layout(height='200', width='300'), links=[{'source': 'A', 'target': 'B', 'value': 1}, {'so…"
      ]
     },
     "metadata": {},
     "output_type": "display_data"
    }
   ],
   "source": [
    "nodes = [\n",
    "    {'id': 'C', 'direction': 'r'},\n",
    "    {'id': 'D', 'direction': 'l'},\n",
    "]\n",
    "sankey(links=links, nodes=nodes)"
   ]
  },
  {
   "cell_type": "code",
   "execution_count": 9,
   "metadata": {},
   "outputs": [
    {
     "data": {
      "application/vnd.jupyter.widget-view+json": {
       "model_id": "313c8e169f6e49ec95eb8f3972058aa5",
       "version_major": 2,
       "version_minor": 0
      },
      "text/plain": [
       "SankeyWidget(layout=Layout(height='200', width='300'), links=[{'source': 'A', 'target': 'B', 'value': 1}, {'so…"
      ]
     },
     "metadata": {},
     "output_type": "display_data"
    }
   ],
   "source": [
    "nodes = [\n",
    "    {'id': 'C', 'direction': 'l'},\n",
    "    {'id': 'D', 'direction': 'r'},\n",
    "]\n",
    "sankey(links=links, nodes=nodes)"
   ]
  },
  {
   "cell_type": "markdown",
   "metadata": {},
   "source": [
    "## Styling"
   ]
  },
  {
   "cell_type": "markdown",
   "metadata": {},
   "source": [
    "By default, the links are coloured according to their type:"
   ]
  },
  {
   "cell_type": "code",
   "execution_count": 10,
   "metadata": {},
   "outputs": [
    {
     "data": {
      "application/vnd.jupyter.widget-view+json": {
       "model_id": "d51f08c525af4d578bf635d328912f58",
       "version_major": 2,
       "version_minor": 0
      },
      "text/plain": [
       "SankeyWidget(layout=Layout(height='200', width='300'), links=[{'source': 'A', 'target': 'B', 'value': 3, 'type…"
      ]
     },
     "metadata": {},
     "output_type": "display_data"
    }
   ],
   "source": [
    "links = [\n",
    "    {'source': 'A', 'target': 'B', 'value': 3, 'type': 'x'},\n",
    "    {'source': 'B', 'target': 'C', 'value': 2, 'type': 'y'},\n",
    "    {'source': 'B', 'target': 'D', 'value': 1, 'type': 'z'},\n",
    "]\n",
    "sankey(links=links)"
   ]
  },
  {
   "cell_type": "markdown",
   "metadata": {},
   "source": [
    "You can also set the colours directly:"
   ]
  },
  {
   "cell_type": "code",
   "execution_count": 11,
   "metadata": {},
   "outputs": [
    {
     "data": {
      "application/vnd.jupyter.widget-view+json": {
       "model_id": "2a714ee1c2e94e46aafb49eb625bee7d",
       "version_major": 2,
       "version_minor": 0
      },
      "text/plain": [
       "SankeyWidget(layout=Layout(height='200', width='300'), links=[{'source': 'A', 'target': 'B', 'value': 3, 'colo…"
      ]
     },
     "metadata": {},
     "output_type": "display_data"
    }
   ],
   "source": [
    "links = [\n",
    "    {'source': 'A', 'target': 'B', 'value': 3, 'color': 'steelblue'},\n",
    "    {'source': 'B', 'target': 'C', 'value': 2, 'color': '#aaa'},\n",
    "    {'source': 'B', 'target': 'D', 'value': 1, 'color': 'goldenrod'},\n",
    "]\n",
    "sankey(links=links)"
   ]
  },
  {
   "cell_type": "markdown",
   "metadata": {},
   "source": [
    "Process titles default to their ids, but can be overridden. There are also one built-in alternative \"style\" of node:\n",
    "- `process` is drawn with a thicker line"
   ]
  },
  {
   "cell_type": "code",
   "execution_count": 12,
   "metadata": {},
   "outputs": [
    {
     "data": {
      "application/vnd.jupyter.widget-view+json": {
       "model_id": "9da1607fc418466e9dc05a9dfb10550d",
       "version_major": 2,
       "version_minor": 0
      },
      "text/plain": [
       "SankeyWidget(layout=Layout(height='200', width='300'), links=[{'source': 'A', 'target': 'B', 'value': 3, 'colo…"
      ]
     },
     "metadata": {},
     "output_type": "display_data"
    }
   ],
   "source": [
    "nodes = [\n",
    "    {'id': 'B', 'title': 'Middle node', 'style': 'process' },\n",
    "]\n",
    "sankey(links=links, nodes=nodes)"
   ]
  },
  {
   "cell_type": "markdown",
   "metadata": {},
   "source": [
    "Of course, you can also use CSS to adjust the styling:"
   ]
  },
  {
   "cell_type": "code",
   "execution_count": 13,
   "metadata": {},
   "outputs": [
    {
     "data": {
      "text/html": [
       "<style>\n",
       ".sankey .node {\n",
       "    font-style: italic;\n",
       "}\n",
       "</style>"
      ],
      "text/plain": [
       "<IPython.core.display.HTML object>"
      ]
     },
     "metadata": {},
     "output_type": "display_data"
    }
   ],
   "source": [
    "%%html\n",
    "<style>\n",
    ".sankey .node {\n",
    "    font-style: italic;\n",
    "}\n",
    "</style>"
   ]
  },
  {
   "cell_type": "markdown",
   "metadata": {},
   "source": [
    "## Aligning link types"
   ]
  },
  {
   "cell_type": "code",
   "execution_count": 14,
   "metadata": {},
   "outputs": [
    {
     "data": {
      "application/vnd.jupyter.widget-view+json": {
       "model_id": "f0989a770da74113bd9aea59864031eb",
       "version_major": 2,
       "version_minor": 0
      },
      "text/plain": [
       "SankeyWidget(layout=Layout(height='200', width='300'), links=[{'source': 'A1', 'target': 'B', 'value': 1.5, 't…"
      ]
     },
     "metadata": {},
     "output_type": "display_data"
    }
   ],
   "source": [
    "links = [\n",
    "    {'source': 'A1', 'target': 'B', 'value': 1.5, 'type': 'x'},\n",
    "    {'source': 'A1', 'target': 'B', 'value': 0.5, 'type': 'y'},\n",
    "    {'source': 'A2', 'target': 'B', 'value': 0.5, 'type': 'x'},\n",
    "    {'source': 'A2', 'target': 'B', 'value': 1.5, 'type': 'y'},\n",
    "    {'source': 'B',  'target': 'C', 'value': 2.0, 'type': 'x'},\n",
    "    {'source': 'B',  'target': 'C', 'value': 2.0, 'type': 'y'},\n",
    "]\n",
    "sankey(links=links, nodes=[])"
   ]
  },
  {
   "cell_type": "code",
   "execution_count": 15,
   "metadata": {},
   "outputs": [
    {
     "data": {
      "application/vnd.jupyter.widget-view+json": {
       "model_id": "644145b41a134f8c888db4b8c0250e52",
       "version_major": 2,
       "version_minor": 0
      },
      "text/plain": [
       "SankeyWidget(align_link_types=True, layout=Layout(height='200', width='300'), links=[{'source': 'A1', 'target'…"
      ]
     },
     "metadata": {},
     "output_type": "display_data"
    }
   ],
   "source": [
    "sankey(links=links, align_link_types=True)"
   ]
  },
  {
   "cell_type": "code",
   "execution_count": 16,
   "metadata": {},
   "outputs": [
    {
     "data": {
      "application/vnd.jupyter.widget-view+json": {
       "model_id": "1b26d46e193f48d99dc937c7d1534065",
       "version_major": 2,
       "version_minor": 0
      },
      "text/plain": [
       "SankeyWidget(align_link_types=True, layout=Layout(height='200', width='300'), links=[{'source': 'A1', 'target'…"
      ]
     },
     "metadata": {},
     "output_type": "display_data"
    }
   ],
   "source": [
    "order = [\n",
    "    ['A2', 'A1'],\n",
    "    ['B'],\n",
    "    ['C'],\n",
    "]\n",
    "sankey(links=links, align_link_types=True, order=order)"
   ]
  },
  {
   "cell_type": "markdown",
   "metadata": {},
   "source": [
    "## Dynamic updating"
   ]
  },
  {
   "cell_type": "code",
   "execution_count": 17,
   "metadata": {},
   "outputs": [
    {
     "data": {
      "application/vnd.jupyter.widget-view+json": {
       "model_id": "0ef28a1b54634e8e9b4d86fd13ce1b2f",
       "version_major": 2,
       "version_minor": 0
      },
      "text/plain": [
       "VBox(children=(Button(description='Swap', style=ButtonStyle()), SankeyWidget(layout=Layout(height='200', width…"
      ]
     },
     "metadata": {},
     "output_type": "display_data"
    }
   ],
   "source": [
    "from ipywidgets import Button, VBox\n",
    "\n",
    "links = [\n",
    "    {'source': 'A', 'target': 'B', 'value': 1},\n",
    "    {'source': 'B', 'target': 'C', 'value': 1},\n",
    "    {'source': 'A', 'target': 'D', 'value': 1},\n",
    "]\n",
    "order = [\n",
    "    ['A'],\n",
    "    ['D', 'B'],\n",
    "    ['C'],\n",
    "]\n",
    "s = sankey(links=links, order=order)\n",
    "\n",
    "def swap(x):\n",
    "    global order\n",
    "    order = [list(reversed(o)) for o in order]\n",
    "    s.order = order\n",
    "b = Button(description='Swap')\n",
    "b.on_click(swap)\n",
    "\n",
    "VBox([b, s])"
   ]
  },
  {
   "cell_type": "markdown",
   "metadata": {
    "collapsed": true
   },
   "source": [
    "## Node groups"
   ]
  },
  {
   "cell_type": "code",
   "execution_count": 18,
   "metadata": {},
   "outputs": [
    {
     "data": {
      "application/vnd.jupyter.widget-view+json": {
       "model_id": "4ad8ede7332f4a57aa613a3847e38572",
       "version_major": 2,
       "version_minor": 0
      },
      "text/plain": [
       "SankeyWidget(groups=[{'id': 'G', 'title': 'Group', 'nodes': ['C', 'D']}], layout=Layout(height='200', width='3…"
      ]
     },
     "metadata": {},
     "output_type": "display_data"
    }
   ],
   "source": [
    "links = [\n",
    "    {'source': 'A', 'target': 'B', 'value': 3, 'type': 'x'},\n",
    "    {'source': 'B', 'target': 'C', 'value': 2, 'type': 'y'},\n",
    "    {'source': 'B', 'target': 'D', 'value': 1, 'type': 'z'},\n",
    "]\n",
    "groups = [\n",
    "    {'id': 'G', 'title': 'Group', 'nodes': ['C', 'D']}\n",
    "]\n",
    "sankey(links=links, nodes=[], groups=groups, margin_top=30)"
   ]
  },
  {
   "cell_type": "markdown",
   "metadata": {},
   "source": [
    "## Link labels\n",
    "\n",
    "Link labels show the numeric value of the link on the diagram:"
   ]
  },
  {
   "cell_type": "code",
   "execution_count": 19,
   "metadata": {},
   "outputs": [
    {
     "data": {
      "application/vnd.jupyter.widget-view+json": {
       "model_id": "560eb05e7820478a9811cbd28a2b9999",
       "version_major": 2,
       "version_minor": 0
      },
      "text/plain": [
       "SankeyWidget(layout=Layout(height='200', width='300'), linkLabelFormat='.1f', links=[{'source': 'A', 'target':…"
      ]
     },
     "metadata": {},
     "output_type": "display_data"
    }
   ],
   "source": [
    "sankey(links=links, linkLabelFormat='.1f')"
   ]
  },
  {
   "cell_type": "markdown",
   "metadata": {},
   "source": [
    "By default the labels for small links are hidden, but you can customize this using `linkLabelMinWidth`:"
   ]
  },
  {
   "cell_type": "code",
   "execution_count": 20,
   "metadata": {},
   "outputs": [
    {
     "data": {
      "application/vnd.jupyter.widget-view+json": {
       "model_id": "26838e48bcae4b3d8797598cd8a0af93",
       "version_major": 2,
       "version_minor": 0
      },
      "text/plain": [
       "SankeyWidget(layout=Layout(height='200', width='300'), linkLabelFormat='.1f', links=[{'source': 'A', 'target':…"
      ]
     },
     "metadata": {},
     "output_type": "display_data"
    }
   ],
   "source": [
    "links[2]['value'] = 0.1\n",
    "links[1]['value'] = 2.9\n",
    "sankey(links=links, linkLabelFormat='.1f')"
   ]
  },
  {
   "cell_type": "code",
   "execution_count": 21,
   "metadata": {},
   "outputs": [
    {
     "data": {
      "application/vnd.jupyter.widget-view+json": {
       "model_id": "891bf3f351094d32846f7d6d7a32db9f",
       "version_major": 2,
       "version_minor": 0
      },
      "text/plain": [
       "SankeyWidget(layout=Layout(height='200', width='300'), linkLabelFormat='.1f', linkLabelMinWidth=0.0, links=[{'…"
      ]
     },
     "metadata": {},
     "output_type": "display_data"
    }
   ],
   "source": [
    "sankey(links=links, linkLabelFormat='.1f', linkLabelMinWidth=0)"
   ]
  },
  {
   "cell_type": "code",
   "execution_count": null,
   "metadata": {},
   "outputs": [],
   "source": []
  }
 ],
 "metadata": {
  "anaconda-cloud": {},
  "hide_input": true,
  "kernelspec": {
   "display_name": "Python 3",
   "language": "python",
   "name": "python3"
  },
  "language_info": {
   "codemirror_mode": {
    "name": "ipython",
    "version": 3
   },
   "file_extension": ".py",
   "mimetype": "text/x-python",
   "name": "python",
   "nbconvert_exporter": "python",
   "pygments_lexer": "ipython3",
   "version": "3.6.5"
  },
  "widgets": {
   "application/vnd.jupyter.widget-state+json": {
    "state": {
     "0ef28a1b54634e8e9b4d86fd13ce1b2f": {
      "model_module": "@jupyter-widgets/controls",
      "model_module_version": "1.2.0",
      "model_name": "VBoxModel",
      "state": {
       "children": [
        "IPY_MODEL_3fb968eb608b4776b5ea34d711e8d738",
        "IPY_MODEL_73db75972cce461d99f776508ca003af"
       ],
       "layout": "IPY_MODEL_2eb97ea0410144c0a4dc14db0e50786d"
      }
     },
     "1962fc6a741f4a49856ae90d15fac4e9": {
      "model_module": "jupyter-sankey-widget",
      "model_module_version": "^0.2.5",
      "model_name": "SankeyModel",
      "state": {
       "_model_module_version": "^0.2.5",
       "_view_module_version": "^0.2.5",
       "layout": "IPY_MODEL_7a67330375e34427b17139535fe985e3",
       "links": [
        {
         "source": "A",
         "target": "B",
         "value": 1
        },
        {
         "source": "B",
         "target": "C",
         "value": 1
        },
        {
         "source": "C",
         "target": "D",
         "value": 1
        },
        {
         "source": "A",
         "target": "E",
         "value": 0.5
        }
       ],
       "margins": {
        "bottom": 0,
        "left": 30,
        "right": 60,
        "top": 10
       },
       "nodes": [
        {
         "direction": "r",
         "id": "C"
        },
        {
         "direction": "l",
         "id": "D"
        },
        {
         "id": "B"
        },
        {
         "id": "A"
        },
        {
         "id": "E"
        }
       ],
       "order": [],
       "png": "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",
       "scale": 47.5,
       "svg": "<?xml version=\"1.0\" standalone=\"no\"?><!DOCTYPE svg PUBLIC \"-//W3C//DTD SVG 1.1//EN\" \"http://www.w3.org/Graphics/SVG/1.1/DTD/svg11.dtd\"><svg xmlns=\"http://www.w3.org/2000/svg\" width=\"300\" height=\"200\" viewBox=\"0 0 300 200\"><g class=\"sankey\" transform=\"translate(30,10)\"><g class=\"groups\"/><g class=\"links\"><g class=\"link\" style=\"opacity: 0.8;\"><path d=\"M1,106.875 A57.72908281733746 57.72908281733746 0.45660987225145666 0 1 26.453204587300995,112.78920677610769 L89.51835635644656,143.76892404942438 A33.97908281733746 33.97908281733746 0.45660987225145666 0 0 104.5,147.25 L104.5,171 A57.72908281733746 57.72908281733746 0.45660987225145666 0 1 79.046795412699,165.0857932238923 L15.981643643553447,134.10607595057562 A33.97908281733746 33.97908281733746 0.45660987225145666 0 0 1,130.625 Z\" style=\"fill: rgb(31, 119, 180);\"/><title>A → E\n500m</title><text class=\"label\" dy=\"0.35em\" x=\"5\" y=\"118.75\"/></g><g class=\"link\" style=\"opacity: 0.8;\"><path d=\"M1,59.375 A22.104082817337463 22.104082817337463 0.45660987225145666 0 0 10.745863171679673,57.110489462190415 L73.81101494082523,26.13077218887373 A69.60408281733746 69.60408281733746 0.45660987225145666 0 1 104.5,19 L104.5,66.5 A22.104082817337463 22.104082817337463 0.45660987225145666 0 0 94.75413682832033,68.76451053780958 L31.68898505917477,99.74422781112627 A69.60408281733746 69.60408281733746 0.45660987225145666 0 1 1,106.875 Z\" style=\"fill: rgb(31, 119, 180);\"/><title>A → B\n1.00</title><text class=\"label\" dy=\"0.35em\" x=\"5\" y=\"83.125\"/></g><g class=\"link\" style=\"opacity: 0.8;\"><path d=\"M105.5,19 A0 0 0 0 0 105.5,19 L209,19 A0 0 0 0 0 209,19 L209,66.5 A0 0 0 0 0 209,66.5 L105.5,66.5 A0 0 0 0 0 105.5,66.5 Z\" style=\"fill: rgb(31, 119, 180);\"/><title>B → C\n1.00</title><text class=\"label\" dy=\"0.35em\" x=\"109.5\" y=\"42.75\"/></g><g class=\"link\" style=\"opacity: 0.8;\"><path d=\"M210,19 A52.5 52.5 1.5920697128189578 0 1 262.48812082799594,72.61676852825524 L261.48812082799594,118.39364109254713 A52.5 52.5 1.5920697128189578 0 1 209,171 L209,123.5 A5 5 1.5920697128189578 0 0 213.99886865028535,117.38323147174476 L214.99886865028535,71.60635890745287 A5 5 1.5920697128189578 0 0 210,66.5 Z\" style=\"fill: rgb(31, 119, 180);\"/><title>C → D\n1.00</title><text class=\"label\" dy=\"0.35em\" x=\"214\" y=\"42.75\"/></g></g><g class=\"nodes\"><g class=\"node\" transform=\"translate(209,19)\"><title>C</title><line x1=\"0\" x2=\"0\" y1=\"-5\" y2=\"47.5\" style=\"display: inline; stroke: rgb(0, 0, 0);\"/><rect class=\"node-body\" width=\"1\" height=\"47.5\" style=\"fill: none;\"/><text class=\"node-value\" dy=\".35em\" text-anchor=\"middle\" style=\"display: none;\" transform=\"translate(0.5,23.75) rotate(-90)\"/><text class=\"node-title\" dy=\".35em\" text-anchor=\"start\" transform=\"translate(-4,-10)\" style=\"display: inline;\">C</text><rect class=\"node-click-target\" x=\"-5\" y=\"-5\" width=\"10\" style=\"fill: none; visibility: hidden; pointer-events: all;\" height=\"52.5\"/></g><g class=\"node\" transform=\"translate(209,123.5)\"><title>D</title><line x1=\"0\" x2=\"0\" y1=\"0\" y2=\"47.5\" style=\"display: inline; stroke: rgb(0, 0, 0);\"/><rect class=\"node-body\" width=\"1\" height=\"47.5\" style=\"fill: none;\"/><text class=\"node-value\" dy=\".35em\" text-anchor=\"middle\" style=\"display: none;\" transform=\"translate(0.5,23.75) rotate(-90)\"/><text class=\"node-title\" dy=\".35em\" text-anchor=\"start\" transform=\"translate(5,23.75)\" style=\"display: inline;\">D</text><rect class=\"node-click-target\" x=\"-5\" y=\"-5\" width=\"10\" style=\"fill: none; visibility: hidden; pointer-events: all;\" height=\"52.5\"/></g><g class=\"node\" transform=\"translate(104.5,19)\"><title>B</title><line x1=\"0\" x2=\"0\" y1=\"-5\" y2=\"47.5\" style=\"display: inline; stroke: rgb(0, 0, 0);\"/><rect class=\"node-body\" width=\"1\" height=\"47.5\" style=\"fill: none;\"/><text class=\"node-value\" dy=\".35em\" text-anchor=\"middle\" style=\"display: none;\" transform=\"translate(0.5,23.75) rotate(-90)\"/><text class=\"node-title\" dy=\".35em\" text-anchor=\"start\" transform=\"translate(-4,-10)\" style=\"display: inline;\">B</text><rect class=\"node-click-target\" x=\"-5\" y=\"-5\" width=\"10\" style=\"fill: none; visibility: hidden; pointer-events: all;\" height=\"52.5\"/></g><g class=\"node\" transform=\"translate(0,59.375)\"><title>A</title><line x1=\"0\" x2=\"0\" y1=\"0\" y2=\"71.25\" style=\"display: inline; stroke: rgb(0, 0, 0);\"/><rect class=\"node-body\" width=\"1\" height=\"71.25\" style=\"fill: none;\"/><text class=\"node-value\" dy=\".35em\" text-anchor=\"middle\" style=\"display: none;\" transform=\"translate(0.5,35.625) rotate(-90)\"/><text class=\"node-title\" dy=\".35em\" text-anchor=\"end\" transform=\"translate(-4,35.625)\" style=\"display: inline;\">A</text><rect class=\"node-click-target\" x=\"-5\" y=\"-5\" width=\"10\" style=\"fill: none; visibility: hidden; pointer-events: all;\" height=\"76.25\"/></g><g class=\"node\" transform=\"translate(104.5,147.25)\"><title>E</title><line x1=\"0\" x2=\"0\" y1=\"0\" y2=\"23.75\" style=\"display: inline; stroke: rgb(0, 0, 0);\"/><rect class=\"node-body\" width=\"1\" height=\"23.75\" style=\"fill: none;\"/><text class=\"node-value\" dy=\".35em\" text-anchor=\"middle\" style=\"display: none;\" transform=\"translate(0.5,11.875) rotate(-90)\"/><text class=\"node-title\" dy=\".35em\" text-anchor=\"start\" transform=\"translate(5,11.875)\" style=\"display: inline;\">E</text><rect class=\"node-click-target\" x=\"-5\" y=\"-5\" width=\"10\" style=\"fill: none; visibility: hidden; pointer-events: all;\" height=\"28.75\"/></g></g><g class=\"slice-titles\"/></g></svg>"
      }
     },
     "1b26d46e193f48d99dc937c7d1534065": {
      "model_module": "jupyter-sankey-widget",
      "model_module_version": "^0.2.5",
      "model_name": "SankeyModel",
      "state": {
       "_model_module_version": "^0.2.5",
       "_view_module_version": "^0.2.5",
       "align_link_types": true,
       "layout": "IPY_MODEL_7a67330375e34427b17139535fe985e3",
       "links": [
        {
         "source": "A1",
         "target": "B",
         "type": "x",
         "value": 1.5
        },
        {
         "source": "A1",
         "target": "B",
         "type": "y",
         "value": 0.5
        },
        {
         "source": "A2",
         "target": "B",
         "type": "x",
         "value": 0.5
        },
        {
         "source": "A2",
         "target": "B",
         "type": "y",
         "value": 1.5
        },
        {
         "source": "B",
         "target": "C",
         "type": "x",
         "value": 2
        },
        {
         "source": "B",
         "target": "C",
         "type": "y",
         "value": 2
        }
       ],
       "margins": {
        "bottom": 0,
        "left": 30,
        "right": 60,
        "top": 10
       },
       "nodes": [
        {
         "id": "B"
        },
        {
         "id": "A2"
        },
        {
         "id": "C"
        },
        {
         "id": "A1"
        }
       ],
       "order": [
        [
         "A2",
         "A1"
        ],
        [
         "B"
        ],
        [
         "C"
        ]
       ],
       "png": "iVBORw0KGgoAAAANSUhEUgAAASwAAADICAYAAABS39xVAAAah0lEQVR4nO2de5gU5Zm+H1E5TVUraAy4rsY1IWhcBePyM4qXbtZdE+NGk9WN8bRs4rImSzar8lMC09WFQeSQKIoixtMibNS2qwcYIJy0MTNd1QOtoHiMURShq7qR8xgTWHj3j+7ByTCHZqa7vuqe576u5wKqq2eqvq73pvrreqsBQgghhBBCCCGEEEIIIYQQQgghhBBCCCGEEEIIIYQQQgghhBBCCCGEEEIIIYQQQgghhBBCCCGEEEIIIYQQQgghhBBCCCGEEEIIIYQQQgghhBBCCCGEKCECwIw7bjpuuwnLcZdajhuLO958K+nOsexs2HJyYxY62cvq0x8Pr09nBqreYEJI7+UzYRWfZXHbm1XnZH9kNWy9bOHa7X+peicIIb2D7gjrsFgp74W4402JpXJX1K3febzqnSKEVCclEdbhySyIN2ZujdoffVH1DhJCqocyCatVbDdqNXq3WOltQ1XvLCGksim/sP4s3oK47d4cT3onqd5xQkjl4bOwWs17Oe5T8ZR33ZKGXYNUDwIhpDJQJqxD4rK9tfFUdm4smf2nBantIdUDQggJLsqF9ednXV7Kst3ZMcf7xxUrvBrVg0MICRaBElabt4xO3HF/GbUz33gqsam/6oEihKgnsMJqc+bVaCXdafEm7+vptByretAIIWqoCGH9WezsS5bt3h1P5UZHo3K06gEkhPhHBIApRih90By0/uDkE1/dP/mk1/805dTk3hnnrsg98I3F7z0+tu7l6Cxr+crkauWyOizemrjtTo7a7ijVA1kGdAAfAfgDgAMAthTSDGAPgGUATle2dYQo4JCwislBc7DTPP3spe8/+oOYvfjZxeqF1fpto/uilczUxuzcSNWDWmJsAK+2WXYDAEFeWoT0Go5IWO3lk3vPjL77xLiHl63ZOEe1tFplWSyZvT2e9M5WPcA9pA+AvQD+u83yo5AX1mt+bxAhKumxsFrngDn4sfceG2vGbW+W5bipAIgrbTneopjtjos3bRumerC7wZeRF9NP2yz/amH5I75vESEKKamwDiWs1//pnlNvrE+8cY3lZB+2bK9JtbgKbxtjVioz1kpsOUX1wBfJ95AX0yWFfx8F4BwArwB4EwBbnEigGYL8W4T5naxzLoAHAaQArAfwLoAn0f7BXR5htSSirRCj5l+STz99Utx2r7WSmccs212nWlyFM69nLCc3Jro2N6TEr1EpmYa8sDYD+ADArsK/YwBOULdZhBTHEwD2o+O5i6OQ/wTpEQAtdwc9FUAOQLKd9csrrENnXNoqMWtulp+g37ymLSfEnewNlu3OUy2tQ/Ky3XlxJ3vDvKYtQZPAcgCb2iz7MoDXAbwNYIDvW0RIkZwLoA7AauSl1a+ddYYBeAf5ydrWPIP8/8zHtFnuj7AOnXHpv5FJ+oUtvzy6NjfEcnJjLMd7RrW0CuJaZ9mZx+O2e21dIhA3IvQAxNtZfgfyr+dV/m4OIcVTD+A0fPY2ob2P748C0N6V4KuRf1vRFn+FdSiaKSa01htiJbacYqUyY2NJN6ZaXHl5eU1W0p0TszNXRxM5rZ2xKzdDkX+dw+08Fik89g++bhEhRXIVgAmFv1+L/MH6r0U+92QA+wDc1s5jioQVSouhLZfwwHavmYqlcl+K2e44y/EWqRZX3HHTluOm4rY3K5bKXRH96CO/3oZdgfzr/K02y49CftJ9B9o/yyZEKccCWIjPzpxOR/5AnlXk86MAlgJor41FobBCaYnoTWLWjOls42ON7lfijndb3HGXqRZX4cwrGbPdmQud7GXRqPQt8jXoDhORf51PbrXsOACzkb/y/foy/m5Cus1PAVzaZtl2AGuKeO49AFbiswn4tqgV1md5UO6E3tXO1K3NjXg+6d4VT3orVYurcObVEHe8e+K2e0kiIW3nB7vLMOQ/EdyDvLB2Fv69GcBWAIsA/F2JfhchJWUw8v1kH7TJp8gfyB1xNICHASwA0NlZQFCElZawXi+T+p9WzKCYIn2itjvKcrxay3FfVC2u/JmXu8ZyXDOezH7NFGn7oUdPkBL+LELKyv0Azmpn+SPIH8jtFbiO/AR9e5O1bQmOsIxQWgy9QUx99JEOUjyVGx23s4ZlZxpViyvuuOm47SbiKW9CPJUb/eAy6ek8E4VFKoJhyF8g2B63I38gf7vN8lORv2D02lbLjkb+ep72CJiwQmkx9HUS1sd2d9DitntJzHZnKpdWq9Q57oOW433PWpf9q27sEoVFKoJFAC7s4LErkT+QjVbLRgFwkZ+Mv7FV7kDH810BFFYhEe1+MdHtO40+ldjUP57K/n3M8e5TLazDzr5sb1bc9n4Qtd1Ry1Lbu2oTorBIoDkN+Xmqg4U/277tmwwgg/yBvBfAHOQvFG1p22gvHX2iGFxhGaG0GFpMTPS4dWbFCq8m3uRdGbPdh5QLq2ORrbZsd17Mdh+ynOw0y86GY8lsy5k0CS6X4PAPxUiZCLiwQmmJ6Akxa0aUaocXNW7TY8nsP8VT2bmW7a1VLqouAkBUbwPTcb79/Vu3AjBLdXySzgm+sPLSahKj5vul3vklDbsGxVPedXHHezIoTdltAwor0KGw/KUyhHUo+lQxD+uHLAnxpHdS3HZvjjuZBaqLoHVAYQU6FJa/VJiwQmkJ6/PlDpxYzkGx0tuGWo3eLXHHe051QYDCCnQoLH+pPGEZocLtavoO92OA6pLZM+qc7I8s26tTURCgsAIdCstfKlNYRigtEd2R2tAVfg5Wffrj4XV25qeW7S7xqyBAYQU6FJa/VK6wDp1t1YyXw+//VXYWpbLnxFPZ8VYqu5zC6r2hsPyl8oVlhNIS1h9re38tP1nUtO18y86Gy9GUDQor0KGw/KU6hJWXVr1M6N+d1peSEm/aNsxycmOslPcohVX9obD8pXqEZYTSYuiN3WmeLheJTdJ/YVPu4pidmVDneM9SWNUXCstfqkxYoXS+eVq7VfXAtkdik/S3nG3nxVLZG61kptayvbkx262nsCo3FJa/VKGwCgmHZvekedpvljTsGlSf/nh4PJn92kIne1nMzlwdd7I3gMIKdCgsf6leYRmhdKmap0tJNJHTLGfrRXEne6vlZB+OJ72FnRUEKKxAh8LylyoXVqjQPD3wfJWDHLXdUXHHu60781igsAIdCstfql9YeWk1SbjmRj8HNmZnLo/Z7sy47f62JwUBCivQobD8pXcI61D0qTK23e9tLAlLGnYNshq9Wyzb/U2pCgIUVqBDYflLLxNWKC2G9utSN08vatx2ctzOGuUoCFBYgQ6F5S+9UFihkjVPL2rcdrLlZCOW46XKVRCgsAIdCstfLgFwqYS1cRLRJks4NFsi+gvKheJXTP3K7gzagtT2kGV7P/OjIEBhBToUVgAQs+9wCQ/8gZjacuVSKXv0u4oeF5GjrJR7jZXyXvCrIEBhBToUVsAQQ/+ORPSl6sVSxoT1x+QuHNfZOMRSuS/FbTfqd0GAwgp0KKwAIib6S1j7TzH1lHK5lCsRfWlHzdMxO3N53PZsFQUBCivQobACjJj9homhL1Eul7JFb5Ra7est+5tOy7Hl+vSv2IDCCnQorIAjJjQJ64+pl0s5o/0onvROijue8i+kAIUV6FBYFYAAfSSsj1cvlvLkwN2ff33z3Os/WtT4/iuqCwIUVqBDYVUQUhu6QiK6o1owpcyfppz6+90zRjbvnnlec/bBb+5c/kLTqyoLAhRWoENhVRj5SyC0VapF0+OYofQf7h22dffM85pbZ8d9F+797dLFb6oqCFBYgQ6FVYHIHThRwvp85dLpZg6ax7/SPP2sbW1l1Tobnpv5voqCAIUV6FBYFYqYOEYMfapq+Rxp9k/+3MY908/Z1ZmsWrLp8VvcuuSHL/tZEKCwAh0Kq8KRcM31EtGbVIuomOz7+clv75k5cm8xsmpJZvZV25cmXtvgV0GAwgp0KKwqQMyB50tET6gWUmf5dOoZHx6JqFpn+/0X704sX/E6hcVQWFWCmBgihhZTLaa2OWge/0rztDNz3ZVVS3b94vzmJuuJdyms3h0Kq4oQE/0lot2vWlItOWAOfnXv9HN29lRWrfP2f4/fUmdvobB6aSisKkTC+lgx9HUqZbXv7qFv7ZkxYk8pZdWSrXOu+XjJmjfXU1i9LxRWlSKmPloMvUGFrP54zxc2tVwMWq5se+Dvdq1c2biRwupdobCqGJnU/zQJ6/W+zVdFjnv5k2nD3XKKqnV2/uL/NTuLfv0OhdV7QmFVOX41Tx80B29onn72dr9k1TqvLzA2U1i9IxRWL0CAPlJbc0e5ZLX/7s+/sWfGiN0qZNWSDx69Obf4t+/2uHkaFFagQ2H1IsSo+ftSN0//ccqp75V7vqrY5B64vMfN06CwAh0Kq5chZt/hYpTg3vEdNC+rzo77LtzbUG+9RWFVZyisXoiYOL4nzdMHzUHru2peVp0Nz87YRGFVXyisXkp3m6f3T/7cxr0zzi2qeVl1utM8DQor0DkCYZ0JYC6AtwB8BGAXgFThuV8oS1GR8iOmdl2xX3axb8pfvHOkzcuqk5l91fbfJNYX3TwNCivQKVJYdwD4GMAPAAwsLOsH4L8ACIC3y1ROxA8kPPCrYuhrOpPVp1PP2KxaPt3N9vsu3tNU92RRfYigsAKdIoT1/wH8EcCoDh5fBODZ0lYQ8R2ZiKES0Z47fL6qNM3LQcgHj96cW/7Cuk4/RQSFFeh0IayzAewHMK2TQ/0GANeVtnqIEuQn6Ne6efrA5BNe2zujtM3L6vPV5t8/8ePMylXOaxRW5aULYc0HcADAKX7VDAkAYg68Zd/dQ9/aPX1ERc1XHWkyD129/c2nJ21uWBx7e9XKlzYuSWzcAAor0OlEWMcA2A1gvZ+1QgKA5Wy7pXFx9O0dv7ygqoXVPP3s7Z9OPWPzvp8PfXv/5M9tPGgOWg9AytnCxPQst1/QtyNhDUd+Qv1xP2uFKCQalb6W7d3f8r/ZylXOa9seuKy63hLOGNn8yb1fzhyYfMJr7RUEKKxApxNhXYS8sCb7WTNEEdG1zUMsx3227Sl4/UvvrN889/pAXyRabD6ZNjx7wBz8amcFAQor0OlEWF9EXlidTbhfBGBk6auH+ErMzo20HPfFjuYN6pxM+s2nJ1bsZQ17ZozYvW/KX7xTTEGAwgp0OhEWALwKINnBYxcD2AfggtJXEPGNeNK7znK8VDETnqm6eb/bOfNvlAvoSNI8/eztB83BG4otCFBYgU4XwroAwCeFxwcUlvUH8G/IX0h6U3mriZSNREKOsWxv6pF+SrN6ReL1j2f9rdJbyRSbT6YNdw9Gjnv5SAoCFFag04WwAOBcAAsBbAXwPvJXtT8K4Kxy1xQpE3WJncfHHW9+dz9aXrLmjQ2Zh7/zsWohdZgZI5v/eM8XNnWnIEBhBTpFCItUEzE7M9yy3eU9vR6mLrn55d8/MS6jXE5tsmfGiD377h76VncLAhRWoENh9SIWOtnLLMd1Snkh38vPP/Derl+cr1xUu2ee17x3+jk7u/oUkMKq7FBYvQBTpE8smb29XFcfv7Rs6Rvb77u4LF/pVWyap52ZO2ge/0pPCwIUVqBDYVU50UROs5KZx8rdMvGbxPoN7uxv7VAhq0+nnvFhqQoCFFagQ2FVMdH0jlNjtltfblm1ZFHDppc3/WpM1rf5qpkj9+77+clvl7IgQGEFOhRWlRJNZUZbjtvgl6xa59Vnpn6we2Z5v5hiz/Rzdu2f/LmNpS4IUFiBDoVVhVipzFjLdtepkFVLGuqtt8rVPN08/axtpZivorAqLxRWFfFUYlP/1s3LqrNylfNa7oHLS9o8/YepX9oiZvkKAhRWoENhVQnRtbkhluPGVEuqbRb/9t1XStI8PWNk874pp/yu3AUBCivQobCqgFhj5vy47SZUy6mj1DmZ9JsLarvdPL1nxojdB+7+/Ot+FAQorECHwqpwLNu73rK9JtVSKibdaZ7ee4TNyz0NKKxAh8KqULrbvKw6R9I8/cm04a6Yx/laEKCwAh0KqwKZ17TlhJ40L6vOkjVvbNg655qOm6fzzcvvqygIUFiBDoVVYeSblzOrVEunp6mzt6Tba57eM2PEnv13D3lTVUGAwgp0KKwKos7JfbPUzcuqk35+9qHm6VI0L/c0oLACHQqrAjBF+sRT2fGq5VKuJJaveH3PjJEfleti0CMJKKxAh8IKOAtS20N+NC+rjJVyfywT8XmJaM+oLghQWIEOhRVgonbui5bjLVYtlLKJys40xpu8r7fsr4zFsRLWJ6osCFBYgQ6FFUAeXCb96uzcuGK/HKISYznu0sVN3unt7b+YNd8QQ29UURCgsAIdCitg1DVlr/bzljAqEnO8X0XTO47rbByktv/pKt4igsIKdCisABCzM8MtJzfGSmV7fK/1oOf5pHvXkYyNmPrVEtZW+VUQoLACHQrLXy4BcGmdnRsXt93Jlu3OtlLeC6ol4uOZ1T92Z9DEhCamPoHCYigsf4kAMFWLw+9YdmZVPOmd3dPBExNDJKzViqmnKKzeGQrLX3qfsGzv1/OatpxQykGUO3GyhDWDwup9obD8pVcJy7K9qQmRY8o1mGLieDEG/lAMfRmF1TtCYflLrxCWZXtNsVT2Rj8HVoyayyWszxRDb6CwqjcUlr9Uv7BsNxFrzJyvcpDFHHCB1NbcIab2LIVVXaGw/KWqhWU5biy6NjdE9SC3Rn4MTcL6RVKr/YcYoTli6gsprMoNheUvVSssy3ZnP5XY1F/1ABeL3IbBUtv3TDG1S8XU/lnC2jgxQlNAYQU6FJa/VJ2wLNtdF2/M3Kp6YNtDTPSXiQPPE6PmBqnVJkkk9IiE9frOCgIUVqBDYflLVQnLcrzGaCozWvWgtiBh7StiaNeKqZliHPn8FYUV/FBY/lI1worZbn1Hzct+IZfiGAnrF0tEv6dUzdKgsAIdCstfqkJYVjLzWDSR01QNokwaeL4Y+s8koidKXRCgsAIdCstfKl9YtjveFOnj98BJuOavJVwzXgxteTkLAhRWoENh+UvFCstyXKfOyX3Tz8ESs+9wCWv/KYa+xK+CAIUV6FBY/lKRwrLszKqYnRnuxwBJbb8zxNRulYhep6IgQGEFOhSWv1SgsLz5pW5ebotMxFAxBv5QItpzqgsCFFagQ2H5S0UJy7K9qYlEeZqXxcSJYtTcJIa2QHURtA4orECHwiodpwFYBmBXJ+tUhLAs22uK2d73Sz1AMgGDxNSuE0N/Ugx9neqDv72Awgp0KKzOGQJgL4D5naxzNIDbAGwEsANAQyfrBl9YtpuIJnMjSjWAcid0qdW+K6Y+Vwx9reoDvquAwgp0KKzOeQLAfgCvdbLOdwDMAKAD+BTAnE7WDbSwStW8LONRI6Z+pRihh1Qf4B1HWy2G/rQYoYfE1KeJoYUlXHP7V07s86iE9bFMMDPzsr4zAVza02O0GjkXQB2A1chLq18H6x1d+HM4AAHwo05+ZmCFZdne/T1pXhYT/fOS0u9TL6PW0V8UU5slxsAfijlglJgDTunuPhISZOqRn5eahryIRnax/j8X1uusty5wwrJsd13c8f6tu4MktdrXJaLfq15MhUT0pBihB8XQvie1/ZW2DhHiF1cBmFD4+7XIi+hfu3jOzwvrHd/JOoESluW4Dd1pXhZTH52/p7qaLzttR1IJMfUJMkkfLT/p8EyYkKrkWAALC38CwOnIi2hWF89bBODDLtYJjLBitlsfTe84tZgBEaCPmANGSVirFUN/Ubmg8m/11oihmTJJv1AA31uFCAkKP8Xhk3rbAazp4nnvA1jSxTqBEJZlu7Ojb0iXzcti1owQQ79LDG2lekGF0mLoDRLR75GwdomYKNuXWxBSKQwG8BGAD9rkUwA7O3meDuAggHu7+PlKhWXZ3lrL2XZLZxuYv6dUzW2l/CaaHr7dS0pYnylmzWViom8xLyIhvYX7AZzVzvJHkH9beFoHz/ta4fHru/j56oRleyuspPs37W2UmP2GSVgbJxF9kXJB5c+kUmJqs6Q2dIXchgFFvnaE9CqGAYh18NjtyAvp2x08Prbw+F938Tt8F5bluCnLzvxXfTozsPWGyJ04RcL6WDG0mHpBhdIS0Zsk/yURV8uPoexeW4RUCosAXNjBY1ciLySjg8cfArAPn03Ud4SvwrKc7MOtJ9bFxBAxa8ZIRHtGuaDyZ1LrxNAfz9/WuNNPVwkhBU5Dfp7qYOHPtm/7JgPIIC+svfjzK9kXF57zCYD/Lfx9VSe/yxdhWbb7vOVsvQgA5Gc4QYyaGySiz1MvqENnU/PEqLlBfoay3gWCENIzyiosy3aXx53sd/Nf4a5dmz97CUiTcUR7RsyaMWIiUN9bSAjpmJILy7LddZaTfXj5qvS3/nfKCd8RIzSnMB+kXlKGFpOwPlYmDfhL1QNPCDlySigsb/Wihvduzz5w9U35Xjk9pV5QobRE9EUS1saJ2W+Y6sEmhPSMHgnLsr1kfcO7v3pjvmEGqsk4oq0Qo+Y2maidrXqACSGl48iEZWdfWpj84MmGJdYvPnzkpulidu/LQcsT/UUJ6+Nl4sDzVA8qIaQ8dCSsZYsbfvc/K1en5ibrn5311tMTpu6cMeo+MbS4ejG1iqmvkbA+UcwBF6geSEJI+YkAMMXQH5ew9rwY+jKJ6C8pF1HnZ1KNhSbjwHwlPSHEHwrCUi2hYiSlTxND+1sZ2+XFsISQKiW4worojkT0X4pRc7mY6PadRwkh1UOwhGXqKQmHZoupXynjUaN6cAghwSIAwtLXiqnPlVrtu3IndNUDQggJLoqEpa8TQ39STO06mYBBqgeBEFIZ+CwsbYEYNTeJiZNU7zghpPIov7Ai2nNiDPyhTMRQ1TtLCKlsyiQsbYEY2r/LhH5fVL2DhJDqoTTCiugvSES/R4zQt3jjO0JIueimsPQlYoSmiKldI7X9viTAUap3hBBS/XwmrIiekIi+tHDPqPkSCT0ihj5VwjXj8ze6078t5oALxMSJqjeaEEIIIYQQQgghhBBCCCGEEEIIIYQQQgghhBBCCCGEEEIIIYQQQgghhBBCCCGEEEIIIYQQQgghhBDS6/g/Rcocua2vEuUAAAAASUVORK5CYII=",
       "scale": 23.75,
       "svg": "<?xml version=\"1.0\" standalone=\"no\"?><!DOCTYPE svg PUBLIC \"-//W3C//DTD SVG 1.1//EN\" \"http://www.w3.org/Graphics/SVG/1.1/DTD/svg11.dtd\"><svg xmlns=\"http://www.w3.org/2000/svg\" width=\"300\" height=\"200\" viewBox=\"0 0 300 200\"><g class=\"sankey\" transform=\"translate(30,10)\"><g class=\"groups\"/><g class=\"links\"><g class=\"link\" style=\"opacity: 0.8;\"><path d=\"M1,159.125 A54.71776315789473 54.71776315789473 0.32954890555438254 0 0 18.707556828742305,156.18055078046856 L82.94950030945732,134.2084617168267 A66.59276315789472 66.59276315789472 0.32954890555438254 0 1 104.5,130.625 L104.5,142.5 A54.71776315789473 54.71776315789473 0.32954890555438254 0 0 86.79244317125769,145.44444921953144 L22.550499690542672,167.4165382831733 A66.59276315789472 66.59276315789472 0.32954890555438254 0 1 1,171 Z\" style=\"fill: rgb(255, 127, 14);\"/><title>A1 → B\ny\n500m</title><text class=\"label\" dy=\"0.35em\" x=\"5\" y=\"165.0625\"/></g><g class=\"link\" style=\"opacity: 0.8;\"><path d=\"M1,19 A66.59276315789472 66.59276315789472 0.32954890555438254 0 1 22.550499690542672,22.58346171682667 L86.79244317125769,44.55555078046857 A54.71776315789473 54.71776315789473 0.32954890555438254 0 0 104.5,47.5 L104.5,59.375 A66.59276315789472 66.59276315789472 0.32954890555438254 0 1 82.94950030945732,55.79153828317333 L18.707556828742305,33.81944921953143 A54.71776315789473 54.71776315789473 0.32954890555438254 0 0 1,30.875 Z\" style=\"fill: rgb(174, 199, 232);\"/><title>A2 → B\nx\n500m</title><text class=\"label\" dy=\"0.35em\" x=\"5\" y=\"24.9375\"/></g><g class=\"link\" style=\"opacity: 0.8;\"><path d=\"M1,123.5 A16.864144736842107 16.864144736842107 0.6826957418241317 0 0 11.639367522880834,119.72032072485055 L71.38528766021952,71.13913839112436 A52.48914473684211 52.48914473684211 0.6826957418241317 0 1 104.5,59.375 L104.5,95 A16.864144736842107 16.864144736842107 0.6826957418241317 0 0 93.86063247711917,98.77967927514945 L34.11471233978048,147.36086160887564 A52.48914473684211 52.48914473684211 0.6826957418241317 0 1 1,159.125 Z\" style=\"fill: rgb(174, 199, 232);\"/><title>A1 → B\nx\n1.50</title><text class=\"label\" dy=\"0.35em\" x=\"5\" y=\"141.3125\"/></g><g class=\"link\" style=\"opacity: 0.8;\"><path d=\"M1,30.875 A52.48914473684211 52.48914473684211 0.6826957418241317 0 1 34.11471233978048,42.63913839112437 L93.86063247711917,91.22032072485055 A16.864144736842107 16.864144736842107 0.6826957418241317 0 0 104.5,95 L104.5,130.625 A52.48914473684211 52.48914473684211 0.6826957418241317 0 1 71.38528766021952,118.86086160887564 L11.639367522880834,70.27967927514945 A16.864144736842107 16.864144736842107 0.6826957418241317 0 0 1,66.5 Z\" style=\"fill: rgb(255, 127, 14);\"/><title>A2 → B\ny\n1.50</title><text class=\"label\" dy=\"0.35em\" x=\"5\" y=\"48.6875\"/></g><g class=\"link\" style=\"opacity: 0.8;\"><path d=\"M104.5,47.5 A0 0 0 0 0 104.5,47.5 L209,47.5 A0 0 0 0 0 209,47.5 L209,95 A0 0 0 0 0 209,95 L104.5,95 A0 0 0 0 0 104.5,95 Z\" style=\"fill: rgb(174, 199, 232);\"/><title>B → C\nx\n2.00</title><text class=\"label\" dy=\"0.35em\" x=\"108.5\" y=\"71.25\"/></g><g class=\"link\" style=\"opacity: 0.8;\"><path d=\"M104.5,95 A0 0 0 0 0 104.5,95 L209,95 A0 0 0 0 0 209,95 L209,142.5 A0 0 0 0 0 209,142.5 L104.5,142.5 A0 0 0 0 0 104.5,142.5 Z\" style=\"fill: rgb(255, 127, 14);\"/><title>B → C\ny\n2.00</title><text class=\"label\" dy=\"0.35em\" x=\"108.5\" y=\"118.75\"/></g></g><g class=\"nodes\"><g class=\"node\" transform=\"translate(104.5,47.5)\"><title>B</title><line x1=\"0\" x2=\"0\" y1=\"-5\" y2=\"95\" style=\"display: inline; stroke: rgb(0, 0, 0);\"/><rect class=\"node-body\" width=\"1\" height=\"95\" style=\"fill: none;\"/><text class=\"node-value\" dy=\".35em\" text-anchor=\"middle\" style=\"display: none;\" transform=\"translate(0.5,47.5) rotate(-90)\"/><text class=\"node-title\" dy=\".35em\" text-anchor=\"start\" transform=\"translate(-4,-10)\" style=\"display: inline;\">B</text><rect class=\"node-click-target\" x=\"-5\" y=\"-5\" width=\"10\" style=\"fill: none; visibility: hidden; pointer-events: all;\" height=\"100\"/></g><g class=\"node\" transform=\"translate(0,19)\"><title>A2</title><line x1=\"0\" x2=\"0\" y1=\"0\" y2=\"47.5\" style=\"display: inline; stroke: rgb(0, 0, 0);\"/><rect class=\"node-body\" width=\"1\" height=\"47.5\" style=\"fill: none;\"/><text class=\"node-value\" dy=\".35em\" text-anchor=\"middle\" style=\"display: none;\" transform=\"translate(0.5,23.75) rotate(-90)\"/><text class=\"node-title\" dy=\".35em\" text-anchor=\"end\" transform=\"translate(-4,23.75)\" style=\"display: inline;\">A2</text><rect class=\"node-click-target\" x=\"-5\" y=\"-5\" width=\"10\" style=\"fill: none; visibility: hidden; pointer-events: all;\" height=\"52.5\"/></g><g class=\"node\" transform=\"translate(209,47.5)\"><title>C</title><line x1=\"0\" x2=\"0\" y1=\"0\" y2=\"95\" style=\"display: inline; stroke: rgb(0, 0, 0);\"/><rect class=\"node-body\" width=\"1\" height=\"95\" style=\"fill: none;\"/><text class=\"node-value\" dy=\".35em\" text-anchor=\"middle\" style=\"display: none;\" transform=\"translate(0.5,47.5) rotate(-90)\"/><text class=\"node-title\" dy=\".35em\" text-anchor=\"start\" transform=\"translate(5,47.5)\" style=\"display: inline;\">C</text><rect class=\"node-click-target\" x=\"-5\" y=\"-5\" width=\"10\" style=\"fill: none; visibility: hidden; pointer-events: all;\" height=\"100\"/></g><g class=\"node\" transform=\"translate(0,123.5)\"><title>A1</title><line x1=\"0\" x2=\"0\" y1=\"0\" y2=\"47.5\" style=\"display: inline; stroke: rgb(0, 0, 0);\"/><rect class=\"node-body\" width=\"1\" height=\"47.5\" style=\"fill: none;\"/><text class=\"node-value\" dy=\".35em\" text-anchor=\"middle\" style=\"display: none;\" transform=\"translate(0.5,23.75) rotate(-90)\"/><text class=\"node-title\" dy=\".35em\" text-anchor=\"end\" transform=\"translate(-4,23.75)\" style=\"display: inline;\">A1</text><rect class=\"node-click-target\" x=\"-5\" y=\"-5\" width=\"10\" style=\"fill: none; visibility: hidden; pointer-events: all;\" height=\"52.5\"/></g></g><g class=\"slice-titles\"/></g></svg>"
      }
     },
     "2152106e68994df4b58ac257d9f14893": {
      "model_module": "@jupyter-widgets/base",
      "model_module_version": "1.0.0",
      "model_name": "LayoutModel",
      "state": {}
     },
     "26838e48bcae4b3d8797598cd8a0af93": {
      "model_module": "jupyter-sankey-widget",
      "model_module_version": "^0.2.5",
      "model_name": "SankeyModel",
      "state": {
       "_model_module_version": "^0.2.5",
       "_view_module_version": "^0.2.5",
       "layout": "IPY_MODEL_7a67330375e34427b17139535fe985e3",
       "linkLabelFormat": ".1f",
       "links": [
        {
         "source": "A",
         "target": "B",
         "type": "x",
         "value": 3
        },
        {
         "source": "B",
         "target": "C",
         "type": "y",
         "value": 2.9
        },
        {
         "source": "B",
         "target": "D",
         "type": "z",
         "value": 0.1
        }
       ],
       "margins": {
        "bottom": 0,
        "left": 30,
        "right": 60,
        "top": 10
       },
       "nodes": [
        {
         "id": "B"
        },
        {
         "id": "D"
        },
        {
         "id": "A"
        },
        {
         "id": "C"
        }
       ],
       "order": [],
       "png": "iVBORw0KGgoAAAANSUhEUgAAASwAAADICAYAAABS39xVAAASnElEQVR4nO3dfXRU9Z3H8c9AAsnMvREhKmGNrMICFlDxkQU84AO1QFW2Cloou2qjVqryFObehMydS23FteyK1oJW1uqKqBRBETHzAOEAQpDfdqu7up7ddVF8wLN1a6td11OPfvePO0SEzCSR5P5+mXxe53yOZCbA9TD3fWaGYQYgIiIiIiIiIiIiIiIiIiIiIiIiIiIiIiIiIiIiIiIiIiIiIiIiIiIiIiIiIiIiIiIiIiIiIiIiIiIiIiIiIiIiIiIiIiLSSRwcJ741ShoqpkrCvkm8ih9L0n5QkvajkrSeEM9aLwn7OfGtRvHsbeLZuxaO7fMuAF/3sRNRkRIf/cS3J4gfrclF6VFJ2k3iVaiOjsEiok4jcdjil4+VRPQG8ezlkrSf/zphYrCIqNPJApSLH7tUPMuXhP1cZ8aJwSKiYyZxDJJEbJZ4FSvFs5u7OlIMFhF1iPixs8SPzZeE9aswA8VgEVG7iG+NkkRsoSTtF3RGisEiolZJQ9/hkrBuFc/epDtODBYRHUWWlFeLZ90sSetp3UFisIjoKOJjoHix68WzntQdIQaLiI4iPiolEfueePY/6g4Pg0VERwleZW7NFM9eLZ69T3dwGCyizmEDeBvAJwA+B/BObn8E8BGALQBO1XZ0HRC82tyeLsmKVeLZL+mODINF1HV2A3j5iMtmAxAE0TKSLEC5eBXTJFlxb9gv5mSwiPToBeBjAI8ccXkEQbBeCfuAChEfZeLFJotnLxfP3q07JgwWUbiGIwjTvCMuPyd3+arQj+gI4qNEfGuSePad4tm7dAeEwSLS5xoEYZqY+zoC4AwAvwbwGoATdRyUAL1kiT1OfMsX396uOxoMFpEZ7kIQrAMA3gTw+9zX6wEMCPNABIiIHz1XGqwlkrS36g6FKWOwiL7UCGD/EZcNB/CvAF4HUN7VByCJ2Jni2YslaaV0x8HEMVhEX3ofwIZWLl+E4J7WlV3xm0pDn9MlEZsvnr1ZdxBMH4NFFKhCEKVEK9clc9d9s7N+M/H7DpWENVc8+xndEehOY7CIAlMRRGnaEZdHEDzp/jsAfY/lN5A4ThY/WqP7PaW68xgsokA9gmANOuyy4wD8DMEr32d9nV9UfJwoXuxvJGk9rvtkL4YxWNTTDUPwN4IfIQjWh7mvDwB4F8CzAC7pyC8odRggXuy74tmP6D7Bi20MFtFXydf6ST4qpMG6Wjz7F8X27/dMGoNF9FXtDpbMhSW+fYV4FfdL0t6r+2TuCWOwiL6qYLDER5n4Fd+SpHWPJO09uk/gnjYGi+irjgqWxGFLg3WxJOyf6j5he/oYrHBNBDBJ90FQQQIAuRdy3t3d3kK42MdghSsJwN+w56DizBwOBcuAk5NjsHRjsAwfGCyjx2CFi8EyfGCwjB6DFS4Gy/CBwTJ6DFa4GCzDBwbL6DFY4WKwDB8YLKPHYIWLwTJ8YLCMHoMVLgbL8IHBMnoMVrgYLMMHBsvoMVjhYrAMHxgso8dghYvBMnxgsIwegxUuBsvwgcEyeh0I1ukAHgDwbwDeRvCRbc25n/vnnX9qFycGy/CBwTJ67QzWIgAfALgBQDR3WV8A83N/vq93xcldjBgswwcGy+i1I1iLAXwK4Pw81z8L4MlOPKeLGoNl+MBgGb02gjUKwGcIPsE7n9kAru3Ec7qoMViGDwyW0WsjWI8h+ISjk0M5m3sABsvwgcEyegWCVQLgDwD+ObSzuQdgsAwfGCyjVyBYI3J/dqtDO5t7AAbL8IHBMnoFgjU+92e3NLSzuQdgsAwfGCyjVyBYQ3N/doWecB8PYEwnn9NFjcEyfGCwjF4bT7q/DODFPNddCOBPAMZ28jld1BgswwcGy+i1EayxAP43d3157rIyADcieCHpnC48t4sSg2X4wGAZvXa8cPRMAM8AeBfAfyF4VfuDAL7RpWd2kWKwDB8YLKPHf/wcLgbL8IHBMnoMVrgYLMMHBsvoMVjhYrAMHxgso8dghYvBMnxgsIwegxUuBsvwgcEyegxWuBgswwcGy+gxWOFisAwfGCyjx2CFi8EyfGCwjB6DFS4Gy/CBwTJ6DFa4GCzDBwbL6DFY4WKwDB8YLKPHYIWLwTJ8YLCMHoMVLgbL8IHBMnoMVrgYLMMHBsvoMVjhYrAMHxgso8dghYvBMnxgsIwegxUuBsvwIU+wfhe31fQRJWrMwIg6pyqiBtlQc0aXqgMLYnlPrjduj6krhpeoof0jamRlRF01okS9U+D7OQYrLAMBfIzgk2cLyRusSVNmqGEjz1Yjx4xT9nH91elnXaDuWLkx74n1ZNObauqM76uqk09V1acNV6PPu1Ddu3an9hO+uw95grX/9pg6KQr1QdxW4lWoReNKFQA1+oSI+ixhH3VifZaw1agTIgqA2nldVP22NqZKIsH3/6mV7+cYrDD9A4DPALzSxvflDdZx/SrVw5tfURv2HFTzlq5UAFRZNKoe3/qfrZ5YF0/7rgKgfrRyo3pqx1uqcuDJakBllXo82/r3c8cWrN/WxtQvppW1fL2vJqoAKADq1VuiR51Y6rDrP1kSBGrYgCBgm2eVaz/xu+sYrGN3JoCNALIIotW3wPfmDdbS+59u+fHKXzW33NhXrGk66nsf3vyKikSCG//apv1qw56D6vwLL1MAVM2iZdpP+u48tPM5rH+6sXCwNs4sb7n+0GVnDQz+zBITS7Wf+N11DNaxew7AYAQf4Cgo/EGN7XoOa87chAKgqk8dptbtPHDU9fFlDysAqqSktOWyi6bOVADUhMnTtZ/03XloZ7BWTStTANTZVZFWr9972D2sP7rBPawh/YKvbz2fwWKw9LgSgJv78QwEN/brC3x/wWA9tOnXquqUIQqAGnTKEHXv2h2tfl/NomUKgOpTVt5y2eQrZysAauSYcdpP+u48tCNYv3dtNaQf1ND+EfXWvNafRP/8sOewnp8VVW/Ni6lILmCLxjJYDFb4ShF8/llp7utTEdzYVxT4Oe26h3Vrw70KgIpV9FOrNuxrV7C+OX2OAqBOP2us9pO+Ow9tBOtDx1bjq3uraUNL1IdO4SfP35oXUzNHlqgzToqo2aNL1YRTeisA6r4pZZ1+IveUMVhf3zwAk4647H8AbC/wc9r9sobKkwYpAGrWze5R18WXrc77kHD8pVdqP+m781AgWK/dElUjKyPq7kv7qC9yf9N335Qy1VwTPIe1tyaqXph19PNZh3bR4CBYr7XynBfHYHWl/gDeBvDmEfs/AB8W+HmtBuuhTb9RN9Yu+8plVdWnKQBqxg2L1IY9B9Vdq19QiXseVxv2HFSrW3nS/YILp+SedL9T+0nfnYc8wXrj9piKlUINGxC8nurQhg+IqPScqPoiYSu7NHjIt//24GHieVURdXBR8ON/uSWqSiJQs0bz4SCDFb570PpHX69CcIMfnOfntRqse9fuVJUDq9Vj6X9XG/YcVD95cJMCoHr3LlF3rX5BPb37PVUejSkALQ8RD92jumPlRrVu5wF1QlW16l85UK3J/of2k747D3mCdfjLGI5cek5wj+myIb3ViMqI+jj3JPuc0aVqRGVEjavurYb2jyhnfKn6dAlfg8VghWsYgPV5rluI4AZ/RZ7rWw3WIy+8qiZMnq6GjDhDjRh9vupXeZI6/ayxquHvHm/5njEXXKQGnTK05XVZa5v2qylXXacGDhocvHD0nAl5n6Tnjj1YnBljsDruWQDj8lz3bQQ3eC/P9fynOYYPDJbRY7DabzCC56m+yP33yId9SwG8h+AG/zGAla38GgyW4QODZfQYrHAxWIYPDJbRY7DCxWAZPjBYRo/BCheDZfjAYBk9BitcDJbhA4Nl9BiscDFYhg8MltFjsMLFYBk+MFhGj8EKF4Nl+MBgGT0GK1wMluEDg2X0GKxwMViGDwyW0WOwwsVgGT4wWOYuaaXqJ5TuBTBX61ncgzBYhg8MlkGzd0nSXiZebLIsQLneU7dnYrAMHxgsEyL1t9IQu1R89NF7uhKDZfjAYOmI1G7x7OXixS4TH2V6T1E6HINl+MBghRWpZvGsFdJQMZUP98zFYBk+MFhdN99ulkTFz8SzL5e5sPSeitQeDJbhA4PVuUvae8WrWCm+PV3isPWeftRRDJbhA4PVCbNfkqT9oDRYV4uPfnpPOToWDJbhA4P1dSO1Tzx7tXjWNeLieL2nGXUWBsvwgcHqaKgekURslvio1HtqUVdgsAwfGKy2l7AfEy82R3ycqPd0oq7GYBk+MFh5Zq0VP3ad+Bio9xSiMDFYhg8M1pdLWk9JIlojcZys97QhXRgsw4ceHyxrvXjWzbKkvFrvqUImYLAMH3pksOxnJGHNlYa+f6H39CDTMFiGDz0mWPYm8azbxO8zQu8pQSZjsAwfijpY9mbxY/Ol3hql9zSg7oLBMnwoumBZjZKI1Uoidqbemz51RwyW4UNRBMtKi2c7Uh89W+/Nnbo7BsvwodsGy8pKwq6XRPQ8ASJ6b+ZULBgsw4duFSx7m3hWQvzysQL00nvTpmLEYBk+mB4s394uvuXLEnuCzEBvvTdnKnYMluGDkcGyd4hX8WNJWBPFR4nemzD1JAyW4YMxwbJ3im/54sUu0XuTpZ6MwTJ80Bosq1F82xW/fKxM4j0p0o/BMnwIM1hJ+0VJ2A+Jb/1AfL6Yk8zDYBk+dGWwklZKPPtu8WKzpd4axSfNyXQMluFDpwXL3iSevVz8aI0k7AulHifpvekRdRyDZfjQ3mAl7SbxrCfFt1aIZ9dJInqDeBXTJBEdw4+womLBYBk+HApW2rlfMvG7JeX6knbiko7/QDLOTNkSHytNPt91k3oEBsvwoSVYrmpzmfgaScd/JCnnWsnWnqH3pkXU+Rgsw4eOBCtfxDLxWxkwKgYTAUx6uvm9mzgzV33a8AcAQDLOLZJ2Hck6SyUbXy5pd5Wk3XWSdre3P15OVjKOK+m68Zpvd0TUU8mW2/rK1kWDJVV7gaTi35e0s0LSTraNgG2XjNMgW+JjdR8/ERFk64I/k2x8umTcn7dxz2ubZBxXGuv5flVEpJ/situSrfu2ZJz7Ct/zcrZI1lkoqVq+0p2I9JN1c63gnpezUtLO3gIBezZ4wn7hMN3HTEQEaZrfTzLOTEnHV0va2VfgYeN6ybo3SWohPx+QiPSTpkWVkna+Jxn30TYeNj4hW93r5PnFfMEqEeknzy8eKJn49ZJ2nij8hL37qGTjsyX7wwG6j5mICJJaWC1p52bJOOsL3OvaFzysdGdI0/x+uo+ZiAiSXThMtrq3StrdVCBeeyXjrJRUfLqsm8t/eE1E+kmqdpRknYWSdrYUiFezpN0Vkq6bKrsXlOs+ZiIiSMYdIxnHlZSbKRCvFyXl/FSy7qWyzu+j+5iJqIcTH70kVXuBZN2EZJxtBeK1U9LOTyS9eKKIz/eLJyK9pGlSiWScCZJx7pCMuyN/vOLbJeX6kq37S/H5AaxEpJmom0ol5V4sWfcuybi7Cr6jRNqpl3T8XN3HTEQEafLLpHHxtyTj/L2knT0F4tUoGaeW7+VFREaQVG1MUs7lwVtAu80F4rVZ0s48SdWN0H3MRESQLbdVSKN7lWTcByXjvlQgXhsl49wiWxYP0X3MRESQze7xknKulbTzyzbey+spSbs1sqO+SvcxExFBUrUnSqPz15Jx1xSOV3yNpOvmSKr2RN3HTEQE2VFfJWm3RoL3s8//7xozzsOScq6Vze7xuo+ZiAjSuGCopOJzJeU8U+DdJF6SbN0Dkol/R3bF7ZAP0QbwNoBPAHwO4B0A7wH4bwAvAajPfQ8R9SSSrfuGZOLzg79NLPheXvdLypkScrx2A3j5sK/7ArgKwPsAXgVQGeKxEJFJpNE5UzLuYsk4jQXueTXnPk37O138sLEXgI8BPNLKdeMQfO7k6i78/Ymou5B0/FzJOK5knKY27nn9UlJ1t0s2PlnS8UGdeAjDEURpfp7rXwfwh078/YioGMhWZ5xknDukPR8+m3G2Scb9uaRcX9LODyXtzpCMO0lS7jmHb6N39SUACv2t5DUIgjUxz/XbctdHO/l/l4iKQfCOEu45knEXFHzCvh1bePV57wLwC/x2dyEI0nF5rv8NgE87+X+RiIqVNC4YKlvdvwoeOsYLv9ar48FqBPBGnuvKEMSquZP/l4ioJ5FU3QhJOVMk7dwsafdOybhrWnuLnHYE630A6/NcNx3BvS+3kw+fiKjDqhAEaUkr1/UCsBfABwD44lYi0m4qgmBNbeW65QA+A3B5qEdERJRHPYJgHXqZRC8Er73aguDV7tM0HRcRUYthAN4E8BGCYL0JYD+AAwC2A6gFHwYSERERERERERERERERERERERERERERERERERERERERERERkXn+H5ziOadYutieAAAAAElFTkSuQmCC",
       "scale": 31.666666666666668,
       "svg": "<?xml version=\"1.0\" standalone=\"no\"?><!DOCTYPE svg PUBLIC \"-//W3C//DTD SVG 1.1//EN\" \"http://www.w3.org/Graphics/SVG/1.1/DTD/svg11.dtd\"><svg xmlns=\"http://www.w3.org/2000/svg\" width=\"300\" height=\"200\" viewBox=\"0 0 300 200\"><g class=\"sankey\" transform=\"translate(30,10)\"><g class=\"groups\"/><g class=\"links\"><g class=\"link\" style=\"opacity: 0.8;\"><path d=\"M105.5,139.33333333333331 A62.238596491228066 62.238596491228066 0.32954890555438254 0 1 125.64142064121587,142.6824904678184 L189.8833641219309,164.65457953146029 A59.071929824561394 59.071929824561394 0.32954890555438254 0 0 209,167.83333333333331 L209,171 A62.238596491228066 62.238596491228066 0.32954890555438254 0 1 188.8585793587841,167.6508428655149 L124.61663587806912,145.67875380187303 A59.071929824561394 59.071929824561394 0.32954890555438254 0 0 105.5,142.5 Z\" style=\"fill: rgb(255, 187, 120);\"/><title>B → D\nz\n100m</title><text class=\"label\" dy=\"0.35em\" x=\"109.5\" y=\"140.91666666666666\"/></g><g class=\"link\" style=\"opacity: 0.8;\"><path d=\"M105.5,47.49999999999999 A14.738596491228066 14.738596491228066 0.32954890555438254 0 0 110.26964919401439,46.706892854695866 L174.5115926747294,24.734803791053963 A106.5719298245614 106.5719298245614 0.32954890555438254 0 1 209,18.999999999999993 L209,110.83333333333331 A14.738596491228066 14.738596491228066 0.32954890555438254 0 0 204.2303508059856,111.62644047863745 L139.9884073252706,133.59852954227935 A106.5719298245614 106.5719298245614 0.32954890555438254 0 1 105.5,139.33333333333331 Z\" style=\"fill: rgb(255, 127, 14);\"/><title>B → C\ny\n2.90</title><text class=\"label\" dy=\"0.35em\" x=\"109.5\" y=\"93.41666666666666\">2.9</text></g><g class=\"link\" style=\"opacity: 0.8;\"><path d=\"M1,47.5 A0 0 0 0 0 1,47.5 L104.5,47.5 A0 0 0 0 0 104.5,47.5 L104.5,142.5 A0 0 0 0 0 104.5,142.5 L1,142.5 A0 0 0 0 0 1,142.5 Z\" style=\"fill: rgb(174, 199, 232);\"/><title>A → B\nx\n3.00</title><text class=\"label\" dy=\"0.35em\" x=\"5\" y=\"95\">3.0</text></g></g><g class=\"nodes\"><g class=\"node\" transform=\"translate(104.5,47.5)\"><title>B</title><line x1=\"0\" x2=\"0\" y1=\"-5\" y2=\"95\" style=\"display: inline; stroke: rgb(0, 0, 0);\"/><rect class=\"node-body\" width=\"1\" height=\"95\" style=\"fill: none;\"/><text class=\"node-value\" dy=\".35em\" text-anchor=\"middle\" style=\"display: none;\" transform=\"translate(0.5,47.5) rotate(-90)\"/><text class=\"node-title\" dy=\".35em\" text-anchor=\"start\" transform=\"translate(-4,-10)\" style=\"display: inline;\">B</text><rect class=\"node-click-target\" x=\"-5\" y=\"-5\" width=\"10\" style=\"fill: none; visibility: hidden; pointer-events: all;\" height=\"100\"/></g><g class=\"node\" transform=\"translate(209,167.83333333333331)\"><title>D</title><line x1=\"0\" x2=\"0\" y1=\"0\" y2=\"3.166666666666657\" style=\"display: inline; stroke: rgb(0, 0, 0);\"/><rect class=\"node-body\" width=\"1\" height=\"3.166666666666657\" style=\"fill: none;\"/><text class=\"node-value\" dy=\".35em\" text-anchor=\"middle\" style=\"display: none;\" transform=\"translate(0.5,1.5833333333333286) rotate(-90)\"/><text class=\"node-title\" dy=\".35em\" text-anchor=\"start\" transform=\"translate(5,1.5833333333333286)\" style=\"display: inline;\">D</text><rect class=\"node-click-target\" x=\"-5\" y=\"-5\" width=\"10\" style=\"fill: none; visibility: hidden; pointer-events: all;\" height=\"8.166666666666657\"/></g><g class=\"node\" transform=\"translate(0,47.5)\"><title>A</title><line x1=\"0\" x2=\"0\" y1=\"0\" y2=\"95\" style=\"display: inline; stroke: rgb(0, 0, 0);\"/><rect class=\"node-body\" width=\"1\" height=\"95\" style=\"fill: none;\"/><text class=\"node-value\" dy=\".35em\" text-anchor=\"middle\" style=\"display: none;\" transform=\"translate(0.5,47.5) rotate(-90)\"/><text class=\"node-title\" dy=\".35em\" text-anchor=\"end\" transform=\"translate(-4,47.5)\" style=\"display: inline;\">A</text><rect class=\"node-click-target\" x=\"-5\" y=\"-5\" width=\"10\" style=\"fill: none; visibility: hidden; pointer-events: all;\" height=\"100\"/></g><g class=\"node\" transform=\"translate(209,19)\"><title>C</title><line x1=\"0\" x2=\"0\" y1=\"0\" y2=\"91.83333333333333\" style=\"display: inline; stroke: rgb(0, 0, 0);\"/><rect class=\"node-body\" width=\"1\" height=\"91.83333333333333\" style=\"fill: none;\"/><text class=\"node-value\" dy=\".35em\" text-anchor=\"middle\" style=\"display: none;\" transform=\"translate(0.5,45.916666666666664) rotate(-90)\"/><text class=\"node-title\" dy=\".35em\" text-anchor=\"start\" transform=\"translate(5,45.916666666666664)\" style=\"display: inline;\">C</text><rect class=\"node-click-target\" x=\"-5\" y=\"-5\" width=\"10\" style=\"fill: none; visibility: hidden; pointer-events: all;\" height=\"96.83333333333333\"/></g></g><g class=\"slice-titles\"/></g></svg>"
      }
     },
     "2a714ee1c2e94e46aafb49eb625bee7d": {
      "model_module": "jupyter-sankey-widget",
      "model_module_version": "^0.2.5",
      "model_name": "SankeyModel",
      "state": {
       "_model_module_version": "^0.2.5",
       "_view_module_version": "^0.2.5",
       "layout": "IPY_MODEL_7a67330375e34427b17139535fe985e3",
       "links": [
        {
         "color": "steelblue",
         "source": "A",
         "target": "B",
         "value": 3
        },
        {
         "color": "#aaa",
         "source": "B",
         "target": "C",
         "value": 2
        },
        {
         "color": "goldenrod",
         "source": "B",
         "target": "D",
         "value": 1
        }
       ],
       "margins": {
        "bottom": 0,
        "left": 30,
        "right": 60,
        "top": 10
       },
       "nodes": [
        {
         "id": "B"
        },
        {
         "id": "D"
        },
        {
         "id": "A"
        },
        {
         "id": "C"
        }
       ],
       "order": [],
       "png": "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",
       "scale": 31.666666666666668,
       "svg": "<?xml version=\"1.0\" standalone=\"no\"?><!DOCTYPE svg PUBLIC \"-//W3C//DTD SVG 1.1//EN\" \"http://www.w3.org/Graphics/SVG/1.1/DTD/svg11.dtd\"><svg xmlns=\"http://www.w3.org/2000/svg\" width=\"300\" height=\"200\" viewBox=\"0 0 300 200\"><g class=\"sankey\" transform=\"translate(30,10)\"><g class=\"groups\"/><g class=\"links\"><g class=\"link\" style=\"opacity: 0.8;\"><path d=\"M105.5,110.83333333333334 A76.48859649122804 76.48859649122804 0.32954890555438254 0 1 130.2529520753763,114.9493054645727 L194.49489555609134,136.92139452821462 A44.82192982456137 44.82192982456137 0.32954890555438254 0 0 209,139.33333333333334 L209,171.00000000000003 A76.48859649122804 76.48859649122804 0.32954890555438254 0 1 184.24704792462367,166.88402786876063 L120.00510444390865,144.91193880511872 A44.82192982456137 44.82192982456137 0.32954890555438254 0 0 105.5,142.5 Z\" style=\"fill: rgb(218, 165, 32);\"/><title>B → D\n1.00</title><text class=\"label\" dy=\"0.35em\" x=\"109.5\" y=\"126.66666666666667\"/></g><g class=\"link\" style=\"opacity: 0.8;\"><path d=\"M105.5,47.5 A28.988596491228062 28.988596491228062 0.32954890555438254 0 0 114.88118062817485,45.94007785794159 L179.12312410888984,23.96798879429969 A92.3219298245614 92.3219298245614 0.32954890555438254 0 1 209,19.000000000000004 L209,82.33333333333334 A28.988596491228062 28.988596491228062 0.32954890555438254 0 0 199.61881937182517,83.89325547539175 L135.37687589111016,105.86534453903366 A92.3219298245614 92.3219298245614 0.32954890555438254 0 1 105.5,110.83333333333334 Z\" style=\"fill: rgb(170, 170, 170);\"/><title>B → C\n2.00</title><text class=\"label\" dy=\"0.35em\" x=\"109.5\" y=\"79.16666666666667\"/></g><g class=\"link\" style=\"opacity: 0.8;\"><path d=\"M1,47.5 A0 0 0 0 0 1,47.5 L104.5,47.5 A0 0 0 0 0 104.5,47.5 L104.5,142.5 A0 0 0 0 0 104.5,142.5 L1,142.5 A0 0 0 0 0 1,142.5 Z\" style=\"fill: rgb(70, 130, 180);\"/><title>A → B\n3.00</title><text class=\"label\" dy=\"0.35em\" x=\"5\" y=\"95\"/></g></g><g class=\"nodes\"><g class=\"node\" transform=\"translate(104.5,47.5)\"><title>B</title><line x1=\"0\" x2=\"0\" y1=\"-5\" y2=\"95\" style=\"display: inline; stroke: rgb(0, 0, 0);\"/><rect class=\"node-body\" width=\"1\" height=\"95\" style=\"fill: none;\"/><text class=\"node-value\" dy=\".35em\" text-anchor=\"middle\" style=\"display: none;\" transform=\"translate(0.5,47.5) rotate(-90)\"/><text class=\"node-title\" dy=\".35em\" text-anchor=\"start\" transform=\"translate(-4,-10)\" style=\"display: inline;\">B</text><rect class=\"node-click-target\" x=\"-5\" y=\"-5\" width=\"10\" style=\"fill: none; visibility: hidden; pointer-events: all;\" height=\"100\"/></g><g class=\"node\" transform=\"translate(209,139.33333333333334)\"><title>D</title><line x1=\"0\" x2=\"0\" y1=\"0\" y2=\"31.666666666666657\" style=\"display: inline; stroke: rgb(0, 0, 0);\"/><rect class=\"node-body\" width=\"1\" height=\"31.666666666666657\" style=\"fill: none;\"/><text class=\"node-value\" dy=\".35em\" text-anchor=\"middle\" style=\"display: none;\" transform=\"translate(0.5,15.833333333333329) rotate(-90)\"/><text class=\"node-title\" dy=\".35em\" text-anchor=\"start\" transform=\"translate(5,15.833333333333329)\" style=\"display: inline;\">D</text><rect class=\"node-click-target\" x=\"-5\" y=\"-5\" width=\"10\" style=\"fill: none; visibility: hidden; pointer-events: all;\" height=\"36.66666666666666\"/></g><g class=\"node\" transform=\"translate(0,47.5)\"><title>A</title><line x1=\"0\" x2=\"0\" y1=\"0\" y2=\"95\" style=\"display: inline; stroke: rgb(0, 0, 0);\"/><rect class=\"node-body\" width=\"1\" height=\"95\" style=\"fill: none;\"/><text class=\"node-value\" dy=\".35em\" text-anchor=\"middle\" style=\"display: none;\" transform=\"translate(0.5,47.5) rotate(-90)\"/><text class=\"node-title\" dy=\".35em\" text-anchor=\"end\" transform=\"translate(-4,47.5)\" style=\"display: inline;\">A</text><rect class=\"node-click-target\" x=\"-5\" y=\"-5\" width=\"10\" style=\"fill: none; visibility: hidden; pointer-events: all;\" height=\"100\"/></g><g class=\"node\" transform=\"translate(209,19)\"><title>C</title><line x1=\"0\" x2=\"0\" y1=\"0\" y2=\"63.33333333333334\" style=\"display: inline; stroke: rgb(0, 0, 0);\"/><rect class=\"node-body\" width=\"1\" height=\"63.33333333333334\" style=\"fill: none;\"/><text class=\"node-value\" dy=\".35em\" text-anchor=\"middle\" style=\"display: none;\" transform=\"translate(0.5,31.66666666666667) rotate(-90)\"/><text class=\"node-title\" dy=\".35em\" text-anchor=\"start\" transform=\"translate(5,31.66666666666667)\" style=\"display: inline;\">C</text><rect class=\"node-click-target\" x=\"-5\" y=\"-5\" width=\"10\" style=\"fill: none; visibility: hidden; pointer-events: all;\" height=\"68.33333333333334\"/></g></g><g class=\"slice-titles\"/></g></svg>"
      }
     },
     "2eb97ea0410144c0a4dc14db0e50786d": {
      "model_module": "@jupyter-widgets/base",
      "model_module_version": "1.0.0",
      "model_name": "LayoutModel",
      "state": {}
     },
     "313c8e169f6e49ec95eb8f3972058aa5": {
      "model_module": "jupyter-sankey-widget",
      "model_module_version": "^0.2.5",
      "model_name": "SankeyModel",
      "state": {
       "_model_module_version": "^0.2.5",
       "_view_module_version": "^0.2.5",
       "layout": "IPY_MODEL_7a67330375e34427b17139535fe985e3",
       "links": [
        {
         "source": "A",
         "target": "B",
         "value": 1
        },
        {
         "source": "B",
         "target": "C",
         "value": 1
        },
        {
         "source": "C",
         "target": "D",
         "value": 1
        },
        {
         "source": "A",
         "target": "E",
         "value": 0.5
        }
       ],
       "margins": {
        "bottom": 0,
        "left": 30,
        "right": 60,
        "top": 10
       },
       "nodes": [
        {
         "direction": "l",
         "id": "C"
        },
        {
         "direction": "r",
         "id": "D"
        },
        {
         "id": "B"
        },
        {
         "id": "A"
        },
        {
         "id": "E"
        }
       ],
       "order": [],
       "png": "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",
       "scale": 27.142857142857142,
       "svg": "<?xml version=\"1.0\" standalone=\"no\"?><!DOCTYPE svg PUBLIC \"-//W3C//DTD SVG 1.1//EN\" \"http://www.w3.org/Graphics/SVG/1.1/DTD/svg11.dtd\"><svg xmlns=\"http://www.w3.org/2000/svg\" width=\"300\" height=\"200\" viewBox=\"0 0 300 200\"><g class=\"sankey\" transform=\"translate(30,10)\"><g class=\"groups\"/><g class=\"links\"><g class=\"link\" style=\"opacity: 0.8;\"><path d=\"M1,101.78571428571428 A131.7616678892353 131.7616678892353 0.3205653710853571 0 1 42.51852062928782,108.4979936530198 L171.75787967846662,151.4076556531524 A118.19023931780673 118.19023931780673 0.3205653710853571 0 0 209,157.42857142857142 L209,170.99999999999997 A131.7616678892353 131.7616678892353 0.3205653710853571 0 1 167.48147937071218,164.28772063269446 L38.24212032153339,121.37805863256186 A118.19023931780673 118.19023931780673 0.3205653710853571 0 0 1,115.35714285714286 Z\" style=\"fill: rgb(31, 119, 180);\"/><title>A → E\n500m</title><text class=\"label\" dy=\"0.35em\" x=\"5\" y=\"108.57142857142857\"/></g><g class=\"link\" style=\"opacity: 0.8;\"><path d=\"M1,74.64285714285714 A111.40452503209242 111.40452503209242 0.3205653710853573 0 0 36.10392016765619,68.9676231633814 L165.34327921683493,26.05796116324879 A138.54738217494958 138.54738217494958 0.3205653710853573 0 1 209,19 L209,46.14285714285714 A111.40452503209242 111.40452503209242 0.3205653710853573 0 0 173.89607983234382,51.81809112233289 L44.65672078316506,94.72775312246549 A138.54738217494958 138.54738217494958 0.3205653710853573 0 1 1,101.78571428571428 Z\" style=\"fill: rgb(31, 119, 180);\"/><title>A → B\n1.00</title><text class=\"label\" dy=\"0.35em\" x=\"5\" y=\"88.21428571428571\"/></g><g class=\"link\" style=\"opacity: 0.8;\"><path d=\"M210,19 A32.14285714285714 32.14285714285714 1.6814535479687924 0 1 241.94626290022345,54.69244190954864 L240.94626290022345,59.59069951248291 A32.14285714285714 32.14285714285714 1.6814535479687924 0 1 209,92.28571428571428 L209,65.14285714285714 A4.999999999999998 4.999999999999998 1.6814535479687924 0 0 213.9694186733681,56.593272376165636 L214.9694186733681,51.69501477323137 A4.999999999999998 4.999999999999998 1.6814535479687924 0 0 210,46.14285714285714 Z\" style=\"fill: rgb(31, 119, 180);\"/><title>B → C\n1.00</title><text class=\"label\" dy=\"0.35em\" x=\"214\" y=\"32.57142857142857\"/></g><g class=\"link\" style=\"opacity: 0.8;\"><path d=\"M210,65.14285714285714 A32.14285714285714 32.14285714285714 1.6814535479687924 0 0 178.05373709977655,100.83529905240577 L177.05373709977655,105.73355665534005 A32.14285714285714 32.14285714285714 1.6814535479687924 0 0 209,138.42857142857142 L209,111.28571428571428 A4.999999999999998 4.999999999999998 1.6814535479687924 0 1 204.0305813266319,105.73355665534005 L205.0305813266319,100.83529905240577 A4.999999999999998 4.999999999999998 1.6814535479687924 0 1 210,92.28571428571428 Z\" style=\"fill: rgb(31, 119, 180);\"/><title>C → D\n1.00</title><text class=\"label\" dy=\"0.35em\" x=\"214\" y=\"78.71428571428571\"/></g></g><g class=\"nodes\"><g class=\"node\" transform=\"translate(209,65.14285714285714)\"><title>C</title><line x1=\"0\" x2=\"0\" y1=\"0\" y2=\"27.14285714285714\" style=\"display: inline; stroke: rgb(0, 0, 0);\"/><rect class=\"node-body\" width=\"1\" height=\"27.14285714285714\" style=\"fill: none;\"/><text class=\"node-value\" dy=\".35em\" text-anchor=\"middle\" style=\"display: none;\" transform=\"translate(0.5,13.57142857142857) rotate(-90)\"/><text class=\"node-title\" dy=\".35em\" text-anchor=\"start\" transform=\"translate(5,13.57142857142857)\" style=\"display: inline;\">C</text><rect class=\"node-click-target\" x=\"-5\" y=\"-5\" width=\"10\" style=\"fill: none; visibility: hidden; pointer-events: all;\" height=\"32.14285714285714\"/></g><g class=\"node\" transform=\"translate(209,111.28571428571428)\"><title>D</title><line x1=\"0\" x2=\"0\" y1=\"0\" y2=\"27.14285714285714\" style=\"display: inline; stroke: rgb(0, 0, 0);\"/><rect class=\"node-body\" width=\"1\" height=\"27.14285714285714\" style=\"fill: none;\"/><text class=\"node-value\" dy=\".35em\" text-anchor=\"middle\" style=\"display: none;\" transform=\"translate(0.5,13.57142857142857) rotate(-90)\"/><text class=\"node-title\" dy=\".35em\" text-anchor=\"start\" transform=\"translate(5,13.57142857142857)\" style=\"display: inline;\">D</text><rect class=\"node-click-target\" x=\"-5\" y=\"-5\" width=\"10\" style=\"fill: none; visibility: hidden; pointer-events: all;\" height=\"32.14285714285714\"/></g><g class=\"node\" transform=\"translate(209,19)\"><title>B</title><line x1=\"0\" x2=\"0\" y1=\"-5\" y2=\"27.14285714285714\" style=\"display: inline; stroke: rgb(0, 0, 0);\"/><rect class=\"node-body\" width=\"1\" height=\"27.14285714285714\" style=\"fill: none;\"/><text class=\"node-value\" dy=\".35em\" text-anchor=\"middle\" style=\"display: none;\" transform=\"translate(0.5,13.57142857142857) rotate(-90)\"/><text class=\"node-title\" dy=\".35em\" text-anchor=\"start\" transform=\"translate(-4,-10)\" style=\"display: inline;\">B</text><rect class=\"node-click-target\" x=\"-5\" y=\"-5\" width=\"10\" style=\"fill: none; visibility: hidden; pointer-events: all;\" height=\"32.14285714285714\"/></g><g class=\"node\" transform=\"translate(0,74.64285714285714)\"><title>A</title><line x1=\"0\" x2=\"0\" y1=\"0\" y2=\"40.71428571428572\" style=\"display: inline; stroke: rgb(0, 0, 0);\"/><rect class=\"node-body\" width=\"1\" height=\"40.71428571428572\" style=\"fill: none;\"/><text class=\"node-value\" dy=\".35em\" text-anchor=\"middle\" style=\"display: none;\" transform=\"translate(0.5,20.35714285714286) rotate(-90)\"/><text class=\"node-title\" dy=\".35em\" text-anchor=\"end\" transform=\"translate(-4,20.35714285714286)\" style=\"display: inline;\">A</text><rect class=\"node-click-target\" x=\"-5\" y=\"-5\" width=\"10\" style=\"fill: none; visibility: hidden; pointer-events: all;\" height=\"45.71428571428572\"/></g><g class=\"node\" transform=\"translate(209,157.42857142857142)\"><title>E</title><line x1=\"0\" x2=\"0\" y1=\"0\" y2=\"13.571428571428584\" style=\"display: inline; stroke: rgb(0, 0, 0);\"/><rect class=\"node-body\" width=\"1\" height=\"13.571428571428584\" style=\"fill: none;\"/><text class=\"node-value\" dy=\".35em\" text-anchor=\"middle\" style=\"display: none;\" transform=\"translate(0.5,6.785714285714292) rotate(-90)\"/><text class=\"node-title\" dy=\".35em\" text-anchor=\"start\" transform=\"translate(5,6.785714285714292)\" style=\"display: inline;\">E</text><rect class=\"node-click-target\" x=\"-5\" y=\"-5\" width=\"10\" style=\"fill: none; visibility: hidden; pointer-events: all;\" height=\"18.571428571428584\"/></g></g><g class=\"slice-titles\"/></g></svg>"
      }
     },
     "3fb968eb608b4776b5ea34d711e8d738": {
      "model_module": "@jupyter-widgets/controls",
      "model_module_version": "1.2.0",
      "model_name": "ButtonModel",
      "state": {
       "description": "Swap",
       "layout": "IPY_MODEL_2152106e68994df4b58ac257d9f14893",
       "style": "IPY_MODEL_f892f1aaba74439e84d058c96232861a"
      }
     },
     "4ad8ede7332f4a57aa613a3847e38572": {
      "model_module": "jupyter-sankey-widget",
      "model_module_version": "^0.2.5",
      "model_name": "SankeyModel",
      "state": {
       "_model_module_version": "^0.2.5",
       "_view_module_version": "^0.2.5",
       "groups": [
        {
         "id": "G",
         "nodes": [
          "C",
          "D"
         ],
         "rect": {
          "bottom": 153,
          "left": 209,
          "right": 210,
          "top": 17
         },
         "title": "Group"
        }
       ],
       "layout": "IPY_MODEL_7a67330375e34427b17139535fe985e3",
       "links": [
        {
         "source": "A",
         "target": "B",
         "type": "x",
         "value": 3
        },
        {
         "source": "B",
         "target": "C",
         "type": "y",
         "value": 2
        },
        {
         "source": "B",
         "target": "D",
         "type": "z",
         "value": 1
        }
       ],
       "margins": {
        "bottom": 0,
        "left": 30,
        "right": 60,
        "top": 30
       },
       "nodes": [
        {
         "id": "B"
        },
        {
         "id": "D"
        },
        {
         "id": "A"
        },
        {
         "id": "C"
        }
       ],
       "order": [],
       "png": "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",
       "scale": 28.333333333333332,
       "svg": "<?xml version=\"1.0\" standalone=\"no\"?><!DOCTYPE svg PUBLIC \"-//W3C//DTD SVG 1.1//EN\" \"http://www.w3.org/Graphics/SVG/1.1/DTD/svg11.dtd\"><svg xmlns=\"http://www.w3.org/2000/svg\" width=\"300\" height=\"200\" viewBox=\"0 0 300 200\"><g class=\"sankey\" transform=\"translate(30,30)\"><g class=\"groups\"><g class=\"group\" style=\"display: inline;\" transform=\"translate(209,17)\"><rect x=\"-10\" y=\"-20\" width=\"21\" height=\"166\" style=\"fill: rgb(238, 238, 238); stroke: rgb(187, 187, 187); stroke-width: 0.5;\"/><text x=\"-10\" y=\"-25\" style=\"fill: rgb(153, 153, 153);\">Group</text></g></g><g class=\"links\"><g class=\"link\" style=\"opacity: 0.8;\"><path d=\"M105.5,99.16666666666666 A81.00490196078435 81.00490196078435 0.29620623177416605 0 1 129.1448256934126,102.69436966153317 L193.62549760510024,122.37285918225874 A52.671568627451016 52.671568627451016 0.29620623177416605 0 0 209,124.66666666666664 L209,152.99999999999997 A81.00490196078435 81.00490196078435 0.29620623177416605 0 1 185.3551743065874,149.47229700513347 L120.87450239489976,129.7938074844079 A52.671568627451016 52.671568627451016 0.29620623177416605 0 0 105.5,127.5 Z\" style=\"fill: rgb(255, 187, 120);\"/><title>B → D\nz\n1.00</title><text class=\"label\" dy=\"0.35em\" x=\"109.5\" y=\"113.33333333333333\"/></g><g class=\"link\" style=\"opacity: 0.8;\"><path d=\"M105.5,42.5 A38.50490196078431 38.50490196078431 0.2962062317741663 0 0 116.73934074564335,40.8231402708214 L181.22001265733095,21.144650750095824 A95.17156862745097 95.17156862745097 0.2962062317741663 0 1 209,16.999999999999996 L209,73.66666666666666 A38.50490196078431 38.50490196078431 0.2962062317741663 0 0 197.76065925435668,75.34352639584527 L133.27998734266905,95.02201591657084 A95.17156862745097 95.17156862745097 0.2962062317741663 0 1 105.5,99.16666666666666 Z\" style=\"fill: rgb(255, 127, 14);\"/><title>B → C\ny\n2.00</title><text class=\"label\" dy=\"0.35em\" x=\"109.5\" y=\"70.83333333333333\"/></g><g class=\"link\" style=\"opacity: 0.8;\"><path d=\"M1,42.5 A0 0 0 0 0 1,42.5 L104.5,42.5 A0 0 0 0 0 104.5,42.5 L104.5,127.5 A0 0 0 0 0 104.5,127.5 L1,127.5 A0 0 0 0 0 1,127.5 Z\" style=\"fill: rgb(174, 199, 232);\"/><title>A → B\nx\n3.00</title><text class=\"label\" dy=\"0.35em\" x=\"5\" y=\"85\"/></g></g><g class=\"nodes\"><g class=\"node\" transform=\"translate(104.5,42.5)\"><title>B</title><line x1=\"0\" x2=\"0\" y1=\"-5\" y2=\"85\" style=\"display: inline; stroke: rgb(0, 0, 0);\"/><rect class=\"node-body\" width=\"1\" height=\"85\" style=\"fill: none;\"/><text class=\"node-value\" dy=\".35em\" text-anchor=\"middle\" style=\"display: none;\" transform=\"translate(0.5,42.5) rotate(-90)\"/><text class=\"node-title\" dy=\".35em\" text-anchor=\"start\" transform=\"translate(-4,-10)\" style=\"display: inline;\">B</text><rect class=\"node-click-target\" x=\"-5\" y=\"-5\" width=\"10\" style=\"fill: none; visibility: hidden; pointer-events: all;\" height=\"90\"/></g><g class=\"node\" transform=\"translate(209,124.66666666666666)\"><title>D</title><line x1=\"0\" x2=\"0\" y1=\"0\" y2=\"28.333333333333343\" style=\"display: inline; stroke: rgb(0, 0, 0);\"/><rect class=\"node-body\" width=\"1\" height=\"28.333333333333343\" style=\"fill: none;\"/><text class=\"node-value\" dy=\".35em\" text-anchor=\"middle\" style=\"display: none;\" transform=\"translate(0.5,14.166666666666671) rotate(-90)\"/><text class=\"node-title\" dy=\".35em\" text-anchor=\"start\" transform=\"translate(5,14.166666666666671)\" style=\"display: inline;\">D</text><rect class=\"node-click-target\" x=\"-5\" y=\"-5\" width=\"10\" style=\"fill: none; visibility: hidden; pointer-events: all;\" height=\"33.33333333333334\"/></g><g class=\"node\" transform=\"translate(0,42.5)\"><title>A</title><line x1=\"0\" x2=\"0\" y1=\"0\" y2=\"85\" style=\"display: inline; stroke: rgb(0, 0, 0);\"/><rect class=\"node-body\" width=\"1\" height=\"85\" style=\"fill: none;\"/><text class=\"node-value\" dy=\".35em\" text-anchor=\"middle\" style=\"display: none;\" transform=\"translate(0.5,42.5) rotate(-90)\"/><text class=\"node-title\" dy=\".35em\" text-anchor=\"end\" transform=\"translate(-4,42.5)\" style=\"display: inline;\">A</text><rect class=\"node-click-target\" x=\"-5\" y=\"-5\" width=\"10\" style=\"fill: none; visibility: hidden; pointer-events: all;\" height=\"90\"/></g><g class=\"node\" transform=\"translate(209,17)\"><title>C</title><line x1=\"0\" x2=\"0\" y1=\"0\" y2=\"56.66666666666666\" style=\"display: inline; stroke: rgb(0, 0, 0);\"/><rect class=\"node-body\" width=\"1\" height=\"56.66666666666666\" style=\"fill: none;\"/><text class=\"node-value\" dy=\".35em\" text-anchor=\"middle\" style=\"display: none;\" transform=\"translate(0.5,28.33333333333333) rotate(-90)\"/><text class=\"node-title\" dy=\".35em\" text-anchor=\"start\" transform=\"translate(5,28.33333333333333)\" style=\"display: inline;\">C</text><rect class=\"node-click-target\" x=\"-5\" y=\"-5\" width=\"10\" style=\"fill: none; visibility: hidden; pointer-events: all;\" height=\"61.66666666666666\"/></g></g><g class=\"slice-titles\"/></g></svg>"
      }
     },
     "50a76e7bb98e47eb95d5ca38ab6e5b62": {
      "model_module": "jupyter-sankey-widget",
      "model_module_version": "^0.2.5",
      "model_name": "SankeyModel",
      "state": {
       "_model_module_version": "^0.2.5",
       "_view_module_version": "^0.2.5",
       "layout": "IPY_MODEL_7a67330375e34427b17139535fe985e3",
       "links": [
        {
         "source": "A",
         "target": "B",
         "value": 1
        },
        {
         "source": "B",
         "target": "C",
         "value": 1
        },
        {
         "source": "A",
         "target": "D",
         "value": 1
        }
       ],
       "margins": {
        "bottom": 0,
        "left": 30,
        "right": 60,
        "top": 10
       },
       "nodes": [
        {
         "id": "B"
        },
        {
         "id": "D"
        },
        {
         "id": "A"
        },
        {
         "id": "C"
        }
       ],
       "order": [],
       "png": "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",
       "rank_sets": [
        {
         "nodes": [
          "C",
          "D"
         ],
         "type": "same"
        }
       ],
       "scale": 47.5,
       "svg": "<?xml version=\"1.0\" standalone=\"no\"?><!DOCTYPE svg PUBLIC \"-//W3C//DTD SVG 1.1//EN\" \"http://www.w3.org/Graphics/SVG/1.1/DTD/svg11.dtd\"><svg xmlns=\"http://www.w3.org/2000/svg\" width=\"300\" height=\"200\" viewBox=\"0 0 300 200\"><g class=\"sankey\" transform=\"translate(30,10)\"><g class=\"groups\"/><g class=\"links\"><g class=\"link\" style=\"opacity: 0.8;\"><path d=\"M1,47.5 A36.90526315789473 36.90526315789473 0.32954890555438254 0 0 12.943142536041748,45.51406952641143 L77.18508601675677,23.541980462769526 A84.40526315789472 84.40526315789472 0.32954890555438254 0 1 104.5,19 L104.5,66.5 A36.90526315789473 36.90526315789473 0.32954890555438254 0 0 92.55685746395824,68.48593047358857 L28.31491398324323,90.45801953723047 A84.40526315789472 84.40526315789472 0.32954890555438254 0 1 1,95 Z\" style=\"fill: rgb(31, 119, 180);\"/><title>A → B\n1.00</title><text class=\"label\" dy=\"0.35em\" x=\"5\" y=\"71.25\"/></g><g class=\"link\" style=\"opacity: 0.8;\"><path d=\"M105.5,19 A0 0 0 0 0 105.5,19 L209,19 A0 0 0 0 0 209,19 L209,66.5 A0 0 0 0 0 209,66.5 L105.5,66.5 A0 0 0 0 0 105.5,66.5 Z\" style=\"fill: rgb(31, 119, 180);\"/><title>B → C\n1.00</title><text class=\"label\" dy=\"0.35em\" x=\"109.5\" y=\"42.75\"/></g><g class=\"link\" style=\"opacity: 0.8;\"><path d=\"M1,95 A84.40526315789472 84.40526315789472 0.32718715633242557 0 1 28.126220933482315,99.47769227887096 L93.13936140265774,121.54217882026293 A36.90526315789473 36.90526315789473 0.32718715633242557 0 0 105,123.5 L105,171 A84.40526315789472 84.40526315789472 0.32718715633242557 0 1 77.87377906651768,166.522307721129 L12.860638597342271,144.45782117973707 A36.90526315789473 36.90526315789473 0.32718715633242557 0 0 1,142.5 ZM105,123.5 A0 0 0 0 0 105,123.5 L209,123.5 A0 0 0 0 0 209,123.5 L209,171 A0 0 0 0 0 209,171 L105,171 A0 0 0 0 0 105,171 Z\" style=\"fill: rgb(31, 119, 180);\"/><title>A → D\n1.00</title><text class=\"label\" dy=\"0.35em\" x=\"5\" y=\"118.75\"/></g></g><g class=\"nodes\"><g class=\"node\" transform=\"translate(104.5,19)\"><title>B</title><line x1=\"0\" x2=\"0\" y1=\"-5\" y2=\"47.5\" style=\"display: inline; stroke: rgb(0, 0, 0);\"/><rect class=\"node-body\" width=\"1\" height=\"47.5\" style=\"fill: none;\"/><text class=\"node-value\" dy=\".35em\" text-anchor=\"middle\" style=\"display: none;\" transform=\"translate(0.5,23.75) rotate(-90)\"/><text class=\"node-title\" dy=\".35em\" text-anchor=\"start\" transform=\"translate(-4,-10)\" style=\"display: inline;\">B</text><rect class=\"node-click-target\" x=\"-5\" y=\"-5\" width=\"10\" style=\"fill: none; visibility: hidden; pointer-events: all;\" height=\"52.5\"/></g><g class=\"node\" transform=\"translate(209,123.5)\"><title>D</title><line x1=\"0\" x2=\"0\" y1=\"0\" y2=\"47.5\" style=\"display: inline; stroke: rgb(0, 0, 0);\"/><rect class=\"node-body\" width=\"1\" height=\"47.5\" style=\"fill: none;\"/><text class=\"node-value\" dy=\".35em\" text-anchor=\"middle\" style=\"display: none;\" transform=\"translate(0.5,23.75) rotate(-90)\"/><text class=\"node-title\" dy=\".35em\" text-anchor=\"start\" transform=\"translate(5,23.75)\" style=\"display: inline;\">D</text><rect class=\"node-click-target\" x=\"-5\" y=\"-5\" width=\"10\" style=\"fill: none; visibility: hidden; pointer-events: all;\" height=\"52.5\"/></g><g class=\"node\" transform=\"translate(0,47.5)\"><title>A</title><line x1=\"0\" x2=\"0\" y1=\"0\" y2=\"95\" style=\"display: inline; stroke: rgb(0, 0, 0);\"/><rect class=\"node-body\" width=\"1\" height=\"95\" style=\"fill: none;\"/><text class=\"node-value\" dy=\".35em\" text-anchor=\"middle\" style=\"display: none;\" transform=\"translate(0.5,47.5) rotate(-90)\"/><text class=\"node-title\" dy=\".35em\" text-anchor=\"end\" transform=\"translate(-4,47.5)\" style=\"display: inline;\">A</text><rect class=\"node-click-target\" x=\"-5\" y=\"-5\" width=\"10\" style=\"fill: none; visibility: hidden; pointer-events: all;\" height=\"100\"/></g><g class=\"node\" transform=\"translate(209,19)\"><title>C</title><line x1=\"0\" x2=\"0\" y1=\"0\" y2=\"47.5\" style=\"display: inline; stroke: rgb(0, 0, 0);\"/><rect class=\"node-body\" width=\"1\" height=\"47.5\" style=\"fill: none;\"/><text class=\"node-value\" dy=\".35em\" text-anchor=\"middle\" style=\"display: none;\" transform=\"translate(0.5,23.75) rotate(-90)\"/><text class=\"node-title\" dy=\".35em\" text-anchor=\"start\" transform=\"translate(5,23.75)\" style=\"display: inline;\">C</text><rect class=\"node-click-target\" x=\"-5\" y=\"-5\" width=\"10\" style=\"fill: none; visibility: hidden; pointer-events: all;\" height=\"52.5\"/></g></g><g class=\"slice-titles\"/></g></svg>"
      }
     },
     "560eb05e7820478a9811cbd28a2b9999": {
      "model_module": "jupyter-sankey-widget",
      "model_module_version": "^0.2.5",
      "model_name": "SankeyModel",
      "state": {
       "_model_module_version": "^0.2.5",
       "_view_module_version": "^0.2.5",
       "layout": "IPY_MODEL_7a67330375e34427b17139535fe985e3",
       "linkLabelFormat": ".1f",
       "links": [
        {
         "source": "A",
         "target": "B",
         "type": "x",
         "value": 3
        },
        {
         "source": "B",
         "target": "C",
         "type": "y",
         "value": 2
        },
        {
         "source": "B",
         "target": "D",
         "type": "z",
         "value": 1
        }
       ],
       "margins": {
        "bottom": 0,
        "left": 30,
        "right": 60,
        "top": 10
       },
       "nodes": [
        {
         "id": "B"
        },
        {
         "id": "D"
        },
        {
         "id": "A"
        },
        {
         "id": "C"
        }
       ],
       "order": [],
       "png": "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",
       "scale": 31.666666666666668,
       "svg": "<?xml version=\"1.0\" standalone=\"no\"?><!DOCTYPE svg PUBLIC \"-//W3C//DTD SVG 1.1//EN\" \"http://www.w3.org/Graphics/SVG/1.1/DTD/svg11.dtd\"><svg xmlns=\"http://www.w3.org/2000/svg\" width=\"300\" height=\"200\" viewBox=\"0 0 300 200\"><g class=\"sankey\" transform=\"translate(30,10)\"><g class=\"groups\"/><g class=\"links\"><g class=\"link\" style=\"opacity: 0.8;\"><path d=\"M105.5,110.83333333333334 A76.48859649122804 76.48859649122804 0.32954890555438254 0 1 130.2529520753763,114.9493054645727 L194.49489555609134,136.92139452821462 A44.82192982456137 44.82192982456137 0.32954890555438254 0 0 209,139.33333333333334 L209,171.00000000000003 A76.48859649122804 76.48859649122804 0.32954890555438254 0 1 184.24704792462367,166.88402786876063 L120.00510444390865,144.91193880511872 A44.82192982456137 44.82192982456137 0.32954890555438254 0 0 105.5,142.5 Z\" style=\"fill: rgb(255, 187, 120);\"/><title>B → D\nz\n1.00</title><text class=\"label\" dy=\"0.35em\" x=\"109.5\" y=\"126.66666666666667\">1.0</text></g><g class=\"link\" style=\"opacity: 0.8;\"><path d=\"M105.5,47.5 A28.988596491228062 28.988596491228062 0.32954890555438254 0 0 114.88118062817485,45.94007785794159 L179.12312410888984,23.96798879429969 A92.3219298245614 92.3219298245614 0.32954890555438254 0 1 209,19.000000000000004 L209,82.33333333333334 A28.988596491228062 28.988596491228062 0.32954890555438254 0 0 199.61881937182517,83.89325547539175 L135.37687589111016,105.86534453903366 A92.3219298245614 92.3219298245614 0.32954890555438254 0 1 105.5,110.83333333333334 Z\" style=\"fill: rgb(255, 127, 14);\"/><title>B → C\ny\n2.00</title><text class=\"label\" dy=\"0.35em\" x=\"109.5\" y=\"79.16666666666667\">2.0</text></g><g class=\"link\" style=\"opacity: 0.8;\"><path d=\"M1,47.5 A0 0 0 0 0 1,47.5 L104.5,47.5 A0 0 0 0 0 104.5,47.5 L104.5,142.5 A0 0 0 0 0 104.5,142.5 L1,142.5 A0 0 0 0 0 1,142.5 Z\" style=\"fill: rgb(174, 199, 232);\"/><title>A → B\nx\n3.00</title><text class=\"label\" dy=\"0.35em\" x=\"5\" y=\"95\">3.0</text></g></g><g class=\"nodes\"><g class=\"node\" transform=\"translate(104.5,47.5)\"><title>B</title><line x1=\"0\" x2=\"0\" y1=\"-5\" y2=\"95\" style=\"display: inline; stroke: rgb(0, 0, 0);\"/><rect class=\"node-body\" width=\"1\" height=\"95\" style=\"fill: none;\"/><text class=\"node-value\" dy=\".35em\" text-anchor=\"middle\" style=\"display: none;\" transform=\"translate(0.5,47.5) rotate(-90)\"/><text class=\"node-title\" dy=\".35em\" text-anchor=\"start\" transform=\"translate(-4,-10)\" style=\"display: inline;\">B</text><rect class=\"node-click-target\" x=\"-5\" y=\"-5\" width=\"10\" style=\"fill: none; visibility: hidden; pointer-events: all;\" height=\"100\"/></g><g class=\"node\" transform=\"translate(209,139.33333333333334)\"><title>D</title><line x1=\"0\" x2=\"0\" y1=\"0\" y2=\"31.666666666666657\" style=\"display: inline; stroke: rgb(0, 0, 0);\"/><rect class=\"node-body\" width=\"1\" height=\"31.666666666666657\" style=\"fill: none;\"/><text class=\"node-value\" dy=\".35em\" text-anchor=\"middle\" style=\"display: none;\" transform=\"translate(0.5,15.833333333333329) rotate(-90)\"/><text class=\"node-title\" dy=\".35em\" text-anchor=\"start\" transform=\"translate(5,15.833333333333329)\" style=\"display: inline;\">D</text><rect class=\"node-click-target\" x=\"-5\" y=\"-5\" width=\"10\" style=\"fill: none; visibility: hidden; pointer-events: all;\" height=\"36.66666666666666\"/></g><g class=\"node\" transform=\"translate(0,47.5)\"><title>A</title><line x1=\"0\" x2=\"0\" y1=\"0\" y2=\"95\" style=\"display: inline; stroke: rgb(0, 0, 0);\"/><rect class=\"node-body\" width=\"1\" height=\"95\" style=\"fill: none;\"/><text class=\"node-value\" dy=\".35em\" text-anchor=\"middle\" style=\"display: none;\" transform=\"translate(0.5,47.5) rotate(-90)\"/><text class=\"node-title\" dy=\".35em\" text-anchor=\"end\" transform=\"translate(-4,47.5)\" style=\"display: inline;\">A</text><rect class=\"node-click-target\" x=\"-5\" y=\"-5\" width=\"10\" style=\"fill: none; visibility: hidden; pointer-events: all;\" height=\"100\"/></g><g class=\"node\" transform=\"translate(209,19)\"><title>C</title><line x1=\"0\" x2=\"0\" y1=\"0\" y2=\"63.33333333333334\" style=\"display: inline; stroke: rgb(0, 0, 0);\"/><rect class=\"node-body\" width=\"1\" height=\"63.33333333333334\" style=\"fill: none;\"/><text class=\"node-value\" dy=\".35em\" text-anchor=\"middle\" style=\"display: none;\" transform=\"translate(0.5,31.66666666666667) rotate(-90)\"/><text class=\"node-title\" dy=\".35em\" text-anchor=\"start\" transform=\"translate(5,31.66666666666667)\" style=\"display: inline;\">C</text><rect class=\"node-click-target\" x=\"-5\" y=\"-5\" width=\"10\" style=\"fill: none; visibility: hidden; pointer-events: all;\" height=\"68.33333333333334\"/></g></g><g class=\"slice-titles\"/></g></svg>"
      }
     },
     "643b68d11e6b468c95137345ab257987": {
      "model_module": "jupyter-sankey-widget",
      "model_module_version": "^0.2.5",
      "model_name": "SankeyModel",
      "state": {
       "_model_module_version": "^0.2.5",
       "_view_module_version": "^0.2.5",
       "layout": "IPY_MODEL_7a67330375e34427b17139535fe985e3",
       "links": [
        {
         "source": "A",
         "target": "B",
         "value": 1
        },
        {
         "source": "B",
         "target": "C",
         "value": 1
        },
        {
         "source": "A",
         "target": "D",
         "value": 1
        }
       ],
       "margins": {
        "bottom": 0,
        "left": 30,
        "right": 60,
        "top": 10
       },
       "nodes": [
        {
         "id": "B"
        },
        {
         "id": "D"
        },
        {
         "id": "A"
        },
        {
         "id": "C"
        }
       ],
       "order": [
        [
         [],
         [
          "A"
         ],
         []
        ],
        [
         [
          "B"
         ],
         [],
         [
          "D"
         ]
        ],
        [
         [],
         [
          "C"
         ],
         []
        ]
       ],
       "png": "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",
       "scale": 23.75,
       "svg": "<?xml version=\"1.0\" standalone=\"no\"?><!DOCTYPE svg PUBLIC \"-//W3C//DTD SVG 1.1//EN\" \"http://www.w3.org/Graphics/SVG/1.1/DTD/svg11.dtd\"><svg xmlns=\"http://www.w3.org/2000/svg\" width=\"300\" height=\"200\" viewBox=\"0 0 300 200\"><g class=\"sankey\" transform=\"translate(30,10)\"><g class=\"groups\"/><g class=\"links\"><g class=\"link\" style=\"opacity: 0.8;\"><path d=\"M1,71.25 A24.09377631578947 24.09377631578947 0.6406816029092847 0 0 15.401862365382268,66.47192759486012 L75.90176481639432,21.362970020803637 A47.84377631578947 47.84377631578947 0.6406816029092847 0 1 104.5,11.875 L104.5,35.625 A24.09377631578947 24.09377631578947 0.6406816029092847 0 0 90.09813763461773,40.40307240513989 L29.59823518360569,85.51202997919637 A47.84377631578947 47.84377631578947 0.6406816029092847 0 1 1,95 Z\" style=\"fill: rgb(31, 119, 180);\"/><title>A → B\n1.00</title><text class=\"label\" dy=\"0.35em\" x=\"5\" y=\"83.125\"/></g><g class=\"link\" style=\"opacity: 0.8;\"><path d=\"M105.5,11.875 A45.11460526315789 45.11460526315789 0.7426834008371334 0 1 136.00952276132568,23.7556372646371 L194.55182059643653,77.49877044632998 A21.36460526315789 21.36460526315789 0.7426834008371334 0 0 209,83.125 L209,106.875 A45.11460526315789 45.11460526315789 0.7426834008371334 0 1 178.49047723867432,94.9943627353629 L119.94817940356347,41.251229553670015 A21.36460526315789 21.36460526315789 0.7426834008371334 0 0 105.5,35.625 Z\" style=\"fill: rgb(31, 119, 180);\"/><title>B → C\n1.00</title><text class=\"label\" dy=\"0.35em\" x=\"109.5\" y=\"23.75\"/></g><g class=\"link\" style=\"opacity: 0.8;\"><path d=\"M1,95 A47.84377631578947 47.84377631578947 0.6406816029092847 0 1 29.59823518360569,104.48797002080363 L90.09813763461773,149.59692759486012 A24.09377631578947 24.09377631578947 0.6406816029092847 0 0 104.5,154.375 L104.5,178.125 A47.84377631578947 47.84377631578947 0.6406816029092847 0 1 75.90176481639432,168.63702997919637 L15.401862365382268,123.52807240513988 A24.09377631578947 24.09377631578947 0.6406816029092847 0 0 1,118.75 Z\" style=\"fill: rgb(31, 119, 180);\"/><title>A → D\n1.00</title><text class=\"label\" dy=\"0.35em\" x=\"5\" y=\"106.875\"/></g></g><g class=\"nodes\"><g class=\"node\" transform=\"translate(104.5,11.875)\"><title>B</title><line x1=\"0\" x2=\"0\" y1=\"-5\" y2=\"23.75\" style=\"display: inline; stroke: rgb(0, 0, 0);\"/><rect class=\"node-body\" width=\"1\" height=\"23.75\" style=\"fill: none;\"/><text class=\"node-value\" dy=\".35em\" text-anchor=\"middle\" style=\"display: none;\" transform=\"translate(0.5,11.875) rotate(-90)\"/><text class=\"node-title\" dy=\".35em\" text-anchor=\"start\" transform=\"translate(-4,-10)\" style=\"display: inline;\">B</text><rect class=\"node-click-target\" x=\"-5\" y=\"-5\" width=\"10\" style=\"fill: none; visibility: hidden; pointer-events: all;\" height=\"28.75\"/></g><g class=\"node\" transform=\"translate(104.5,154.375)\"><title>D</title><line x1=\"0\" x2=\"0\" y1=\"0\" y2=\"23.75\" style=\"display: inline; stroke: rgb(0, 0, 0);\"/><rect class=\"node-body\" width=\"1\" height=\"23.75\" style=\"fill: none;\"/><text class=\"node-value\" dy=\".35em\" text-anchor=\"middle\" style=\"display: none;\" transform=\"translate(0.5,11.875) rotate(-90)\"/><text class=\"node-title\" dy=\".35em\" text-anchor=\"start\" transform=\"translate(5,11.875)\" style=\"display: inline;\">D</text><rect class=\"node-click-target\" x=\"-5\" y=\"-5\" width=\"10\" style=\"fill: none; visibility: hidden; pointer-events: all;\" height=\"28.75\"/></g><g class=\"node\" transform=\"translate(0,71.25)\"><title>A</title><line x1=\"0\" x2=\"0\" y1=\"0\" y2=\"47.5\" style=\"display: inline; stroke: rgb(0, 0, 0);\"/><rect class=\"node-body\" width=\"1\" height=\"47.5\" style=\"fill: none;\"/><text class=\"node-value\" dy=\".35em\" text-anchor=\"middle\" style=\"display: none;\" transform=\"translate(0.5,23.75) rotate(-90)\"/><text class=\"node-title\" dy=\".35em\" text-anchor=\"end\" transform=\"translate(-4,23.75)\" style=\"display: inline;\">A</text><rect class=\"node-click-target\" x=\"-5\" y=\"-5\" width=\"10\" style=\"fill: none; visibility: hidden; pointer-events: all;\" height=\"52.5\"/></g><g class=\"node\" transform=\"translate(209,83.125)\"><title>C</title><line x1=\"0\" x2=\"0\" y1=\"0\" y2=\"23.75\" style=\"display: inline; stroke: rgb(0, 0, 0);\"/><rect class=\"node-body\" width=\"1\" height=\"23.75\" style=\"fill: none;\"/><text class=\"node-value\" dy=\".35em\" text-anchor=\"middle\" style=\"display: none;\" transform=\"translate(0.5,11.875) rotate(-90)\"/><text class=\"node-title\" dy=\".35em\" text-anchor=\"start\" transform=\"translate(5,11.875)\" style=\"display: inline;\">C</text><rect class=\"node-click-target\" x=\"-5\" y=\"-5\" width=\"10\" style=\"fill: none; visibility: hidden; pointer-events: all;\" height=\"28.75\"/></g></g><g class=\"slice-titles\"/></g></svg>"
      }
     },
     "644145b41a134f8c888db4b8c0250e52": {
      "model_module": "jupyter-sankey-widget",
      "model_module_version": "^0.2.5",
      "model_name": "SankeyModel",
      "state": {
       "_model_module_version": "^0.2.5",
       "_view_module_version": "^0.2.5",
       "align_link_types": true,
       "layout": "IPY_MODEL_7a67330375e34427b17139535fe985e3",
       "links": [
        {
         "source": "A1",
         "target": "B",
         "type": "x",
         "value": 1.5
        },
        {
         "source": "A1",
         "target": "B",
         "type": "y",
         "value": 0.5
        },
        {
         "source": "A2",
         "target": "B",
         "type": "x",
         "value": 0.5
        },
        {
         "source": "A2",
         "target": "B",
         "type": "y",
         "value": 1.5
        },
        {
         "source": "B",
         "target": "C",
         "type": "x",
         "value": 2
        },
        {
         "source": "B",
         "target": "C",
         "type": "y",
         "value": 2
        }
       ],
       "margins": {
        "bottom": 0,
        "left": 30,
        "right": 60,
        "top": 10
       },
       "nodes": [
        {
         "id": "B"
        },
        {
         "id": "A2"
        },
        {
         "id": "C"
        },
        {
         "id": "A1"
        }
       ],
       "order": [],
       "png": "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",
       "scale": 23.75,
       "svg": "<?xml version=\"1.0\" standalone=\"no\"?><!DOCTYPE svg PUBLIC \"-//W3C//DTD SVG 1.1//EN\" \"http://www.w3.org/Graphics/SVG/1.1/DTD/svg11.dtd\"><svg xmlns=\"http://www.w3.org/2000/svg\" width=\"300\" height=\"200\" viewBox=\"0 0 300 200\"><g class=\"sankey\" transform=\"translate(30,10)\"><g class=\"groups\"/><g class=\"links\"><g class=\"link\" style=\"opacity: 0.8;\"><path d=\"M1,54.625 A51.79158281733746 51.79158281733746 0.45660987225145666 0 1 23.835314351364108,59.930924069724675 L86.90046612050966,90.91064134304136 A39.91658281733746 39.91658281733746 0.45660987225145666 0 0 104.5,95 L104.5,106.875 A51.79158281733746 51.79158281733746 0.45660987225145666 0 1 81.6646856486359,101.56907593027532 L18.599533879490334,70.58935865695864 A39.91658281733746 39.91658281733746 0.45660987225145666 0 0 1,66.5 Z\" style=\"fill: rgb(255, 127, 14);\"/><title>A1 → B\ny\n500m</title><text class=\"label\" dy=\"0.35em\" x=\"5\" y=\"60.5625\"/></g><g class=\"link\" style=\"opacity: 0.8;\"><path d=\"M1,123.5 A39.91658281733746 39.91658281733746 0.45660987225145666 0 0 18.599533879490334,119.41064134304136 L81.6646856486359,88.43092406972468 A51.79158281733746 51.79158281733746 0.45660987225145666 0 1 104.5,83.125 L104.5,95 A39.91658281733746 39.91658281733746 0.45660987225145666 0 0 86.90046612050966,99.08935865695864 L23.835314351364108,130.06907593027532 A51.79158281733746 51.79158281733746 0.45660987225145666 0 1 1,135.375 Z\" style=\"fill: rgb(174, 199, 232);\"/><title>A2 → B\nx\n500m</title><text class=\"label\" dy=\"0.35em\" x=\"5\" y=\"129.4375\"/></g><g class=\"link\" style=\"opacity: 0.8;\"><path d=\"M1,19 A78.46776315789472 78.46776315789472 0.32954890555438254 0 1 26.393442552343046,23.222474214121906 L90.63538603305805,45.194563277763805 A42.84276315789473 42.84276315789473 0.32954890555438254 0 0 104.5,47.5 L104.5,83.125 A78.46776315789472 78.46776315789472 0.32954890555438254 0 1 79.10655744765695,78.9025257858781 L14.864613966941933,56.930436722236195 A42.84276315789473 42.84276315789473 0.32954890555438254 0 0 1,54.625 Z\" style=\"fill: rgb(174, 199, 232);\"/><title>A1 → B\nx\n1.50</title><text class=\"label\" dy=\"0.35em\" x=\"5\" y=\"36.8125\"/></g><g class=\"link\" style=\"opacity: 0.8;\"><path d=\"M1,135.375 A42.84276315789473 42.84276315789473 0.32954890555438254 0 0 14.864613966941933,133.0695632777638 L79.10655744765695,111.0974742141219 A78.46776315789472 78.46776315789472 0.32954890555438254 0 1 104.5,106.875 L104.5,142.5 A42.84276315789473 42.84276315789473 0.32954890555438254 0 0 90.63538603305805,144.80543672223618 L26.393442552343046,166.77752578587808 A78.46776315789472 78.46776315789472 0.32954890555438254 0 1 1,171 Z\" style=\"fill: rgb(255, 127, 14);\"/><title>A2 → B\ny\n1.50</title><text class=\"label\" dy=\"0.35em\" x=\"5\" y=\"153.1875\"/></g><g class=\"link\" style=\"opacity: 0.8;\"><path d=\"M104.5,47.5 A0 0 0 0 0 104.5,47.5 L209,47.5 A0 0 0 0 0 209,47.5 L209,95 A0 0 0 0 0 209,95 L104.5,95 A0 0 0 0 0 104.5,95 Z\" style=\"fill: rgb(174, 199, 232);\"/><title>B → C\nx\n2.00</title><text class=\"label\" dy=\"0.35em\" x=\"108.5\" y=\"71.25\"/></g><g class=\"link\" style=\"opacity: 0.8;\"><path d=\"M104.5,95 A0 0 0 0 0 104.5,95 L209,95 A0 0 0 0 0 209,95 L209,142.5 A0 0 0 0 0 209,142.5 L104.5,142.5 A0 0 0 0 0 104.5,142.5 Z\" style=\"fill: rgb(255, 127, 14);\"/><title>B → C\ny\n2.00</title><text class=\"label\" dy=\"0.35em\" x=\"108.5\" y=\"118.75\"/></g></g><g class=\"nodes\"><g class=\"node\" transform=\"translate(104.5,47.5)\"><title>B</title><line x1=\"0\" x2=\"0\" y1=\"-5\" y2=\"95\" style=\"display: inline; stroke: rgb(0, 0, 0);\"/><rect class=\"node-body\" width=\"1\" height=\"95\" style=\"fill: none;\"/><text class=\"node-value\" dy=\".35em\" text-anchor=\"middle\" style=\"display: none;\" transform=\"translate(0.5,47.5) rotate(-90)\"/><text class=\"node-title\" dy=\".35em\" text-anchor=\"start\" transform=\"translate(-4,-10)\" style=\"display: inline;\">B</text><rect class=\"node-click-target\" x=\"-5\" y=\"-5\" width=\"10\" style=\"fill: none; visibility: hidden; pointer-events: all;\" height=\"100\"/></g><g class=\"node\" transform=\"translate(0,123.5)\"><title>A2</title><line x1=\"0\" x2=\"0\" y1=\"0\" y2=\"47.5\" style=\"display: inline; stroke: rgb(0, 0, 0);\"/><rect class=\"node-body\" width=\"1\" height=\"47.5\" style=\"fill: none;\"/><text class=\"node-value\" dy=\".35em\" text-anchor=\"middle\" style=\"display: none;\" transform=\"translate(0.5,23.75) rotate(-90)\"/><text class=\"node-title\" dy=\".35em\" text-anchor=\"end\" transform=\"translate(-4,23.75)\" style=\"display: inline;\">A2</text><rect class=\"node-click-target\" x=\"-5\" y=\"-5\" width=\"10\" style=\"fill: none; visibility: hidden; pointer-events: all;\" height=\"52.5\"/></g><g class=\"node\" transform=\"translate(209,47.5)\"><title>C</title><line x1=\"0\" x2=\"0\" y1=\"0\" y2=\"95\" style=\"display: inline; stroke: rgb(0, 0, 0);\"/><rect class=\"node-body\" width=\"1\" height=\"95\" style=\"fill: none;\"/><text class=\"node-value\" dy=\".35em\" text-anchor=\"middle\" style=\"display: none;\" transform=\"translate(0.5,47.5) rotate(-90)\"/><text class=\"node-title\" dy=\".35em\" text-anchor=\"start\" transform=\"translate(5,47.5)\" style=\"display: inline;\">C</text><rect class=\"node-click-target\" x=\"-5\" y=\"-5\" width=\"10\" style=\"fill: none; visibility: hidden; pointer-events: all;\" height=\"100\"/></g><g class=\"node\" transform=\"translate(0,19)\"><title>A1</title><line x1=\"0\" x2=\"0\" y1=\"0\" y2=\"47.5\" style=\"display: inline; stroke: rgb(0, 0, 0);\"/><rect class=\"node-body\" width=\"1\" height=\"47.5\" style=\"fill: none;\"/><text class=\"node-value\" dy=\".35em\" text-anchor=\"middle\" style=\"display: none;\" transform=\"translate(0.5,23.75) rotate(-90)\"/><text class=\"node-title\" dy=\".35em\" text-anchor=\"end\" transform=\"translate(-4,23.75)\" style=\"display: inline;\">A1</text><rect class=\"node-click-target\" x=\"-5\" y=\"-5\" width=\"10\" style=\"fill: none; visibility: hidden; pointer-events: all;\" height=\"52.5\"/></g></g><g class=\"slice-titles\"/></g></svg>"
      }
     },
     "73db75972cce461d99f776508ca003af": {
      "model_module": "jupyter-sankey-widget",
      "model_module_version": "^0.2.5",
      "model_name": "SankeyModel",
      "state": {
       "_model_module_version": "^0.2.5",
       "_view_module_version": "^0.2.5",
       "layout": "IPY_MODEL_7a67330375e34427b17139535fe985e3",
       "links": [
        {
         "source": "A",
         "target": "B",
         "value": 1
        },
        {
         "source": "B",
         "target": "C",
         "value": 1
        },
        {
         "source": "A",
         "target": "D",
         "value": 1
        }
       ],
       "margins": {
        "bottom": 0,
        "left": 30,
        "right": 60,
        "top": 10
       },
       "nodes": [
        {
         "id": "B"
        },
        {
         "id": "D"
        },
        {
         "id": "A"
        },
        {
         "id": "C"
        }
       ],
       "order": [
        [
         "A"
        ],
        [
         "D",
         "B"
        ],
        [
         "C"
        ]
       ],
       "png": "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",
       "scale": 47.5,
       "svg": "<?xml version=\"1.0\" standalone=\"no\"?><!DOCTYPE svg PUBLIC \"-//W3C//DTD SVG 1.1//EN\" \"http://www.w3.org/Graphics/SVG/1.1/DTD/svg11.dtd\"><svg xmlns=\"http://www.w3.org/2000/svg\" width=\"300\" height=\"200\" viewBox=\"0 0 300 200\"><g class=\"sankey\" transform=\"translate(30,10)\"><g class=\"groups\"/><g class=\"links\"><g class=\"link\" style=\"opacity: 0.8;\"><path d=\"M1,95 A84.40526315789472 84.40526315789472 0.32954890555438254 0 1 28.31491398324323,99.54198046276953 L92.55685746395824,121.51406952641142 A36.90526315789473 36.90526315789473 0.32954890555438254 0 0 104.5,123.5 L104.5,171 A84.40526315789472 84.40526315789472 0.32954890555438254 0 1 77.18508601675677,166.45801953723046 L12.943142536041748,144.48593047358858 A36.90526315789473 36.90526315789473 0.32954890555438254 0 0 1,142.5 Z\" style=\"fill: rgb(31, 119, 180);\"/><title>A → B\n1.00</title><text class=\"label\" dy=\"0.35em\" x=\"5\" y=\"118.75\"/></g><g class=\"link\" style=\"opacity: 0.8;\"><path d=\"M105.5,123.5 A14.84037081339713 14.84037081339713 0.5746201801979326 0 0 113.56597912562236,121.11661865533705 L175.11701041792813,81.26193829212752 A62.34037081339713 62.34037081339713 0.5746201801979326 0 1 209,71.25 L209,118.75 A14.84037081339713 14.84037081339713 0.5746201801979326 0 0 200.93402087437764,121.13338134466298 L139.38298958207187,160.98806170787248 A62.34037081339713 62.34037081339713 0.5746201801979326 0 1 105.5,171 Z\" style=\"fill: rgb(31, 119, 180);\"/><title>B → C\n1.00</title><text class=\"label\" dy=\"0.35em\" x=\"109.5\" y=\"147.25\"/></g><g class=\"link\" style=\"opacity: 0.8;\"><path d=\"M1,47.5 A36.90526315789473 36.90526315789473 0.32954890555438254 0 0 12.943142536041748,45.51406952641143 L77.18508601675677,23.541980462769526 A84.40526315789472 84.40526315789472 0.32954890555438254 0 1 104.5,19 L104.5,66.5 A36.90526315789473 36.90526315789473 0.32954890555438254 0 0 92.55685746395824,68.48593047358857 L28.31491398324323,90.45801953723047 A84.40526315789472 84.40526315789472 0.32954890555438254 0 1 1,95 Z\" style=\"fill: rgb(31, 119, 180);\"/><title>A → D\n1.00</title><text class=\"label\" dy=\"0.35em\" x=\"5\" y=\"71.25\"/></g></g><g class=\"nodes\"><g class=\"node\" transform=\"translate(104.5,123.5)\"><title>B</title><line x1=\"0\" x2=\"0\" y1=\"-5\" y2=\"47.5\" style=\"display: inline; stroke: rgb(0, 0, 0);\"/><rect class=\"node-body\" width=\"1\" height=\"47.5\" style=\"fill: none;\"/><text class=\"node-value\" dy=\".35em\" text-anchor=\"middle\" style=\"display: none;\" transform=\"translate(0.5,23.75) rotate(-90)\"/><text class=\"node-title\" dy=\".35em\" text-anchor=\"start\" transform=\"translate(-4,-10)\" style=\"display: inline;\">B</text><rect class=\"node-click-target\" x=\"-5\" y=\"-5\" width=\"10\" style=\"fill: none; visibility: hidden; pointer-events: all;\" height=\"52.5\"/></g><g class=\"node\" transform=\"translate(104.5,19)\"><title>D</title><line x1=\"0\" x2=\"0\" y1=\"0\" y2=\"47.5\" style=\"display: inline; stroke: rgb(0, 0, 0);\"/><rect class=\"node-body\" width=\"1\" height=\"47.5\" style=\"fill: none;\"/><text class=\"node-value\" dy=\".35em\" text-anchor=\"middle\" style=\"display: none;\" transform=\"translate(0.5,23.75) rotate(-90)\"/><text class=\"node-title\" dy=\".35em\" text-anchor=\"start\" transform=\"translate(5,23.75)\" style=\"display: inline;\">D</text><rect class=\"node-click-target\" x=\"-5\" y=\"-5\" width=\"10\" style=\"fill: none; visibility: hidden; pointer-events: all;\" height=\"52.5\"/></g><g class=\"node\" transform=\"translate(0,47.5)\"><title>A</title><line x1=\"0\" x2=\"0\" y1=\"0\" y2=\"95\" style=\"display: inline; stroke: rgb(0, 0, 0);\"/><rect class=\"node-body\" width=\"1\" height=\"95\" style=\"fill: none;\"/><text class=\"node-value\" dy=\".35em\" text-anchor=\"middle\" style=\"display: none;\" transform=\"translate(0.5,47.5) rotate(-90)\"/><text class=\"node-title\" dy=\".35em\" text-anchor=\"end\" transform=\"translate(-4,47.5)\" style=\"display: inline;\">A</text><rect class=\"node-click-target\" x=\"-5\" y=\"-5\" width=\"10\" style=\"fill: none; visibility: hidden; pointer-events: all;\" height=\"100\"/></g><g class=\"node\" transform=\"translate(209,71.25)\"><title>C</title><line x1=\"0\" x2=\"0\" y1=\"0\" y2=\"47.5\" style=\"display: inline; stroke: rgb(0, 0, 0);\"/><rect class=\"node-body\" width=\"1\" height=\"47.5\" style=\"fill: none;\"/><text class=\"node-value\" dy=\".35em\" text-anchor=\"middle\" style=\"display: none;\" transform=\"translate(0.5,23.75) rotate(-90)\"/><text class=\"node-title\" dy=\".35em\" text-anchor=\"start\" transform=\"translate(5,23.75)\" style=\"display: inline;\">C</text><rect class=\"node-click-target\" x=\"-5\" y=\"-5\" width=\"10\" style=\"fill: none; visibility: hidden; pointer-events: all;\" height=\"52.5\"/></g></g><g class=\"slice-titles\"/></g></svg>"
      }
     },
     "7a67330375e34427b17139535fe985e3": {
      "model_module": "@jupyter-widgets/base",
      "model_module_version": "1.0.0",
      "model_name": "LayoutModel",
      "state": {
       "height": "200",
       "width": "300"
      }
     },
     "891bf3f351094d32846f7d6d7a32db9f": {
      "model_module": "jupyter-sankey-widget",
      "model_module_version": "^0.2.5",
      "model_name": "SankeyModel",
      "state": {
       "_model_module_version": "^0.2.5",
       "_view_module_version": "^0.2.5",
       "layout": "IPY_MODEL_7a67330375e34427b17139535fe985e3",
       "linkLabelFormat": ".1f",
       "linkLabelMinWidth": 0,
       "links": [
        {
         "source": "A",
         "target": "B",
         "type": "x",
         "value": 3
        },
        {
         "source": "B",
         "target": "C",
         "type": "y",
         "value": 2.9
        },
        {
         "source": "B",
         "target": "D",
         "type": "z",
         "value": 0.1
        }
       ],
       "margins": {
        "bottom": 0,
        "left": 30,
        "right": 60,
        "top": 10
       },
       "nodes": [
        {
         "id": "B"
        },
        {
         "id": "D"
        },
        {
         "id": "A"
        },
        {
         "id": "C"
        }
       ],
       "order": [],
       "png": "iVBORw0KGgoAAAANSUhEUgAAASwAAADICAYAAABS39xVAAAT0UlEQVR4nO3de3hU9Z3H8c9AAsnMOQEhIuEBrcJCKKAiKizgAypogapsFbVQ1suilsidMOcAmZNjbcW17ipqQZS1Wi5eyk1EyFwwLCDXn1bd4tpa5SZi17tS16esfvePM0QImSFIcs4vyef1PJ9HMmciw5M57yczDBmAiIiIiIiIiIiIiIiIiIiIiIiIiIiIiIiIiIiIiIiIiIiIiIiIiIiIiIiIiIiIiIiIiIiIiIiIiIiIiIiIiIiIiIiIiIgoSGKhlbhGTykrGC4x83ZxCn4p5eYCKTefknLjaXGMZRIzXxDXqBDHfEkcc/O0fi0OAHCDvu1E1EiJi9bimgPFDY9LR+kpKTcrxSlQJzsGi4jqjERhipvfT2LhW8Ux75dy88XvEyYGi4jqnExFvriRIeIYrsTMF+oyTgwWEZ0yiaKDxCKjxSmYJ465rb4jxWAR0UkRN3K+uJEpEjN+72egGCwiqhVxjZ4Si0yTcnNdkJFisIioRlLWspvEjAnimKuDjhODRUTHkdn5ncQx7pByY3nQQWKwiOg44qK9OJFbxDGeCTpCDBYRHUdcFEos8jNxzN8FHR4Gi4iO473K3LheHHOhOObOoIPDYBHVDRPAfgBfAfgGwHvpHQLwBYC1AM4O7NadBO/V5uZIKS+YL465I+jIMFhE9WcLgNerXTYGgMCLlpZkKvLFKRgh5QVz/X4xJ4NFFIxmAL4E8GS1y0PwgvWG3zcoG3GRJ05kqDjm/eKYW4KOCYNF5K9u8MI0udrlfdKXz/f9FlUjLnLENQaLY94jjrk56IAwWETBuQFemAalPw4BOBfAqwDeBNAuiBslQDOZbfYX13DFNTcEHQ0Gi0gP98IL1j4AewB8lv54GYC2ft4QAULihi+UMmO2lJvrgw6FLmOwiL5TAWB3tcu6AfgjgLcA5Nf3DZBY5DxxzBlSbsSDjoOOY7CIvvMBgBU1XD4d3nda19THbyplLbpLLDJFHHNN0EHQfQwWkacIXpRiNRwrTx+7oq5+M3FbdpGYUSKOuSroCDSkMVhEnuHwojSi2uUheE+6fwKg5an8BhJFR3HD44L+mVINeQwWkWcWvGB1OOqyVgAehvfK99Hf538qLtqJE7lJyo0lQZ/sjWEMFjV1XeH9jeAX8IL1afrjfQAOAHgewOUn8z+UmWgrTuSn4phPBn2CN7YxWETHku/1SS4KpMy4Thzzscb27/d0GoNFdKxaB0tKYIhrXi1OwSNSbm4P+mRuCmOwiI6VNVjiIk/cgh9JufGAlJtbgz6Bm9oYLKJjHRcsicKUMuMyiZm/DvqEbepjsPw1CMDgoG8EZSUAkH4h530N7UcIN/YxWP4qB+Cu2HpQcXoOR4KlwcnJMVhBY7A0Hxgsrcdg+YvB0nxgsLQeg+UvBkvzgcHSegyWvxgszQcGS+sxWP5isDQfGCytx2D5i8HSfGCwtB6D5S8GS/OBwdJ6DJa/GCzNBwZL6zFY/mKwNB8YLK3HYPmLwdJ8YLC0HoPlLwZL84HB0nonEazuAB4F8N8A9sN7y7Zt6c/9Qd2f2o0Tg6X5wGBpvVoGazqAjwDcCiCcvqwlgCnpr+9b9XFyN0YMluYDg6X1ahGsGQC+BnBxhuPPA3imDs/pRo3B0nxgsLTeCYLVE8BheO/gnckYADfW4TndqDFYmg8MltY7QbAWwXuHo46+nM1NAIOl+cBgab0swcoB8DmAP/h2NjcBDJbmA4Ol9bIEqzj9tVvo29ncBDBYmg8MltbLEqwB6a/dXb6dzU0Ag6X5wGBpvSzB6pL+2mV7wn0AgN51fE43agyW5gODpfVO8KT76wBeznDsEgB/B9Cvjs/pRo3B0nxgsLTeCYLVD8Df0sfz05flAbgN3gtJx9bjud0oMViaDwyW1qvFC0fPA7AKwAEA78J7VfsCAD+s1zO7kWKwNB8YLK3Hf/zsLwZL84HB0noMlr8YLM0HBkvrMVj+YrA0Hxgsrcdg+YvB0nxgsLQeg+UvBkvzgcHSegyWvxgszQcGS+sxWP5isDQfGCytx2D5i8HSfGCwtB6D5S8GS/OBwdJ6DJa/GCzNBwZL6zFY/mKwNB8YLK3HYPmLwdJ8YLC0HoPlLwZL84HB0noMlr8YLM0HBkvrMVj+YrA0Hxgsrcdg+YvB0nxgsLQeg+UvBkvzIUOwPomaamRxjurdPqT6FIVUBxNqbK9ctW9qJOPJ9c6kiLq6W47q0iakehSG1LXFOeq9LNfnGCy/tAfwJbx3ns0mY7AGDxuluva4QPXo3V+Zrdqo7uf3VXfPW5nxxHqmco8aPupfVFHHs1Wnc7qpXhddouYu3RT4Cd/QhwzB2j0pos4IQ30UNZU4BWp6/1wFQPU6PaQOx8zjTqzDMVP1PD2kAKhNN4fVh6URlRPyrv/3Gq7PMVh++g8AhwG8cYLrZQxWq9aF6ok1b6gVWw+qyXfNUwBUXjislqz/S40n1mUjfqoAqF/MW6me3bhXFbbvqNoWFqklqZqvz51asD4sjajHRuRVfbxzXFgBUADUrvHh404sddTxr2Z7gera1gvYmtH5gZ/4DXUM1qk7D8BKACl40WqZ5boZg3XXI8urfj3v99uq7uwPLq487rpPrHlDhULenX9p5W61YutBdfElVyoAatz0OYGf9A15qOVzWK/clj1YK6/Przp+5LLz23tfs9ig3MBP/IY6BuvUvQDgLHhv4CjI/kaNtXoOa2xJTAFQnc7uqp7btO+449E5TygAKicnt+qyS4dfrwCogUNHBn7SN+ShlsGaPyJPAVAXFIVqPL79qO+wDtned1idW3sfT7iYwWKwgnENADv961Hw7uy3ZLl+1mA9vvpVVXRmZwVAdTizs5q7dGON1xs3fY4CoFrk5VddNvSaMQqA6tG7f+AnfUMeahGsz2xTdW4N1aVNSO2dXPOT6N8c9RzWi6PDau/kiAqlAza9H4PFYPkvF977n+WmPz4b3p39wSyfU6vvsCaUzVUAVKSgtZq/YmetgnXFyLEKgOp+fr/AT/qGPJwgWJ9aphrQqbka0SVHfWplf/J87+SIur5Hjjr3jJAa0ytXDTyzuQKgHhqWV+cnclMZg/X9TQYwuNplHwPYkOVzav2yhsIzOigAavQd9nHHonMWZnxIOGDINYGf9A15yBKsN8eHVY/CkLpvSAv1bfpv+h4alqe2jfOew9o+LqzWjT7++awju/QsL1hv1vCcF8dg1ac2APYD2FNt/wvg0yyfV2OwHl/9mrqtdM4xlxV1OkcBUKNuna5WbD2o7l24TsUeWKJWbD2oFtbwpHvfS4aln3S/J/CTviEPGYL1zqSIiuRCdW3rvZ7qyLq1DanE2LD6NmYqM9d7yLd7kvcw8aKikDo43fv1f40Pq5wQ1OhefDjIYPnvAdT81tfz4d3hz8rweTUGa+7STaqwfSe1KPFntWLrQfWrBasVANW8eY66d+E6tXzL+yo/HFEAqh4iHvmO6u55K9Vzm/ap04s6qTaF7dXi1NuBn/QNecgQrKNfxlB9ibHed0xXdm6uigtD6sv0k+xje+Wq4sKQ6t+puerSJqSsAbnq69l8DRaD5a+uAJZlODYN3h3+6gzHawzWk+t2qYFDR6rOxeeq4l4Xq9aFZ6ju5/dTZf+2pOo6vfteqjqc2aXqdVlLK3erYdferNp3OMt74WifgRmfpOdOPVicHmOwTt7zAPpnOPZjeHd4J8Nx/tMczQcGS+sxWLV3Frznqb5N/7f6w767ALwP7w7/JYB5Nfw/GCzNBwZL6zFY/mKwNB8YLK3HYPmLwdJ8YLC0HoPlLwZL84HB0noMlr8YLM0HBkvrMVj+YrA0Hxgsrcdg+YvB0nxgsLQeg+UvBkvzgcHSegyWvxgszQcGS+sxWP5isDQfGCytx2D5i8HSfGCw9F25EZ81MHc7gJJAz+ImhMHSfGCwNJq5WcrNOeJEhspU5Ad76jZNDJbmA4OlQ6T+VcoiQ8RFi2BPV2KwNB8YrCAitUUc835xIleKi7xgT1E6GoOl+cBg+RWpbeIYD0pZwXA+3NMXg6X5wGDV31xzm8QKHhbHvEpKYAR7KlJtMFiaDwxW3a7c3C5OwTxxzZEShRns6Ucni8HSfGCw6mDmDik3F0iZcZ24aB3sKUengsHSfGCwvm+kdopjLhTHuEFsnBbsaUZ1hcHSfGCwTjZUT0osMlpcFAZ7alF9YLA0HxisEy9mLhInMlZctAv2dKL6xmBpPjBYGWYsFTdys7hoH+wpRH5isDQfGKzvVm48K7HwOImiY7CnDQWFwdJ8aPLBMpaJY9whs/M7BXuqkA4YLM2HJhksc5XEjBIpa/kPwZ4epBsGS/OhyQTLXC2OMVHcFsXBnhKkMwZL86FRB8tcI25kiswyegZ7GlBDwWBpPjS6YBkVEouUSixyXrB3fWqIGCzNh0YRLCMhjmnJrPAFwd7dqaFjsDQfGmywjJTEzFkSC18kQCjYuzk1FgyW5kODCpb5kjhGTNz8fgI0C/auTY0Rg6X5oHuwXHODuIYrs82BMgrNg707U2PHYGk+aBksc6M4Bb+UmDFIXOQEexempoTB0nzQJljmJnENV5zI5cHeZakpY7A0HwINllEhrmmLm99PBvM7KQoeg6X5kCVY3zoFrxyYauz/8wTj07cnGh/vnmz89evZ5hvZInRoprnr7QnGJ7tKIocOTjP2HnO83HxZYubj4ho/F5cv5iT9MFiaD1mCtX+KcWBXSeTQoZnmLnEK1J/uND77053GZ9/ECl6t6fqfRM2335lkfPj2ROPjXSWRQ3+ZFHlTHPM+cSJjZJbRk0+ak+4YLM2HDME6XFbwh10lkUO7SiKHvnUKXhGnQO2ZbHywqyRy6MMZ5js1PAe1+oNpxmP/54RvG90zZ3lHE68BGB/ovY/oJDFYmg8ZgvW5Zb51JFjph3OVO8aF//jENXl//d3IvEqJhW8Vp2CExMK9a3gLq4cBKDBY1MAwWJoPR4KVsB6RZPQ+iduuJKxoyVW95wJQzUPYIpXukZ+6ORteiBac4OvOYFGDxGBpPlQFy1ZH7zcTr1AAVDgvt+qyGy/tngKgzmxnrpJU6blZvu4MFjVIDJbmQ4ZgLXdGKgAqNydUddlNV/RSANT1g4u/u24yuliS0QnVAsZgUYM0CMDg5dvev53Tc53O6fYoAEjSGi8J25KUdZekove/u2j8wpAXHfW3NdOVJGw1ckAXBUA9NGGokoSttj9yk1p3z6ij4mWlJGnZRW0ji8BgEZHPXACqbdvwRXuX3HpOXoucCjM/9z8/Wjbx4W8roikznKsAqN2Lxh/z3dkVfc5WANTYIT2WyNpov2D/CETUVLQEEAWwCsCzAOYD+MGRg0Ze7oLTIi0rPlkx+VFJ2KpizijVt7hItQq3UABUh0JT9S0uUu8+9fMNkrRsqZjFn1dFRMGTzVFTUjN/LEnroerPhx07a62krGkSL+Ur3YkoePJciSGp6EhJWvMkYW3PErDnvSfsp3UN+jYTEUEqp7SWpHW9JKILJWHtzBivpLVMUvbtEp/G9wckouBJ5fRCSVg/k6T91AkeNj4t6+2b5cUZfJt4IgqevDijvSSjt0jCejprvJL2U5KKjpHUnW2Dvs1ERJD4tE6SsO6QpLUsy3ddO72HlfYoqZzSOujbTEQESU3rKuvtCZKwV2eJ13ZJWvMkHh0pz5VU/4fXRET+k3hpT0lZ0yRhrc0Sr22SsB+UxMzhsmVqftC3mYgIkrR7S9KyJW4ns8TrZYlbv5aUPUSec1sEfZuJqIkTF80kXtpXUnZMktZLWeK1SRLWryQxY5CIy58XT0TBksrBOZK0BkrSuluS9sbM8YpukLjtSmrmP4rLN2AlooCJuj1X4vZlkrLvlaS9OcsLVFOSsGZJInph0LeZiAhS6eZJxYwfSdL6d0lYW7PEq0KSVukJfhghEZE/JF4akbh1lfcjoO1tWeK1RhLWZInPLA76NhMRQdZOLJAK+1pJ2gskae/IEq+VkrTGy9oZnYO+zUREkDX2aRK3bpSE9dvs/zTIelYS9jjZOKso6NtMRASJl7aTCuufJWkvzh6v6GJJzBwr8dJ2Qd9mIiLIxllFkrDHScJ+Luu/a0xaT0jculHW2KcFfZuJiCAVU7tIPFoicWtVlp8msUNSMx+VZPQnsjlq+nwTTQD7AXwF4BsA7wF4H8D/ANgBYFb6OkTUlEhq5g8lGZ3i/W1i1p/l9YjErWE+x2sLgNeP+rglgGsBfABgF4BCH28LEelEKqzzJGnPkKRVkeU7r23pd9P+ST0/bGwG4EsAT9ZwrD+8951cWI+/PxE1FJKIXihJy5akVXmC77x+K/GZkyQVHSqJaIc6vAnd4EVpSobjbwH4vA5/PyJqDGS91V+S1t2SsDdkj5etJGm9JEn7NxK3XUlYd0rCHiVJe7DE7T5Hb6Vz3eUAsv2t5A3wgjUow/GX0sfDdfzHJaLGwPuJEnYfSdpTsz5hX4tNu+6iA/De0DaTe+EFqVWG468B+LqO/4hE1FhJxdQust7+J++hYzT7a71OPlgVAN7JcCwPXqy21fEfiYiaEonPLJa4NUwS1h2SsO+RpL24ph+RU4tgfQBgWYZjI+F992XX8c0nIjppRfCCNLuGY80AbAfwEQC+uJWIAjccXrCG13DsfgCHAVzl6y0iIspgFrxgHXmZRDN4r71aC+/V7iMCul1ERFW6AtgD4At4wdoDYDeAfQA2ACgFHwYSERERERERERERERERERERERERERERERERERERERERERERkX7+H5v0As7vPHaeAAAAAElFTkSuQmCC",
       "scale": 31.666666666666668,
       "svg": "<?xml version=\"1.0\" standalone=\"no\"?><!DOCTYPE svg PUBLIC \"-//W3C//DTD SVG 1.1//EN\" \"http://www.w3.org/Graphics/SVG/1.1/DTD/svg11.dtd\"><svg xmlns=\"http://www.w3.org/2000/svg\" width=\"300\" height=\"200\" viewBox=\"0 0 300 200\"><g class=\"sankey\" transform=\"translate(30,10)\"><g class=\"groups\"/><g class=\"links\"><g class=\"link\" style=\"opacity: 0.8;\"><path d=\"M105.5,139.33333333333331 A62.238596491228066 62.238596491228066 0.32954890555438254 0 1 125.64142064121587,142.6824904678184 L189.8833641219309,164.65457953146029 A59.071929824561394 59.071929824561394 0.32954890555438254 0 0 209,167.83333333333331 L209,171 A62.238596491228066 62.238596491228066 0.32954890555438254 0 1 188.8585793587841,167.6508428655149 L124.61663587806912,145.67875380187303 A59.071929824561394 59.071929824561394 0.32954890555438254 0 0 105.5,142.5 Z\" style=\"fill: rgb(255, 187, 120);\"/><title>B → D\nz\n100m</title><text class=\"label\" dy=\"0.35em\" x=\"109.5\" y=\"140.91666666666666\">0.1</text></g><g class=\"link\" style=\"opacity: 0.8;\"><path d=\"M105.5,47.49999999999999 A14.738596491228066 14.738596491228066 0.32954890555438254 0 0 110.26964919401439,46.706892854695866 L174.5115926747294,24.734803791053963 A106.5719298245614 106.5719298245614 0.32954890555438254 0 1 209,18.999999999999993 L209,110.83333333333331 A14.738596491228066 14.738596491228066 0.32954890555438254 0 0 204.2303508059856,111.62644047863745 L139.9884073252706,133.59852954227935 A106.5719298245614 106.5719298245614 0.32954890555438254 0 1 105.5,139.33333333333331 Z\" style=\"fill: rgb(255, 127, 14);\"/><title>B → C\ny\n2.90</title><text class=\"label\" dy=\"0.35em\" x=\"109.5\" y=\"93.41666666666666\">2.9</text></g><g class=\"link\" style=\"opacity: 0.8;\"><path d=\"M1,47.5 A0 0 0 0 0 1,47.5 L104.5,47.5 A0 0 0 0 0 104.5,47.5 L104.5,142.5 A0 0 0 0 0 104.5,142.5 L1,142.5 A0 0 0 0 0 1,142.5 Z\" style=\"fill: rgb(174, 199, 232);\"/><title>A → B\nx\n3.00</title><text class=\"label\" dy=\"0.35em\" x=\"5\" y=\"95\">3.0</text></g></g><g class=\"nodes\"><g class=\"node\" transform=\"translate(104.5,47.5)\"><title>B</title><line x1=\"0\" x2=\"0\" y1=\"-5\" y2=\"95\" style=\"display: inline; stroke: rgb(0, 0, 0);\"/><rect class=\"node-body\" width=\"1\" height=\"95\" style=\"fill: none;\"/><text class=\"node-value\" dy=\".35em\" text-anchor=\"middle\" style=\"display: none;\" transform=\"translate(0.5,47.5) rotate(-90)\"/><text class=\"node-title\" dy=\".35em\" text-anchor=\"start\" transform=\"translate(-4,-10)\" style=\"display: inline;\">B</text><rect class=\"node-click-target\" x=\"-5\" y=\"-5\" width=\"10\" style=\"fill: none; visibility: hidden; pointer-events: all;\" height=\"100\"/></g><g class=\"node\" transform=\"translate(209,167.83333333333331)\"><title>D</title><line x1=\"0\" x2=\"0\" y1=\"0\" y2=\"3.166666666666657\" style=\"display: inline; stroke: rgb(0, 0, 0);\"/><rect class=\"node-body\" width=\"1\" height=\"3.166666666666657\" style=\"fill: none;\"/><text class=\"node-value\" dy=\".35em\" text-anchor=\"middle\" style=\"display: none;\" transform=\"translate(0.5,1.5833333333333286) rotate(-90)\"/><text class=\"node-title\" dy=\".35em\" text-anchor=\"start\" transform=\"translate(5,1.5833333333333286)\" style=\"display: inline;\">D</text><rect class=\"node-click-target\" x=\"-5\" y=\"-5\" width=\"10\" style=\"fill: none; visibility: hidden; pointer-events: all;\" height=\"8.166666666666657\"/></g><g class=\"node\" transform=\"translate(0,47.5)\"><title>A</title><line x1=\"0\" x2=\"0\" y1=\"0\" y2=\"95\" style=\"display: inline; stroke: rgb(0, 0, 0);\"/><rect class=\"node-body\" width=\"1\" height=\"95\" style=\"fill: none;\"/><text class=\"node-value\" dy=\".35em\" text-anchor=\"middle\" style=\"display: none;\" transform=\"translate(0.5,47.5) rotate(-90)\"/><text class=\"node-title\" dy=\".35em\" text-anchor=\"end\" transform=\"translate(-4,47.5)\" style=\"display: inline;\">A</text><rect class=\"node-click-target\" x=\"-5\" y=\"-5\" width=\"10\" style=\"fill: none; visibility: hidden; pointer-events: all;\" height=\"100\"/></g><g class=\"node\" transform=\"translate(209,19)\"><title>C</title><line x1=\"0\" x2=\"0\" y1=\"0\" y2=\"91.83333333333333\" style=\"display: inline; stroke: rgb(0, 0, 0);\"/><rect class=\"node-body\" width=\"1\" height=\"91.83333333333333\" style=\"fill: none;\"/><text class=\"node-value\" dy=\".35em\" text-anchor=\"middle\" style=\"display: none;\" transform=\"translate(0.5,45.916666666666664) rotate(-90)\"/><text class=\"node-title\" dy=\".35em\" text-anchor=\"start\" transform=\"translate(5,45.916666666666664)\" style=\"display: inline;\">C</text><rect class=\"node-click-target\" x=\"-5\" y=\"-5\" width=\"10\" style=\"fill: none; visibility: hidden; pointer-events: all;\" height=\"96.83333333333333\"/></g></g><g class=\"slice-titles\"/></g></svg>"
      }
     },
     "9da1607fc418466e9dc05a9dfb10550d": {
      "model_module": "jupyter-sankey-widget",
      "model_module_version": "^0.2.5",
      "model_name": "SankeyModel",
      "state": {
       "_model_module_version": "^0.2.5",
       "_view_module_version": "^0.2.5",
       "layout": "IPY_MODEL_7a67330375e34427b17139535fe985e3",
       "links": [
        {
         "color": "steelblue",
         "source": "A",
         "target": "B",
         "value": 3
        },
        {
         "color": "#aaa",
         "source": "B",
         "target": "C",
         "value": 2
        },
        {
         "color": "goldenrod",
         "source": "B",
         "target": "D",
         "value": 1
        }
       ],
       "margins": {
        "bottom": 0,
        "left": 30,
        "right": 60,
        "top": 10
       },
       "nodes": [
        {
         "id": "B",
         "style": "process",
         "title": "Middle node"
        },
        {
         "id": "D"
        },
        {
         "id": "A"
        },
        {
         "id": "C"
        }
       ],
       "order": [],
       "png": "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",
       "scale": 31.666666666666668,
       "svg": "<?xml version=\"1.0\" standalone=\"no\"?><!DOCTYPE svg PUBLIC \"-//W3C//DTD SVG 1.1//EN\" \"http://www.w3.org/Graphics/SVG/1.1/DTD/svg11.dtd\"><svg xmlns=\"http://www.w3.org/2000/svg\" width=\"300\" height=\"200\" viewBox=\"0 0 300 200\"><g class=\"sankey\" transform=\"translate(30,10)\"><g class=\"groups\"/><g class=\"links\"><g class=\"link\" style=\"opacity: 0.8;\"><path d=\"M105.5,110.83333333333334 A76.48859649122804 76.48859649122804 0.32954890555438254 0 1 130.2529520753763,114.9493054645727 L194.49489555609134,136.92139452821462 A44.82192982456137 44.82192982456137 0.32954890555438254 0 0 209,139.33333333333334 L209,171.00000000000003 A76.48859649122804 76.48859649122804 0.32954890555438254 0 1 184.24704792462367,166.88402786876063 L120.00510444390865,144.91193880511872 A44.82192982456137 44.82192982456137 0.32954890555438254 0 0 105.5,142.5 Z\" style=\"fill: rgb(218, 165, 32);\"/><title>Middle node → D\n1.00</title><text class=\"label\" dy=\"0.35em\" x=\"109.5\" y=\"126.66666666666667\"/></g><g class=\"link\" style=\"opacity: 0.8;\"><path d=\"M105.5,47.5 A28.988596491228062 28.988596491228062 0.32954890555438254 0 0 114.88118062817485,45.94007785794159 L179.12312410888984,23.96798879429969 A92.3219298245614 92.3219298245614 0.32954890555438254 0 1 209,19.000000000000004 L209,82.33333333333334 A28.988596491228062 28.988596491228062 0.32954890555438254 0 0 199.61881937182517,83.89325547539175 L135.37687589111016,105.86534453903366 A92.3219298245614 92.3219298245614 0.32954890555438254 0 1 105.5,110.83333333333334 Z\" style=\"fill: rgb(170, 170, 170);\"/><title>Middle node → C\n2.00</title><text class=\"label\" dy=\"0.35em\" x=\"109.5\" y=\"79.16666666666667\"/></g><g class=\"link\" style=\"opacity: 0.8;\"><path d=\"M1,47.5 A0 0 0 0 0 1,47.5 L104.5,47.5 A0 0 0 0 0 104.5,47.5 L104.5,142.5 A0 0 0 0 0 104.5,142.5 L1,142.5 A0 0 0 0 0 1,142.5 Z\" style=\"fill: rgb(70, 130, 180);\"/><title>A → Middle node\n3.00</title><text class=\"label\" dy=\"0.35em\" x=\"5\" y=\"95\"/></g></g><g class=\"nodes\"><g class=\"node\" transform=\"translate(104.5,47.5)\"><title>Middle node</title><line x1=\"0\" x2=\"0\" y1=\"-5\" y2=\"95\" style=\"display: inline; stroke: rgb(136, 136, 136); stroke-width: 4px;\"/><rect class=\"node-body\" width=\"1\" height=\"95\" style=\"fill: none;\"/><text class=\"node-value\" dy=\".35em\" text-anchor=\"middle\" style=\"display: none;\" transform=\"translate(0.5,47.5) rotate(-90)\"/><text class=\"node-title\" dy=\".35em\" text-anchor=\"start\" transform=\"translate(-4,-10)\" style=\"display: inline;\">Middle node</text><rect class=\"node-click-target\" x=\"-5\" y=\"-5\" width=\"10\" style=\"fill: none; visibility: hidden; pointer-events: all;\" height=\"100\"/></g><g class=\"node\" transform=\"translate(209,139.33333333333334)\"><title>D</title><line x1=\"0\" x2=\"0\" y1=\"0\" y2=\"31.666666666666657\" style=\"display: inline; stroke: rgb(0, 0, 0);\"/><rect class=\"node-body\" width=\"1\" height=\"31.666666666666657\" style=\"fill: none;\"/><text class=\"node-value\" dy=\".35em\" text-anchor=\"middle\" style=\"display: none;\" transform=\"translate(0.5,15.833333333333329) rotate(-90)\"/><text class=\"node-title\" dy=\".35em\" text-anchor=\"start\" transform=\"translate(5,15.833333333333329)\" style=\"display: inline;\">D</text><rect class=\"node-click-target\" x=\"-5\" y=\"-5\" width=\"10\" style=\"fill: none; visibility: hidden; pointer-events: all;\" height=\"36.66666666666666\"/></g><g class=\"node\" transform=\"translate(0,47.5)\"><title>A</title><line x1=\"0\" x2=\"0\" y1=\"0\" y2=\"95\" style=\"display: inline; stroke: rgb(0, 0, 0);\"/><rect class=\"node-body\" width=\"1\" height=\"95\" style=\"fill: none;\"/><text class=\"node-value\" dy=\".35em\" text-anchor=\"middle\" style=\"display: none;\" transform=\"translate(0.5,47.5) rotate(-90)\"/><text class=\"node-title\" dy=\".35em\" text-anchor=\"end\" transform=\"translate(-4,47.5)\" style=\"display: inline;\">A</text><rect class=\"node-click-target\" x=\"-5\" y=\"-5\" width=\"10\" style=\"fill: none; visibility: hidden; pointer-events: all;\" height=\"100\"/></g><g class=\"node\" transform=\"translate(209,19)\"><title>C</title><line x1=\"0\" x2=\"0\" y1=\"0\" y2=\"63.33333333333334\" style=\"display: inline; stroke: rgb(0, 0, 0);\"/><rect class=\"node-body\" width=\"1\" height=\"63.33333333333334\" style=\"fill: none;\"/><text class=\"node-value\" dy=\".35em\" text-anchor=\"middle\" style=\"display: none;\" transform=\"translate(0.5,31.66666666666667) rotate(-90)\"/><text class=\"node-title\" dy=\".35em\" text-anchor=\"start\" transform=\"translate(5,31.66666666666667)\" style=\"display: inline;\">C</text><rect class=\"node-click-target\" x=\"-5\" y=\"-5\" width=\"10\" style=\"fill: none; visibility: hidden; pointer-events: all;\" height=\"68.33333333333334\"/></g></g><g class=\"slice-titles\"/></g></svg>"
      }
     },
     "d51f08c525af4d578bf635d328912f58": {
      "model_module": "jupyter-sankey-widget",
      "model_module_version": "^0.2.5",
      "model_name": "SankeyModel",
      "state": {
       "_model_module_version": "^0.2.5",
       "_view_module_version": "^0.2.5",
       "layout": "IPY_MODEL_7a67330375e34427b17139535fe985e3",
       "links": [
        {
         "source": "A",
         "target": "B",
         "type": "x",
         "value": 3
        },
        {
         "source": "B",
         "target": "C",
         "type": "y",
         "value": 2
        },
        {
         "source": "B",
         "target": "D",
         "type": "z",
         "value": 1
        }
       ],
       "margins": {
        "bottom": 0,
        "left": 30,
        "right": 60,
        "top": 10
       },
       "nodes": [
        {
         "id": "B"
        },
        {
         "id": "D"
        },
        {
         "id": "A"
        },
        {
         "id": "C"
        }
       ],
       "order": [],
       "png": "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",
       "scale": 31.666666666666668,
       "svg": "<?xml version=\"1.0\" standalone=\"no\"?><!DOCTYPE svg PUBLIC \"-//W3C//DTD SVG 1.1//EN\" \"http://www.w3.org/Graphics/SVG/1.1/DTD/svg11.dtd\"><svg xmlns=\"http://www.w3.org/2000/svg\" width=\"300\" height=\"200\" viewBox=\"0 0 300 200\"><g class=\"sankey\" transform=\"translate(30,10)\"><g class=\"groups\"/><g class=\"links\"><g class=\"link\" style=\"opacity: 0.8;\"><path d=\"M105.5,110.83333333333334 A76.48859649122804 76.48859649122804 0.32954890555438254 0 1 130.2529520753763,114.9493054645727 L194.49489555609134,136.92139452821462 A44.82192982456137 44.82192982456137 0.32954890555438254 0 0 209,139.33333333333334 L209,171.00000000000003 A76.48859649122804 76.48859649122804 0.32954890555438254 0 1 184.24704792462367,166.88402786876063 L120.00510444390865,144.91193880511872 A44.82192982456137 44.82192982456137 0.32954890555438254 0 0 105.5,142.5 Z\" style=\"fill: rgb(255, 187, 120);\"/><title>B → D\nz\n1.00</title><text class=\"label\" dy=\"0.35em\" x=\"109.5\" y=\"126.66666666666667\"/></g><g class=\"link\" style=\"opacity: 0.8;\"><path d=\"M105.5,47.5 A28.988596491228062 28.988596491228062 0.32954890555438254 0 0 114.88118062817485,45.94007785794159 L179.12312410888984,23.96798879429969 A92.3219298245614 92.3219298245614 0.32954890555438254 0 1 209,19.000000000000004 L209,82.33333333333334 A28.988596491228062 28.988596491228062 0.32954890555438254 0 0 199.61881937182517,83.89325547539175 L135.37687589111016,105.86534453903366 A92.3219298245614 92.3219298245614 0.32954890555438254 0 1 105.5,110.83333333333334 Z\" style=\"fill: rgb(255, 127, 14);\"/><title>B → C\ny\n2.00</title><text class=\"label\" dy=\"0.35em\" x=\"109.5\" y=\"79.16666666666667\"/></g><g class=\"link\" style=\"opacity: 0.8;\"><path d=\"M1,47.5 A0 0 0 0 0 1,47.5 L104.5,47.5 A0 0 0 0 0 104.5,47.5 L104.5,142.5 A0 0 0 0 0 104.5,142.5 L1,142.5 A0 0 0 0 0 1,142.5 Z\" style=\"fill: rgb(174, 199, 232);\"/><title>A → B\nx\n3.00</title><text class=\"label\" dy=\"0.35em\" x=\"5\" y=\"95\"/></g></g><g class=\"nodes\"><g class=\"node\" transform=\"translate(104.5,47.5)\"><title>B</title><line x1=\"0\" x2=\"0\" y1=\"-5\" y2=\"95\" style=\"display: inline; stroke: rgb(0, 0, 0);\"/><rect class=\"node-body\" width=\"1\" height=\"95\" style=\"fill: none;\"/><text class=\"node-value\" dy=\".35em\" text-anchor=\"middle\" style=\"display: none;\" transform=\"translate(0.5,47.5) rotate(-90)\"/><text class=\"node-title\" dy=\".35em\" text-anchor=\"start\" transform=\"translate(-4,-10)\" style=\"display: inline;\">B</text><rect class=\"node-click-target\" x=\"-5\" y=\"-5\" width=\"10\" style=\"fill: none; visibility: hidden; pointer-events: all;\" height=\"100\"/></g><g class=\"node\" transform=\"translate(209,139.33333333333334)\"><title>D</title><line x1=\"0\" x2=\"0\" y1=\"0\" y2=\"31.666666666666657\" style=\"display: inline; stroke: rgb(0, 0, 0);\"/><rect class=\"node-body\" width=\"1\" height=\"31.666666666666657\" style=\"fill: none;\"/><text class=\"node-value\" dy=\".35em\" text-anchor=\"middle\" style=\"display: none;\" transform=\"translate(0.5,15.833333333333329) rotate(-90)\"/><text class=\"node-title\" dy=\".35em\" text-anchor=\"start\" transform=\"translate(5,15.833333333333329)\" style=\"display: inline;\">D</text><rect class=\"node-click-target\" x=\"-5\" y=\"-5\" width=\"10\" style=\"fill: none; visibility: hidden; pointer-events: all;\" height=\"36.66666666666666\"/></g><g class=\"node\" transform=\"translate(0,47.5)\"><title>A</title><line x1=\"0\" x2=\"0\" y1=\"0\" y2=\"95\" style=\"display: inline; stroke: rgb(0, 0, 0);\"/><rect class=\"node-body\" width=\"1\" height=\"95\" style=\"fill: none;\"/><text class=\"node-value\" dy=\".35em\" text-anchor=\"middle\" style=\"display: none;\" transform=\"translate(0.5,47.5) rotate(-90)\"/><text class=\"node-title\" dy=\".35em\" text-anchor=\"end\" transform=\"translate(-4,47.5)\" style=\"display: inline;\">A</text><rect class=\"node-click-target\" x=\"-5\" y=\"-5\" width=\"10\" style=\"fill: none; visibility: hidden; pointer-events: all;\" height=\"100\"/></g><g class=\"node\" transform=\"translate(209,19)\"><title>C</title><line x1=\"0\" x2=\"0\" y1=\"0\" y2=\"63.33333333333334\" style=\"display: inline; stroke: rgb(0, 0, 0);\"/><rect class=\"node-body\" width=\"1\" height=\"63.33333333333334\" style=\"fill: none;\"/><text class=\"node-value\" dy=\".35em\" text-anchor=\"middle\" style=\"display: none;\" transform=\"translate(0.5,31.66666666666667) rotate(-90)\"/><text class=\"node-title\" dy=\".35em\" text-anchor=\"start\" transform=\"translate(5,31.66666666666667)\" style=\"display: inline;\">C</text><rect class=\"node-click-target\" x=\"-5\" y=\"-5\" width=\"10\" style=\"fill: none; visibility: hidden; pointer-events: all;\" height=\"68.33333333333334\"/></g></g><g class=\"slice-titles\"/></g></svg>"
      }
     },
     "dd9b4f5c376443cf90ae291819376d7f": {
      "model_module": "jupyter-sankey-widget",
      "model_module_version": "^0.2.5",
      "model_name": "SankeyModel",
      "state": {
       "_model_module_version": "^0.2.5",
       "_view_module_version": "^0.2.5",
       "layout": "IPY_MODEL_7a67330375e34427b17139535fe985e3",
       "links": [
        {
         "source": "A",
         "target": "B",
         "value": 1
        },
        {
         "source": "B",
         "target": "C",
         "value": 1
        },
        {
         "source": "A",
         "target": "D",
         "value": 1
        }
       ],
       "margins": {
        "bottom": 0,
        "left": 30,
        "right": 60,
        "top": 10
       },
       "nodes": [
        {
         "id": "B"
        },
        {
         "id": "D"
        },
        {
         "id": "A"
        },
        {
         "id": "C"
        }
       ],
       "order": [],
       "png": "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",
       "scale": 47.5,
       "svg": "<?xml version=\"1.0\" standalone=\"no\"?><!DOCTYPE svg PUBLIC \"-//W3C//DTD SVG 1.1//EN\" \"http://www.w3.org/Graphics/SVG/1.1/DTD/svg11.dtd\"><svg xmlns=\"http://www.w3.org/2000/svg\" width=\"300\" height=\"200\" viewBox=\"0 0 300 200\"><g class=\"sankey\" transform=\"translate(30,10)\"><g class=\"groups\"/><g class=\"links\"><g class=\"link\" style=\"opacity: 0.8;\"><path d=\"M1,47.5 A36.90526315789473 36.90526315789473 0.32954890555438254 0 0 12.943142536041748,45.51406952641143 L77.18508601675677,23.541980462769526 A84.40526315789472 84.40526315789472 0.32954890555438254 0 1 104.5,19 L104.5,66.5 A36.90526315789473 36.90526315789473 0.32954890555438254 0 0 92.55685746395824,68.48593047358857 L28.31491398324323,90.45801953723047 A84.40526315789472 84.40526315789472 0.32954890555438254 0 1 1,95 Z\" style=\"fill: rgb(31, 119, 180);\"/><title>A → B\n1.00</title><text class=\"label\" dy=\"0.35em\" x=\"5\" y=\"71.25\"/></g><g class=\"link\" style=\"opacity: 0.8;\"><path d=\"M105.5,19 A62.34037081339713 62.34037081339713 0.5746201801979326 0 1 139.38298958207187,29.011938292127525 L200.93402087437764,68.86661865533702 A14.84037081339713 14.84037081339713 0.5746201801979326 0 0 209,71.25 L209,118.75 A62.34037081339713 62.34037081339713 0.5746201801979326 0 1 175.11701041792813,108.73806170787248 L113.56597912562236,68.88338134466296 A14.84037081339713 14.84037081339713 0.5746201801979326 0 0 105.5,66.5 Z\" style=\"fill: rgb(31, 119, 180);\"/><title>B → C\n1.00</title><text class=\"label\" dy=\"0.35em\" x=\"109.5\" y=\"42.75\"/></g><g class=\"link\" style=\"opacity: 0.8;\"><path d=\"M1,95 A84.40526315789472 84.40526315789472 0.32954890555438254 0 1 28.31491398324323,99.54198046276953 L92.55685746395824,121.51406952641142 A36.90526315789473 36.90526315789473 0.32954890555438254 0 0 104.5,123.5 L104.5,171 A84.40526315789472 84.40526315789472 0.32954890555438254 0 1 77.18508601675677,166.45801953723046 L12.943142536041748,144.48593047358858 A36.90526315789473 36.90526315789473 0.32954890555438254 0 0 1,142.5 Z\" style=\"fill: rgb(31, 119, 180);\"/><title>A → D\n1.00</title><text class=\"label\" dy=\"0.35em\" x=\"5\" y=\"118.75\"/></g></g><g class=\"nodes\"><g class=\"node\" transform=\"translate(104.5,19)\"><title>B</title><line x1=\"0\" x2=\"0\" y1=\"-5\" y2=\"47.5\" style=\"display: inline; stroke: rgb(0, 0, 0);\"/><rect class=\"node-body\" width=\"1\" height=\"47.5\" style=\"fill: none;\"/><text class=\"node-value\" dy=\".35em\" text-anchor=\"middle\" style=\"display: none;\" transform=\"translate(0.5,23.75) rotate(-90)\"/><text class=\"node-title\" dy=\".35em\" text-anchor=\"start\" transform=\"translate(-4,-10)\" style=\"display: inline;\">B</text><rect class=\"node-click-target\" x=\"-5\" y=\"-5\" width=\"10\" style=\"fill: none; visibility: hidden; pointer-events: all;\" height=\"52.5\"/></g><g class=\"node\" transform=\"translate(104.5,123.5)\"><title>D</title><line x1=\"0\" x2=\"0\" y1=\"0\" y2=\"47.5\" style=\"display: inline; stroke: rgb(0, 0, 0);\"/><rect class=\"node-body\" width=\"1\" height=\"47.5\" style=\"fill: none;\"/><text class=\"node-value\" dy=\".35em\" text-anchor=\"middle\" style=\"display: none;\" transform=\"translate(0.5,23.75) rotate(-90)\"/><text class=\"node-title\" dy=\".35em\" text-anchor=\"start\" transform=\"translate(5,23.75)\" style=\"display: inline;\">D</text><rect class=\"node-click-target\" x=\"-5\" y=\"-5\" width=\"10\" style=\"fill: none; visibility: hidden; pointer-events: all;\" height=\"52.5\"/></g><g class=\"node\" transform=\"translate(0,47.5)\"><title>A</title><line x1=\"0\" x2=\"0\" y1=\"0\" y2=\"95\" style=\"display: inline; stroke: rgb(0, 0, 0);\"/><rect class=\"node-body\" width=\"1\" height=\"95\" style=\"fill: none;\"/><text class=\"node-value\" dy=\".35em\" text-anchor=\"middle\" style=\"display: none;\" transform=\"translate(0.5,47.5) rotate(-90)\"/><text class=\"node-title\" dy=\".35em\" text-anchor=\"end\" transform=\"translate(-4,47.5)\" style=\"display: inline;\">A</text><rect class=\"node-click-target\" x=\"-5\" y=\"-5\" width=\"10\" style=\"fill: none; visibility: hidden; pointer-events: all;\" height=\"100\"/></g><g class=\"node\" transform=\"translate(209,71.25)\"><title>C</title><line x1=\"0\" x2=\"0\" y1=\"0\" y2=\"47.5\" style=\"display: inline; stroke: rgb(0, 0, 0);\"/><rect class=\"node-body\" width=\"1\" height=\"47.5\" style=\"fill: none;\"/><text class=\"node-value\" dy=\".35em\" text-anchor=\"middle\" style=\"display: none;\" transform=\"translate(0.5,23.75) rotate(-90)\"/><text class=\"node-title\" dy=\".35em\" text-anchor=\"start\" transform=\"translate(5,23.75)\" style=\"display: inline;\">C</text><rect class=\"node-click-target\" x=\"-5\" y=\"-5\" width=\"10\" style=\"fill: none; visibility: hidden; pointer-events: all;\" height=\"52.5\"/></g></g><g class=\"slice-titles\"/></g></svg>"
      }
     },
     "e95e5866e9004e5f9e52634bf5cd7e22": {
      "model_module": "jupyter-sankey-widget",
      "model_module_version": "^0.2.5",
      "model_name": "SankeyModel",
      "state": {
       "_model_module_version": "^0.2.5",
       "_view_module_version": "^0.2.5",
       "layout": "IPY_MODEL_7a67330375e34427b17139535fe985e3",
       "links": [
        {
         "source": "A",
         "target": "B",
         "value": 1
        },
        {
         "source": "B",
         "target": "C",
         "value": 1
        },
        {
         "source": "C",
         "target": "D",
         "value": 1
        },
        {
         "source": "A",
         "target": "E",
         "value": 0.5
        }
       ],
       "margins": {
        "bottom": 0,
        "left": 30,
        "right": 60,
        "top": 10
       },
       "nodes": [
        {
         "direction": "l",
         "id": "C"
        },
        {
         "direction": "l",
         "id": "D"
        },
        {
         "id": "B"
        },
        {
         "id": "A"
        },
        {
         "id": "E"
        }
       ],
       "order": [],
       "png": "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",
       "scale": 38,
       "svg": "<?xml version=\"1.0\" standalone=\"no\"?><!DOCTYPE svg PUBLIC \"-//W3C//DTD SVG 1.1//EN\" \"http://www.w3.org/Graphics/SVG/1.1/DTD/svg11.dtd\"><svg xmlns=\"http://www.w3.org/2000/svg\" width=\"300\" height=\"200\" viewBox=\"0 0 300 200\"><g class=\"sankey\" transform=\"translate(30,10)\"><g class=\"groups\"/><g class=\"links\"><g class=\"link\" style=\"opacity: 0.8;\"><path d=\"M1,57 A241.4802631578947 241.4802631578947 0.1668750566714441 0 1 41.11026568135672,60.35448949662751 L172.04566531681132,82.4094463613281 A222.4802631578947 222.4802631578947 0.1668750566714441 0 0 209,85.5 L209,104.5 A241.4802631578947 241.4802631578947 0.1668750566714441 0 1 168.88973431864326,101.14551050337249 L37.95433468318868,79.0905536386719 A222.4802631578947 222.4802631578947 0.1668750566714441 0 0 1,76 Z\" style=\"fill: rgb(31, 119, 180);\"/><title>A → E\n500m</title><text class=\"label\" dy=\"0.35em\" x=\"5\" y=\"66.5\"/></g><g class=\"link\" style=\"opacity: 0.8;\"><path d=\"M1,19 A0 0 0 0 0 1,19 L209,19 A0 0 0 0 0 209,19 L209,57 A0 0 0 0 0 209,57 L1,57 A0 0 0 0 0 1,57 Z\" style=\"fill: rgb(31, 119, 180);\"/><title>A → B\n1.00</title><text class=\"label\" dy=\"0.35em\" x=\"5\" y=\"38\"/></g><g class=\"link\" style=\"opacity: 0.8;\"><path d=\"M210,19 A43 43 1.5859466826696664 0 1 252.99506512880683,62.651440380739494 L251.99506512880683,127.92425111851867 A43 43 1.5859466826696664 0 1 209,171 L209,133 A5 5 1.5859466826696664 0 0 213.99942617776824,127.3485596192605 L214.99942617776824,62.07574888148134 A5 5 1.5859466826696664 0 0 210,57 Z\" style=\"fill: rgb(31, 119, 180);\"/><title>B → C\n1.00</title><text class=\"label\" dy=\"0.35em\" x=\"214\" y=\"38\"/></g><g class=\"link\" style=\"opacity: 0.8;\"><path d=\"M0,133 A0 0 0 0 0 0,133 L210,133 A0 0 0 0 0 210,133 L210,171 A0 0 0 0 0 210,171 L0,171 A0 0 0 0 0 0,171 Z\" style=\"fill: rgb(31, 119, 180);\"/><title>C → D\n1.00</title><text class=\"label\" dy=\"0.35em\" x=\"214\" y=\"152\"/></g></g><g class=\"nodes\"><g class=\"node\" transform=\"translate(209,133)\"><title>C</title><line x1=\"0\" x2=\"0\" y1=\"-5\" y2=\"38\" style=\"display: inline; stroke: rgb(0, 0, 0);\"/><rect class=\"node-body\" width=\"1\" height=\"38\" style=\"fill: none;\"/><text class=\"node-value\" dy=\".35em\" text-anchor=\"middle\" style=\"display: none;\" transform=\"translate(0.5,19) rotate(-90)\"/><text class=\"node-title\" dy=\".35em\" text-anchor=\"start\" transform=\"translate(-4,-10)\" style=\"display: inline;\">C</text><rect class=\"node-click-target\" x=\"-5\" y=\"-5\" width=\"10\" style=\"fill: none; visibility: hidden; pointer-events: all;\" height=\"43\"/></g><g class=\"node\" transform=\"translate(0,133)\"><title>D</title><line x1=\"0\" x2=\"0\" y1=\"0\" y2=\"38\" style=\"display: inline; stroke: rgb(0, 0, 0);\"/><rect class=\"node-body\" width=\"1\" height=\"38\" style=\"fill: none;\"/><text class=\"node-value\" dy=\".35em\" text-anchor=\"middle\" style=\"display: none;\" transform=\"translate(0.5,19) rotate(-90)\"/><text class=\"node-title\" dy=\".35em\" text-anchor=\"start\" transform=\"translate(5,19)\" style=\"display: inline;\">D</text><rect class=\"node-click-target\" x=\"-5\" y=\"-5\" width=\"10\" style=\"fill: none; visibility: hidden; pointer-events: all;\" height=\"43\"/></g><g class=\"node\" transform=\"translate(209,19)\"><title>B</title><line x1=\"0\" x2=\"0\" y1=\"-5\" y2=\"38\" style=\"display: inline; stroke: rgb(0, 0, 0);\"/><rect class=\"node-body\" width=\"1\" height=\"38\" style=\"fill: none;\"/><text class=\"node-value\" dy=\".35em\" text-anchor=\"middle\" style=\"display: none;\" transform=\"translate(0.5,19) rotate(-90)\"/><text class=\"node-title\" dy=\".35em\" text-anchor=\"start\" transform=\"translate(-4,-10)\" style=\"display: inline;\">B</text><rect class=\"node-click-target\" x=\"-5\" y=\"-5\" width=\"10\" style=\"fill: none; visibility: hidden; pointer-events: all;\" height=\"43\"/></g><g class=\"node\" transform=\"translate(0,19)\"><title>A</title><line x1=\"0\" x2=\"0\" y1=\"0\" y2=\"57\" style=\"display: inline; stroke: rgb(0, 0, 0);\"/><rect class=\"node-body\" width=\"1\" height=\"57\" style=\"fill: none;\"/><text class=\"node-value\" dy=\".35em\" text-anchor=\"middle\" style=\"display: none;\" transform=\"translate(0.5,28.5) rotate(-90)\"/><text class=\"node-title\" dy=\".35em\" text-anchor=\"end\" transform=\"translate(-4,28.5)\" style=\"display: inline;\">A</text><rect class=\"node-click-target\" x=\"-5\" y=\"-5\" width=\"10\" style=\"fill: none; visibility: hidden; pointer-events: all;\" height=\"62\"/></g><g class=\"node\" transform=\"translate(209,85.5)\"><title>E</title><line x1=\"0\" x2=\"0\" y1=\"0\" y2=\"19\" style=\"display: inline; stroke: rgb(0, 0, 0);\"/><rect class=\"node-body\" width=\"1\" height=\"19\" style=\"fill: none;\"/><text class=\"node-value\" dy=\".35em\" text-anchor=\"middle\" style=\"display: none;\" transform=\"translate(0.5,9.5) rotate(-90)\"/><text class=\"node-title\" dy=\".35em\" text-anchor=\"start\" transform=\"translate(5,9.5)\" style=\"display: inline;\">E</text><rect class=\"node-click-target\" x=\"-5\" y=\"-5\" width=\"10\" style=\"fill: none; visibility: hidden; pointer-events: all;\" height=\"24\"/></g></g><g class=\"slice-titles\"/></g></svg>"
      }
     },
     "f0989a770da74113bd9aea59864031eb": {
      "model_module": "jupyter-sankey-widget",
      "model_module_version": "^0.2.5",
      "model_name": "SankeyModel",
      "state": {
       "_model_module_version": "^0.2.5",
       "_view_module_version": "^0.2.5",
       "layout": "IPY_MODEL_7a67330375e34427b17139535fe985e3",
       "links": [
        {
         "source": "A1",
         "target": "B",
         "type": "x",
         "value": 1.5
        },
        {
         "source": "A1",
         "target": "B",
         "type": "y",
         "value": 0.5
        },
        {
         "source": "A2",
         "target": "B",
         "type": "x",
         "value": 0.5
        },
        {
         "source": "A2",
         "target": "B",
         "type": "y",
         "value": 1.5
        },
        {
         "source": "B",
         "target": "C",
         "type": "x",
         "value": 2
        },
        {
         "source": "B",
         "target": "C",
         "type": "y",
         "value": 2
        }
       ],
       "margins": {
        "bottom": 0,
        "left": 30,
        "right": 60,
        "top": 10
       },
       "nodes": [
        {
         "id": "B"
        },
        {
         "id": "A2"
        },
        {
         "id": "C"
        },
        {
         "id": "A1"
        }
       ],
       "order": [],
       "png": "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",
       "scale": 23.75,
       "svg": "<?xml version=\"1.0\" standalone=\"no\"?><!DOCTYPE svg PUBLIC \"-//W3C//DTD SVG 1.1//EN\" \"http://www.w3.org/Graphics/SVG/1.1/DTD/svg11.dtd\"><svg xmlns=\"http://www.w3.org/2000/svg\" width=\"300\" height=\"200\" viewBox=\"0 0 300 200\"><g class=\"sankey\" transform=\"translate(30,10)\"><g class=\"groups\"/><g class=\"links\"><g class=\"link\" style=\"opacity: 0.8;\"><path d=\"M1,54.625 A66.59276315789472 66.59276315789472 0.3513440587931185 0 1 23.918569997194467,58.69308599529628 L77.49452917739026,78.33148200724176 A78.46776315789472 78.46776315789472 0.3513440587931185 0 0 104.5,83.125 L104.5,95 A90.34276315789472 90.34276315789472 0.3513440587931185 0 1 73.40762835197498,89.48105000977978 L19.831669171779183,69.8426539978343 A54.71776315789473 54.71776315789473 0.3513440587931185 0 0 1,66.5 Z\" style=\"fill: rgb(255, 127, 14);\"/><title>A1 → B\ny\n500m</title><text class=\"label\" dy=\"0.35em\" x=\"5\" y=\"60.5625\"/></g><g class=\"link\" style=\"opacity: 0.8;\"><path d=\"M1,123.5 A54.71776315789473 54.71776315789473 0.3513440587931185 0 0 19.831669171779183,120.1573460021657 L73.40762835197498,100.51894999022022 A90.34276315789472 90.34276315789472 0.3513440587931185 0 1 104.5,95 L104.5,106.875 A78.46776315789472 78.46776315789472 0.3513440587931185 0 0 77.49452917739026,111.66851799275824 L23.918569997194467,131.3069140047037 A66.59276315789472 66.59276315789472 0.3513440587931185 0 1 1,135.375 Z\" style=\"fill: rgb(174, 199, 232);\"/><title>A2 → B\nx\n500m</title><text class=\"label\" dy=\"0.35em\" x=\"5\" y=\"129.4375\"/></g><g class=\"link\" style=\"opacity: 0.8;\"><path d=\"M1,19 A102.21776315789472 102.21776315789472 0.3513440587931185 0 1 36.17927247344031,25.24438198768219 L89.7552316536361,44.88277799962765 A42.84276315789473 42.84276315789473 0.3513440587931185 0 0 104.5,47.5 L104.5,83.125 A78.46776315789472 78.46776315789472 0.3513440587931185 0 1 77.49452917739025,78.33148200724175 L23.918569997194467,58.693085995296286 A66.59276315789472 66.59276315789472 0.3513440587931185 0 0 1,54.625 Z\" style=\"fill: rgb(174, 199, 232);\"/><title>A1 → B\nx\n1.50</title><text class=\"label\" dy=\"0.35em\" x=\"5\" y=\"36.8125\"/></g><g class=\"link\" style=\"opacity: 0.8;\"><path d=\"M1,135.375 A66.59276315789472 66.59276315789472 0.3513440587931185 0 0 23.918569997194467,131.3069140047037 L77.49452917739025,111.66851799275827 A78.46776315789472 78.46776315789472 0.3513440587931185 0 1 104.5,106.875 L104.5,142.5 A42.84276315789473 42.84276315789473 0.3513440587931185 0 0 89.7552316536361,145.11722200037235 L36.17927247344031,164.7556180123178 A102.21776315789472 102.21776315789472 0.3513440587931185 0 1 1,171 Z\" style=\"fill: rgb(255, 127, 14);\"/><title>A2 → B\ny\n1.50</title><text class=\"label\" dy=\"0.35em\" x=\"5\" y=\"153.1875\"/></g><g class=\"link\" style=\"opacity: 0.8;\"><path d=\"M105.5,47.5 A0 0 0 0 0 105.5,47.5 L209,47.5 A0 0 0 0 0 209,47.5 L209,95 A0 0 0 0 0 209,95 L105.5,95 A0 0 0 0 0 105.5,95 Z\" style=\"fill: rgb(174, 199, 232);\"/><title>B → C\nx\n2.00</title><text class=\"label\" dy=\"0.35em\" x=\"109.5\" y=\"71.25\"/></g><g class=\"link\" style=\"opacity: 0.8;\"><path d=\"M105.5,95 A0 0 0 0 0 105.5,95 L209,95 A0 0 0 0 0 209,95 L209,142.5 A0 0 0 0 0 209,142.5 L105.5,142.5 A0 0 0 0 0 105.5,142.5 Z\" style=\"fill: rgb(255, 127, 14);\"/><title>B → C\ny\n2.00</title><text class=\"label\" dy=\"0.35em\" x=\"109.5\" y=\"118.75\"/></g></g><g class=\"nodes\"><g class=\"node\" transform=\"translate(104.5,47.5)\"><title>B</title><line x1=\"0\" x2=\"0\" y1=\"-5\" y2=\"95\" style=\"display: inline; stroke: rgb(0, 0, 0);\"/><rect class=\"node-body\" width=\"1\" height=\"95\" style=\"fill: none;\"/><text class=\"node-value\" dy=\".35em\" text-anchor=\"middle\" style=\"display: none;\" transform=\"translate(0.5,47.5) rotate(-90)\"/><text class=\"node-title\" dy=\".35em\" text-anchor=\"start\" transform=\"translate(-4,-10)\" style=\"display: inline;\">B</text><rect class=\"node-click-target\" x=\"-5\" y=\"-5\" width=\"10\" style=\"fill: none; visibility: hidden; pointer-events: all;\" height=\"100\"/></g><g class=\"node\" transform=\"translate(0,123.5)\"><title>A2</title><line x1=\"0\" x2=\"0\" y1=\"0\" y2=\"47.5\" style=\"display: inline; stroke: rgb(0, 0, 0);\"/><rect class=\"node-body\" width=\"1\" height=\"47.5\" style=\"fill: none;\"/><text class=\"node-value\" dy=\".35em\" text-anchor=\"middle\" style=\"display: none;\" transform=\"translate(0.5,23.75) rotate(-90)\"/><text class=\"node-title\" dy=\".35em\" text-anchor=\"end\" transform=\"translate(-4,23.75)\" style=\"display: inline;\">A2</text><rect class=\"node-click-target\" x=\"-5\" y=\"-5\" width=\"10\" style=\"fill: none; visibility: hidden; pointer-events: all;\" height=\"52.5\"/></g><g class=\"node\" transform=\"translate(209,47.5)\"><title>C</title><line x1=\"0\" x2=\"0\" y1=\"0\" y2=\"95\" style=\"display: inline; stroke: rgb(0, 0, 0);\"/><rect class=\"node-body\" width=\"1\" height=\"95\" style=\"fill: none;\"/><text class=\"node-value\" dy=\".35em\" text-anchor=\"middle\" style=\"display: none;\" transform=\"translate(0.5,47.5) rotate(-90)\"/><text class=\"node-title\" dy=\".35em\" text-anchor=\"start\" transform=\"translate(5,47.5)\" style=\"display: inline;\">C</text><rect class=\"node-click-target\" x=\"-5\" y=\"-5\" width=\"10\" style=\"fill: none; visibility: hidden; pointer-events: all;\" height=\"100\"/></g><g class=\"node\" transform=\"translate(0,19)\"><title>A1</title><line x1=\"0\" x2=\"0\" y1=\"0\" y2=\"47.5\" style=\"display: inline; stroke: rgb(0, 0, 0);\"/><rect class=\"node-body\" width=\"1\" height=\"47.5\" style=\"fill: none;\"/><text class=\"node-value\" dy=\".35em\" text-anchor=\"middle\" style=\"display: none;\" transform=\"translate(0.5,23.75) rotate(-90)\"/><text class=\"node-title\" dy=\".35em\" text-anchor=\"end\" transform=\"translate(-4,23.75)\" style=\"display: inline;\">A1</text><rect class=\"node-click-target\" x=\"-5\" y=\"-5\" width=\"10\" style=\"fill: none; visibility: hidden; pointer-events: all;\" height=\"52.5\"/></g></g><g class=\"slice-titles\"/></g></svg>"
      }
     },
     "f437de6f2e2c4094acc375b01fd34152": {
      "model_module": "jupyter-sankey-widget",
      "model_module_version": "^0.2.5",
      "model_name": "SankeyModel",
      "state": {
       "_model_module_version": "^0.2.5",
       "_view_module_version": "^0.2.5",
       "layout": "IPY_MODEL_7a67330375e34427b17139535fe985e3",
       "links": [
        {
         "source": "A",
         "target": "B",
         "value": 1
        },
        {
         "source": "B",
         "target": "C",
         "value": 1
        },
        {
         "source": "A",
         "target": "D",
         "value": 1
        }
       ],
       "margins": {
        "bottom": 0,
        "left": 30,
        "right": 60,
        "top": 10
       },
       "nodes": [
        {
         "id": "B"
        },
        {
         "id": "D"
        },
        {
         "id": "A"
        },
        {
         "id": "C"
        }
       ],
       "order": [
        [
         "A"
        ],
        [
         "D",
         "B"
        ],
        [
         "C"
        ]
       ],
       "png": "iVBORw0KGgoAAAANSUhEUgAAASwAAADICAYAAABS39xVAAATAklEQVR4nO3deZAcZ3nH8Z8U2RbGktb2ytLO9Pu2AOMjOODESnxBpAo2BT5ilQ9wbJTYHLIjWbZWO/30SMZ4CA4REINSNraMHSRjG+yNSqvp5+2V1givQAeSTSUhlYN/EiiuolIkXAmhQhHljx4WXbsr7c702zPz+1Q9ZWtmZ7Xbb/e3pFV3D0BERERERERERERERERERERERERERERERERERERERERERERERERERERERERERERERERERERERERERERERERERERERERE1C3CyshrgsrQUhu7dxtJ7jfiPmXFbbGiz5vIbTdRssOKeymM3T4Ah3x/vUTUBYL++rlBPPyOIHarTaSPWlG1sfvqyQwYLCJqtrn9g2eVRW+2orUw0udONkwMFhG1VGmdXmDFrbCxe8aKe6VZkWKwiKgpgkp6qY21asW92IpAMVhENC3lKL3Yxip5RYrBIqKTsjBO3mDFrbHi0rwjxWAR0aSCSF9vIl1lYrfdZ6QYLCI6rvLq4cDGw++3cbLVd5wYLCI6xvxocKGJ0jtCST7nO0gMFhEdo7xq29lBJb3NitviO0IMFhEdo2fNUE9Zhm+2ok+26jwpBouIpm7l4Bmmkt6QXZ+nB30Hh8EioiPVRmdn1+zpxjDSA74jw2AR0ZFqg6fairvKin4sjN0+32FhsIjoSEtHZwVRsiQU95AV3eM7JgwWER2lNrNc0cut6IOh6G7fAWGwiOgYfVJfbEXXWdFdvqNR4GDNAfBtAD8D8EsA3wHwPQD/DuBlAOsbH0NEzRZU6m80UVIxojt9h6IogxP7E9Z+AF877NenAbgJwPcB/BOA3uavFlEXKq3TCwLRe22sznccijiYPFgzAfwUwJbjPHdF4/VPNXfViLqIiYZeZ0TvNqJDvoNQ9MHkwTq/8TFrxnn+6wB+3Mz1I+p4vet39oWSvNfG7gXfEWinweTBelfjY5aM8/xLjedPb+JyEnWeBZWRc6wky63os74P/HYdTB6sDY2PmTfO838P4OfNXFeijjGv6s40FXdrKPqZdr1+r0iDyYO1E8C/jvPcbGSxOtDMNSZqa71SnxOIu9HG6SYb68u+D/JOGkwerO8D2DrOc8sar682c72J2s/ykVeX16XXGXGPhLHrqOv3ijSYOFh9jefvP85zMwEcBPADAGc2fwcgKrigX8umkt5gYvcJ3wdytwwmDtY1jeevOc5zfwngFwCub8GuQFQ8Cyoj55Sj5DobJR+0sSa+D95uHEwcrPWN50uNX89Edu7VMLKz3a9t6Q5ClLMlAJYGovdY0Zqt6l/ZyG22omol2ev7YOWMG6zzAHwTwE8az38TwDcAfAvAbgAV8K+B1IEeBFDzfVByTjpYRF2JwSr4gMEiGsNgFXzAYBGNYbAKPmCwiMYwWAUfMFhEYxisgg8YLKIxDFbBBwwW0RgGq+ADBotoDINV8AGDRTSGwSr4gMEiGsNgFXzAYBGNYbAKPmCwiMYwWAUfMFhEYxisgg8YLKIxDFbBBwwW0RgGq+ADBotoDINV8AGDRTSGwSr4gMEiGsNgFWu+YGM3aCO3yYrbYGOtntJrn/C9kxAVBYPlb14wondb0bcuqu5Y5HtHIGoHDFa+44zo3SYaep3vhSdqRwxWDpGy4tb0ibvQ92ITtTsGqxUjbmcgaVReq2/yvcBEnYTBatroLiPJ/UbSxcChGb4XlpqkNjrbVt1ryzJ8mRnQZWE1fZ+p6NpQ3ANW3Ia5l9+6C8Advr/MbsFgTWNCSXfbqtZKsbsCqM30vZg0PQsqIxcF4m40satY0cetuBcn2wfmLF72XQA13197t2CwTnZE91jRjwSVoaWojc7yvYA0dTaqXxmI3mNj/fRU9wcGK18M1glMKG6/idzHrdSvRm3wVN+LRlN1aIaRdHEo7oFQdHcz9g0GK18M1niRivSAjXVjOa5fi/79r/K9UDR15VXbzs5OJ0l2NHs/YbDyxWAdPqIHTaSPGdFlWDl4hu/FoekpR+nFNta/CGN3oFX7DIOVLwZL3CtGkqdsnLyzZ81Qj+8Foekrxe4KK7olj/2HwcpXFwdLn7aV+rtLA9rrexGoOWxUv9KKyyVUDJYfXRWsUPTzRvTO+dHgQt8bnppnYXVokRH3lI99isHKVxcES7faOLmrtHa78b2xqclW6OmNc6YO+tq/GKx8dWiwNAlE7ymvTc/zvYGpNYJ4+B1WdJfvfY3BylfHBMuIDpuKrl1QcRf53qjUOqUB7TWRPup7f2Ow/Gj3YH3BxlotVYd/2/eGpNYry/DNVtyXCrDfMVietF+wxL0UinsgqKSX8vq97lBau93YyG32vu8xWN61R7DEfclE+mEb73gzbhn8Dd8bjfJSm2lE7wzF7fe+DzJYhVDcYInba8VtCKvDf4AVXz3F94aifJXXpudZ0ee974cMVqEUKlih6FeMpA8HUf3tqG2e7XvjkAcrvnpKIHqvz1MVGKzi8h6sMHYHjLhHSrFej+Ujr/a9QcifcpRebGK33XeEGKz8LQTwUwDPTPJxnoKlL9s43RREyU1nrR6e2/rNQYW2Qk83ktxvxb3iO0AtDNaFADYB+BcA3wbwIwAHGq9d1JoN2z7+GsAvAPzDJB+Xc7DSTUElvW1e1Z3Z+k1A7cDG+mYjutN3eFocrAEAPwDwHgCnNx47DcAaZG+U+/VWbd928CYAQwB2IYvWaRN8bIuDpV8MJXnIRPo2/nWPDjev6s7M3izWf3RaHKwIwM8B/N44z9cBPN/kzdtWFEAIYAOyek90UmVzgyXJXhvrp02kq0rRzt/J45ul9lOOkutsrF/0HZscgnURsj80bJhgc9wO4NYmb+K2cQOAauP/b0EWrDsn+PhpBctEus3G7kNl0ZtLsuN8nshJE5kfpQtt5Db5jkyOwXoGwC8BBLlt5DZyCoDtjf8CwGuQBWvjBK/5dbBEv2zFvWhF1cbJ1lDcs0aSp4ykD1txsYnSO4JIr+mruktKsdoWfy/UYUyU/pEV3eM7MDkGaxaAHwP4u1w3dBu5D8DSox77DwC7J3jNpMGysX7URO5PS7FeX46GLp7bP3hWi75+6kCLqjsWWdHP+g6Lh2BdgOwPDE/lusHbxFnI/qn0m0fN/wD44QSvm9pfCUX32FiftlWtBZX0NjOQ/O583gOdDrd0dJYVtyIU/YrvqHgK1pXIgvWhXLd7m/gkgN88zuOPI9to4Tiva+oP3bN3JdGNRvRu3kGhe/WJu9CK/o3vmHgO1rnIjr2JfuB+JSb+R7GOdB6AreM8txbZRvvDcZ5v+WkNRtyfWalfzdMausDq4dOM1AeyE4P9x8RzsADgawD2jfPcWwD8L4DLWrAShVYHcMU4z12HLFgfHOf5/E8cFb2dJ452nj6pL85+/uk/IgUK1mUA/rvx/K/e23I2gPcjO5F0eYuXpVBCZD+n+r/Gf4/+a9+HAHwPWbB+CuCx43wOf5fmiHuCl+a0v16pz7GihbmAvmDBArITubcD+C6Af0N2VvsTOP6PcGgSxbj4OdJHefFz+7EVd5WNdcR3NAoeLGoi78E6Il6iXzGx+0R2e5lR3l6moEoD2hvEutH3/lKEYbDyVahgHTG8gV8hGdFloehu7/tHQYbByldxg3VkvHiLZM+Cfi1b0Se97wsFGwYrX+0RrCPjxTehyNWhGTbWP7bi9npf+wIOg5Wv9gvWkcO3+WqhoL9+bhjpcwVY58IOg5Wvdg/W2HTgG6nOQXa51c+QXfH/ncb8F4CfABhGdoF789VGZ5lIV4WxO+B7XYs+DFa+OiZYR05HvVX9fmRnTB/udmTn1w03+zdbUBm5qHHboAKsY/GHwcpXhwbriHhttXFyV2ntduN7Y0/BTGQn/W456vEZyII12S2wT9wKPd3GWm3H+6r7HAYrX10QrF9PKPp5I3rn/Ghwoe8Nf4LORxam+456/JLG44834zcpS3JZO99X3ecwWPnqqmAdOfq0rdTfXRrQXt+LMIF3IQvTksavZwB4I4C/BfDPAM6ZzifvWTPUE4p7yP9atO8wWPnq4mA1Rtwr2Y0Kk3f2rBnq8b0gR/nVffm/hex60R81fr0VwNnT+cRBlL7diu7yvv3bfBisfDFYh4/oQRPpY0Z0GYpxQ8KdAL5x1GPnA/hHZBfRvuqYV0xiQWXkHBPpo963dYcMg5UvBmucCSM9YGPdWI7r16J//0mHoUm+D2DbcR4fQPYnrRtO5pPZqrvFin7Z97btpGGw8sVgncCEsdtnIvdxW3VXoTZ4ak5r04csSg+Ms26HALztRD5Rae12YyO32fd27MRhsPLFYJ3siO4JY/fnQZQsQW10VgvX5hpkUbr2qMdnIPuh+39i4jfJBZaOzgoleW8obr/37dahw2Dli8GaxoSiu61orVzRy1twXeN6ZMEqHfbYPACPIDvz/baJXlxem57XLfdV9zkMVr4YrKaN7jKRW98n9cXAoRnTWJPzkP2L4E+QBeuHjV9/C9ldK+sA3jruq1cPnxaI3ut/e3TD6BfnvmX5PgB3TGO96SQwWK0YcTtN7CpBpf7GJqzRoRP9wD6pLzax2+79++/QMZE+FsTD7wgrI6/J8WeZdBgGq+WjLoj1vtI6vWCKazR5sFYOnhFG6Qf8f6+dOrp1GutHTcRg5TmiasStNJIuPok1mjBYQZTc1O33VW/lGHErp3eIUTMxWD5H9PEw0veVo/TiCdbomGCVYrVh5N5jY028fw8dOmGkz3XI3T46CoNVrPmCjd0LNnKbrLgNVlyMRrCM1AeMpA8b0eECfJ2dPeL+xO9hSeNhsAo+aATL99fRFRO5zUG/lv0ekjQRBqvgAwar5RNKujsQd6PfQ5FOBINV8AGD1dIJYt1Y8FsM0WEYrIIPGKzWjLgXrdSv9nv40clisAo+YLCaP1Wt9Up9jt9Dj6aCwSr4gMFq3ohLs0unqF0xWAUfMFhNGH3ZREkFtdHZfg83mi4Gq+ADBmtaYyLd1ifuQr+HGTULg1XwAYM1pcnuGJvc1eJ7llHOGKyCDxiskx/Rzy6q7ljk9ciilmCwCj5gsE58JNkbVNIJb2xI7Y3BKviAwTqxidym+VHaLm+QS1PEYBV8wGBNPOJeKsV6vd/DiPLCYBV8wGBNMPrReVV3pt9DiPLEYBV8wGAdO+JetLG+2e+hQz4wWAUfMFhHjIn0AwV5V27ygMEq+IDBykZUJ7kzK3UBBqvgg24PlujBINb7sHp44jeNpa6wBMDSQPQeK1qzsW60kdtsRdVKstf7zsrp7mCJPs/7qtMJO2v18Ny+qrvEVt0tVvQj3nfgLhx0YbBCcfvDyL2nBe+mTV2lNjo7iPQaI+nDvnfqbhl0W7Ait7m0drvxvKdTx1k+8uryuvQ6I+6RMHYHvO/oHTrolmCJ+5Ktuls879XUDXqlPicQd6ON00021pe97/wdNOiCYJlIH11QGTnH825M3Whe1Z1pKu7WUPQzVtwrvg+Gdh90crBEdwVR+nbPuyxRpjSgvVaS5Vb0We8HR5sOOjRYobiHetYM9XjeRYmOr3f9zr5Qkvfa2L3g+2Bpp0GHBcuI7ixLcpnn3ZHoxNmqe60RvdtEus33AVT0QacES9wrVlyMFXq6592PaOpKA3pBIHqvjdV5P6gKOOiAYJlIty2ojFzkeVcjaq6gP/0tEyUVI7rT90FWlEEbByuM3QEjbiXvq04dr6/qLrGi66zoLt8HHoM1hVhF+lzQXz/X825ElLfazHJFL7eiD4aiu30fiAzWJCNur5VkOXBohucdh8izpaOzgihZEop7yIru8X5wMlhHxUqfDPq17HkvISqg2uCptuqusqIfC2O3z/vB2sXBCkV3G9FlnvcIojbRuCg7iHVj9gaa/g/ibglWEOvG0oD2et4DiNrUysEzzIAuM+I+ZUUP+j6gOzdYOmIr7irPq03UOXrWDPU07uX1ZLte14giBku01iv1OZ6Xl6hzlVdtOzsQvd2K2+L9gG/XYIlqn9QXe15Kou4yPxpcaKL0jlCSz3mPQBsEKxS330S6CrXNsz0vHVF3K68eDqy4FTZOtvqOUxGDZST5JE9VICqgINLXN96Qo+47VAUI1jO8qwJRm1gYJ28wUdpvRIe7Kliiz9p4B99VmahdlaP0Yisuzt4ivTODZSJ9jG//TtRhgkp6qY21asXlckcJtDJYontsrFW+Sw1RFygN6AU2Hn6/jd0zrTrPC00Plr5sxH2qHCXXoX//qzxvQiLyYW7/4Fll0ZsbF2Y37Yf2aEKwwkhHbawbA9Hby6u2ne15UxFR0fTURnvMQPr7geg9Nk43TfXuEjjZYIl+2UZus4n0A0GU3MR7UhHRlJQGtLdP3IVBZWipjZN3BqL3mEg/bEUft+K2WEmfN5HbbqJkhxX3Uhi7fTg8WKK7TOS2W9FnG9dKPmjj5C4juiyopJf2rt/Z5/lbJCIiIiIiIiIiIiIiIiIiIiIiIiIiIiIiIiIiIiIiIiIiIiIiIiIiIiIiIiIiapX/B4GyW/w9UsaYAAAAAElFTkSuQmCC",
       "scale": 47.5,
       "svg": "<?xml version=\"1.0\" standalone=\"no\"?><!DOCTYPE svg PUBLIC \"-//W3C//DTD SVG 1.1//EN\" \"http://www.w3.org/Graphics/SVG/1.1/DTD/svg11.dtd\"><svg xmlns=\"http://www.w3.org/2000/svg\" width=\"300\" height=\"200\" viewBox=\"0 0 300 200\"><g class=\"sankey\" transform=\"translate(30,10)\"><g class=\"groups\"/><g class=\"links\"><g class=\"link\" style=\"opacity: 0.8;\"><path d=\"M1,95 A84.40526315789472 84.40526315789472 0.32954890555438254 0 1 28.31491398324323,99.54198046276953 L92.55685746395824,121.51406952641142 A36.90526315789473 36.90526315789473 0.32954890555438254 0 0 104.5,123.5 L104.5,171 A84.40526315789472 84.40526315789472 0.32954890555438254 0 1 77.18508601675677,166.45801953723046 L12.943142536041748,144.48593047358858 A36.90526315789473 36.90526315789473 0.32954890555438254 0 0 1,142.5 Z\" style=\"fill: rgb(31, 119, 180);\"/><title>A → B\n1.00</title><text class=\"label\" dy=\"0.35em\" x=\"5\" y=\"118.75\"/></g><g class=\"link\" style=\"opacity: 0.8;\"><path d=\"M105.5,123.5 A14.84037081339713 14.84037081339713 0.5746201801979326 0 0 113.56597912562236,121.11661865533705 L175.11701041792813,81.26193829212752 A62.34037081339713 62.34037081339713 0.5746201801979326 0 1 209,71.25 L209,118.75 A14.84037081339713 14.84037081339713 0.5746201801979326 0 0 200.93402087437764,121.13338134466298 L139.38298958207187,160.98806170787248 A62.34037081339713 62.34037081339713 0.5746201801979326 0 1 105.5,171 Z\" style=\"fill: rgb(31, 119, 180);\"/><title>B → C\n1.00</title><text class=\"label\" dy=\"0.35em\" x=\"109.5\" y=\"147.25\"/></g><g class=\"link\" style=\"opacity: 0.8;\"><path d=\"M1,47.5 A36.90526315789473 36.90526315789473 0.32954890555438254 0 0 12.943142536041748,45.51406952641143 L77.18508601675677,23.541980462769526 A84.40526315789472 84.40526315789472 0.32954890555438254 0 1 104.5,19 L104.5,66.5 A36.90526315789473 36.90526315789473 0.32954890555438254 0 0 92.55685746395824,68.48593047358857 L28.31491398324323,90.45801953723047 A84.40526315789472 84.40526315789472 0.32954890555438254 0 1 1,95 Z\" style=\"fill: rgb(31, 119, 180);\"/><title>A → D\n1.00</title><text class=\"label\" dy=\"0.35em\" x=\"5\" y=\"71.25\"/></g></g><g class=\"nodes\"><g class=\"node\" transform=\"translate(104.5,123.5)\"><title>B</title><line x1=\"0\" x2=\"0\" y1=\"-5\" y2=\"47.5\" style=\"display: inline; stroke: rgb(0, 0, 0);\"/><rect class=\"node-body\" width=\"1\" height=\"47.5\" style=\"fill: none;\"/><text class=\"node-value\" dy=\".35em\" text-anchor=\"middle\" style=\"display: none;\" transform=\"translate(0.5,23.75) rotate(-90)\"/><text class=\"node-title\" dy=\".35em\" text-anchor=\"start\" transform=\"translate(-4,-10)\" style=\"display: inline;\">B</text><rect class=\"node-click-target\" x=\"-5\" y=\"-5\" width=\"10\" style=\"fill: none; visibility: hidden; pointer-events: all;\" height=\"52.5\"/></g><g class=\"node\" transform=\"translate(104.5,19)\"><title>D</title><line x1=\"0\" x2=\"0\" y1=\"0\" y2=\"47.5\" style=\"display: inline; stroke: rgb(0, 0, 0);\"/><rect class=\"node-body\" width=\"1\" height=\"47.5\" style=\"fill: none;\"/><text class=\"node-value\" dy=\".35em\" text-anchor=\"middle\" style=\"display: none;\" transform=\"translate(0.5,23.75) rotate(-90)\"/><text class=\"node-title\" dy=\".35em\" text-anchor=\"start\" transform=\"translate(5,23.75)\" style=\"display: inline;\">D</text><rect class=\"node-click-target\" x=\"-5\" y=\"-5\" width=\"10\" style=\"fill: none; visibility: hidden; pointer-events: all;\" height=\"52.5\"/></g><g class=\"node\" transform=\"translate(0,47.5)\"><title>A</title><line x1=\"0\" x2=\"0\" y1=\"0\" y2=\"95\" style=\"display: inline; stroke: rgb(0, 0, 0);\"/><rect class=\"node-body\" width=\"1\" height=\"95\" style=\"fill: none;\"/><text class=\"node-value\" dy=\".35em\" text-anchor=\"middle\" style=\"display: none;\" transform=\"translate(0.5,47.5) rotate(-90)\"/><text class=\"node-title\" dy=\".35em\" text-anchor=\"end\" transform=\"translate(-4,47.5)\" style=\"display: inline;\">A</text><rect class=\"node-click-target\" x=\"-5\" y=\"-5\" width=\"10\" style=\"fill: none; visibility: hidden; pointer-events: all;\" height=\"100\"/></g><g class=\"node\" transform=\"translate(209,71.25)\"><title>C</title><line x1=\"0\" x2=\"0\" y1=\"0\" y2=\"47.5\" style=\"display: inline; stroke: rgb(0, 0, 0);\"/><rect class=\"node-body\" width=\"1\" height=\"47.5\" style=\"fill: none;\"/><text class=\"node-value\" dy=\".35em\" text-anchor=\"middle\" style=\"display: none;\" transform=\"translate(0.5,23.75) rotate(-90)\"/><text class=\"node-title\" dy=\".35em\" text-anchor=\"start\" transform=\"translate(5,23.75)\" style=\"display: inline;\">C</text><rect class=\"node-click-target\" x=\"-5\" y=\"-5\" width=\"10\" style=\"fill: none; visibility: hidden; pointer-events: all;\" height=\"52.5\"/></g></g><g class=\"slice-titles\"/></g></svg>"
      }
     },
     "f892f1aaba74439e84d058c96232861a": {
      "model_module": "@jupyter-widgets/controls",
      "model_module_version": "1.2.0",
      "model_name": "ButtonStyleModel",
      "state": {}
     }
    },
    "version_major": 2,
    "version_minor": 0
   }
  }
 },
 "nbformat": 4,
 "nbformat_minor": 1
}
